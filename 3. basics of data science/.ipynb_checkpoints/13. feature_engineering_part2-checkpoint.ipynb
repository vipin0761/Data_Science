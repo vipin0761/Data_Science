{
 "cells": [
  {
   "cell_type": "markdown",
   "id": "1996ed14-25d5-4e67-9167-aff25bc63bb7",
   "metadata": {},
   "source": [
    "### Feature Scaling\n",
    "\n",
    "##### 1. standardization\n",
    "done with z-score"
   ]
  },
  {
   "cell_type": "code",
   "execution_count": null,
   "id": "9791f101-3e49-43a4-b10d-81286b7d29ae",
   "metadata": {},
   "outputs": [],
   "source": []
  }
 ],
 "metadata": {
  "kernelspec": {
   "display_name": "Python [conda env:base] *",
   "language": "python",
   "name": "conda-base-py"
  },
  "language_info": {
   "codemirror_mode": {
    "name": "ipython",
    "version": 3
   },
   "file_extension": ".py",
   "mimetype": "text/x-python",
   "name": "python",
   "nbconvert_exporter": "python",
   "pygments_lexer": "ipython3",
   "version": "3.12.7"
  }
 },
 "nbformat": 4,
 "nbformat_minor": 5
}
