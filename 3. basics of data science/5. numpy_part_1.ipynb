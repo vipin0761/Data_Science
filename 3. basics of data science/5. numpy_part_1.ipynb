{
 "cells": [
  {
   "cell_type": "markdown",
   "id": "2ba9aa65",
   "metadata": {
    "colab_type": "text",
    "id": "view-in-github"
   },
   "source": [
    "<a href=\"https://colab.research.google.com/github/vipin0761/Data_Science/blob/main/3.%20basics%20of%20data%20science/5.%20numpy_part_1.ipynb\" target=\"_parent\"><img src=\"https://colab.research.google.com/assets/colab-badge.svg\" alt=\"Open In Colab\"/></a>"
   ]
  },
  {
   "cell_type": "code",
   "execution_count": null,
   "id": "bb5f01f5-4f36-4e90-a4f1-24b7d3889725",
   "metadata": {
    "id": "bb5f01f5-4f36-4e90-a4f1-24b7d3889725"
   },
   "outputs": [],
   "source": [
    "import numpy as np"
   ]
  },
  {
   "cell_type": "code",
   "execution_count": null,
   "id": "6857265b-0124-4fec-aee0-74c0b0c105f7",
   "metadata": {
    "id": "6857265b-0124-4fec-aee0-74c0b0c105f7"
   },
   "outputs": [],
   "source": [
    "ar = np.array([1,2,3,4]) # convert a list into a array\n",
    "np.asarray([1,2,3,4])\n",
    "p.asanyarray([1,2,3,4])"
   ]
  },
  {
   "cell_type": "code",
   "execution_count": null,
   "id": "b6cddc4f-d960-4925-a553-623b0a8ff541",
   "metadata": {
    "id": "b6cddc4f-d960-4925-a553-623b0a8ff541"
   },
   "outputs": [],
   "source": [
    "b = np.matrix([1,2,3]) # converts it into a 2-D array"
   ]
  },
  {
   "cell_type": "code",
   "execution_count": null,
   "id": "6017d819-96e2-4627-aa03-92899e0683d1",
   "metadata": {
    "id": "6017d819-96e2-4627-aa03-92899e0683d1"
   },
   "outputs": [],
   "source": [
    "d = np.copy(a) # copy array by value rather than by reference"
   ]
  },
  {
   "cell_type": "code",
   "execution_count": null,
   "id": "ecb07af1-ae2b-4e17-85d0-11260b35f4c1",
   "metadata": {
    "id": "ecb07af1-ae2b-4e17-85d0-11260b35f4c1",
    "outputId": "5cd479cb-b4d0-48a3-a771-205f2883da8b"
   },
   "outputs": [
    {
     "data": {
      "text/plain": [
       "array([[ True, False, False],\n",
       "       [False,  True, False],\n",
       "       [False, False,  True]])"
      ]
     },
     "execution_count": 30,
     "metadata": {},
     "output_type": "execute_result"
    }
   ],
   "source": [
    "np.fromfunction(lambda i, j : i==j , (3,3)) # generating arrays from functions"
   ]
  },
  {
   "cell_type": "code",
   "execution_count": null,
   "id": "t8tGfjoz3kRj",
   "metadata": {
    "id": "t8tGfjoz3kRj"
   },
   "outputs": [],
   "source": [
    "np.fromfunction(lambda i, j : i*j , (3,3))"
   ]
  },
  {
   "cell_type": "code",
   "execution_count": null,
   "id": "f7920ace-5c90-45a6-9e84-0de6c0c2fee8",
   "metadata": {
    "colab": {
     "base_uri": "https://localhost:8080/"
    },
    "id": "f7920ace-5c90-45a6-9e84-0de6c0c2fee8",
    "outputId": "7804a586-02df-4f79-d11e-03e7c15011b2"
   },
   "outputs": [
    {
     "data": {
      "text/plain": [
       "array([ 0.,  1.,  4.,  9., 16.])"
      ]
     },
     "execution_count": 2,
     "metadata": {},
     "output_type": "execute_result"
    }
   ],
   "source": [
    "iterable = (i*i for i in range(5)) # generating array from iterable\n",
    "np.fromiter(iterable,float)"
   ]
  },
  {
   "cell_type": "code",
   "execution_count": null,
   "id": "c2478390-df95-48b1-a255-9fdc9a65b24b",
   "metadata": {
    "id": "c2478390-df95-48b1-a255-9fdc9a65b24b",
    "outputId": "01bb2fea-c630-4488-b752-0935a4751525"
   },
   "outputs": [
    {
     "data": {
      "text/plain": [
       "array([234., 234.])"
      ]
     },
     "execution_count": 36,
     "metadata": {},
     "output_type": "execute_result"
    }
   ],
   "source": [
    "np.fromstring('234 234' , sep= ' ') # generating array from string"
   ]
  },
  {
   "cell_type": "markdown",
   "id": "s2ialLAt4hiX",
   "metadata": {
    "id": "s2ialLAt4hiX"
   },
   "source": [
    "### Numpy - Data Types."
   ]
  },
  {
   "cell_type": "code",
   "execution_count": null,
   "id": "bf598728-6398-4991-baa6-18a0b34b48f6",
   "metadata": {
    "id": "bf598728-6398-4991-baa6-18a0b34b48f6"
   },
   "outputs": [],
   "source": [
    "ar = np.array([[1,2,3,4] , [2,3,4,5]])"
   ]
  },
  {
   "cell_type": "code",
   "execution_count": null,
   "id": "aa9b5aa2-6c7a-4805-9130-b75a6456991c",
   "metadata": {
    "colab": {
     "base_uri": "https://localhost:8080/"
    },
    "id": "aa9b5aa2-6c7a-4805-9130-b75a6456991c",
    "outputId": "4321254a-72f5-45e5-dad6-aa772269baa6"
   },
   "outputs": [
    {
     "data": {
      "text/plain": [
       "(2, 4)"
      ]
     },
     "execution_count": 5,
     "metadata": {},
     "output_type": "execute_result"
    }
   ],
   "source": [
    "ar.ndim # tells you the no. of dimensions of the matrix\n",
    "ar.size # tells you the no of elements in the matrix\n",
    "ar.dtype # data type of elements of matrix\n",
    "ar.shape # tells you the (rows, columns)"
   ]
  },
  {
   "cell_type": "code",
   "execution_count": null,
   "id": "05eba3b5-9bc9-4e65-a96a-bbd458c50253",
   "metadata": {
    "colab": {
     "base_uri": "https://localhost:8080/"
    },
    "id": "05eba3b5-9bc9-4e65-a96a-bbd458c50253",
    "outputId": "e721c232-7f53-4fb0-8c21-1a66cc573382"
   },
   "outputs": [
    {
     "data": {
      "text/plain": [
       "array([2.3, 2.4, 2.5, 2.6, 2.7, 2.8, 2.9, 3. , 3.1, 3.2, 3.3])"
      ]
     },
     "execution_count": 8,
     "metadata": {},
     "output_type": "execute_result"
    }
   ],
   "source": [
    "np.arange(2.3,3.4, 0.1) # arange can take float values while range cannot"
   ]
  },
  {
   "cell_type": "code",
   "execution_count": null,
   "id": "69fd7045-e1f9-4832-80f3-5428d4c6f507",
   "metadata": {
    "id": "69fd7045-e1f9-4832-80f3-5428d4c6f507",
    "outputId": "3b00745a-0393-4c79-f4b6-633ae076693e"
   },
   "outputs": [
    {
     "data": {
      "text/plain": [
       "array([1.        , 1.44444444, 1.88888889, 2.33333333, 2.77777778,\n",
       "       3.22222222, 3.66666667, 4.11111111, 4.55555556, 5.        ])"
      ]
     },
     "execution_count": 65,
     "metadata": {},
     "output_type": "execute_result"
    }
   ],
   "source": [
    "np.linspace(1,5,10) # produces n elements in between a particular interval -- linspace(start, end, n)"
   ]
  },
  {
   "cell_type": "code",
   "execution_count": null,
   "id": "tKJeXgIr-vTi",
   "metadata": {
    "colab": {
     "base_uri": "https://localhost:8080/"
    },
    "id": "tKJeXgIr-vTi",
    "outputId": "44cdc553-f654-4c96-b240-71fc11a4490c"
   },
   "outputs": [
    {
     "data": {
      "text/plain": [
       "array([ 4.        ,  5.0396842 ,  6.34960421,  8.        , 10.0793684 ,\n",
       "       12.69920842, 16.        , 20.1587368 , 25.39841683, 32.        ])"
      ]
     },
     "execution_count": 13,
     "metadata": {},
     "output_type": "execute_result"
    }
   ],
   "source": [
    "np.logspace(2,5 , 10, base = 2) # generates the logs of n elements in between a particular interval  --- linspace(start, end, n, base=b)"
   ]
  },
  {
   "cell_type": "code",
   "execution_count": null,
   "id": "9840e771-f84c-43a4-bc1e-c948bd5545f7",
   "metadata": {
    "id": "9840e771-f84c-43a4-bc1e-c948bd5545f7",
    "outputId": "b6600464-9d97-4a3d-d212-c53299eac7c5"
   },
   "outputs": [
    {
     "data": {
      "text/plain": [
       "array([0., 0., 0., 0., 0.])"
      ]
     },
     "execution_count": 66,
     "metadata": {},
     "output_type": "execute_result"
    }
   ],
   "source": [
    "np.zeros(5)"
   ]
  },
  {
   "cell_type": "code",
   "execution_count": null,
   "id": "8bccecd9-e2bd-45df-9a23-282ba8140ea9",
   "metadata": {
    "id": "8bccecd9-e2bd-45df-9a23-282ba8140ea9",
    "outputId": "8265848d-1114-4d62-af5d-81b42924cd16"
   },
   "outputs": [
    {
     "data": {
      "text/plain": [
       "array([[[0., 0.],\n",
       "        [0., 0.],\n",
       "        [0., 0.],\n",
       "        [0., 0.]],\n",
       "\n",
       "       [[0., 0.],\n",
       "        [0., 0.],\n",
       "        [0., 0.],\n",
       "        [0., 0.]],\n",
       "\n",
       "       [[0., 0.],\n",
       "        [0., 0.],\n",
       "        [0., 0.],\n",
       "        [0., 0.]]])"
      ]
     },
     "execution_count": 68,
     "metadata": {},
     "output_type": "execute_result"
    }
   ],
   "source": [
    "np.ones(4) # similar method to create array of one's\n",
    "np.zeros((3,4,2))"
   ]
  },
  {
   "cell_type": "code",
   "execution_count": null,
   "id": "2f752447-cfed-44b9-b77e-08c29d2b1ab3",
   "metadata": {
    "colab": {
     "base_uri": "https://localhost:8080/"
    },
    "id": "2f752447-cfed-44b9-b77e-08c29d2b1ab3",
    "outputId": "1c0b8838-cacb-45cf-837f-39ea64eaed52"
   },
   "outputs": [
    {
     "data": {
      "text/plain": [
       "array([6., 6., 6., 6.])"
      ]
     },
     "execution_count": 9,
     "metadata": {},
     "output_type": "execute_result"
    }
   ],
   "source": [
    "on = np.ones(4)\n",
    "on + 5\n"
   ]
  },
  {
   "cell_type": "code",
   "execution_count": null,
   "id": "d96a21e9-9536-48c2-abb1-8baf5122e228",
   "metadata": {
    "colab": {
     "base_uri": "https://localhost:8080/"
    },
    "id": "d96a21e9-9536-48c2-abb1-8baf5122e228",
    "outputId": "d6fb6dc0-54e7-4847-b6be-b235d26ac150"
   },
   "outputs": [
    {
     "data": {
      "text/plain": [
       "array([[1., 0.],\n",
       "       [0., 1.]])"
      ]
     },
     "execution_count": 12,
     "metadata": {},
     "output_type": "execute_result"
    }
   ],
   "source": [
    "np.empty((3,4)) # creates an empty array\n",
    "np.eye(2) # identity matrix"
   ]
  },
  {
   "cell_type": "code",
   "execution_count": null,
   "id": "aee8101d-4b08-41f6-89c6-bc73c8c54e3a",
   "metadata": {
    "id": "aee8101d-4b08-41f6-89c6-bc73c8c54e3a"
   },
   "outputs": [],
   "source": [
    "arr = np.random.randn(3,4) # generates random numbers based on standard normal distribution\n",
    "np.random.rand(3,4) # generates random numbers\n",
    "np.random.randint(1,110 , (3,4)) # generat random intergers within a range"
   ]
  },
  {
   "cell_type": "code",
   "execution_count": null,
   "id": "443822b9-b252-4be8-a3f7-590d97616a29",
   "metadata": {
    "colab": {
     "base_uri": "https://localhost:8080/"
    },
    "id": "443822b9-b252-4be8-a3f7-590d97616a29",
    "outputId": "9edfb7ab-a073-45c7-85a6-9f3a027a09c7"
   },
   "outputs": [
    {
     "data": {
      "text/plain": [
       "array([[0.25227869, 0.17260962],\n",
       "       [0.75186594, 0.14098546],\n",
       "       [0.78671403, 0.30848691],\n",
       "       [0.1883532 , 0.6161819 ],\n",
       "       [0.01503523, 0.52411934],\n",
       "       [0.78788764, 0.60524717]])"
      ]
     },
     "execution_count": 15,
     "metadata": {},
     "output_type": "execute_result"
    }
   ],
   "source": [
    "arr = np.random.rand(3,4)\n",
    "arr.reshape(6,-1) # reshape array"
   ]
  },
  {
   "cell_type": "code",
   "execution_count": null,
   "id": "a56fc792-c12a-409f-85bb-b997ec848ee7",
   "metadata": {
    "id": "a56fc792-c12a-409f-85bb-b997ec848ee7"
   },
   "outputs": [],
   "source": [
    "arr = np.random.randint(1,100 , (5,5))"
   ]
  },
  {
   "cell_type": "code",
   "execution_count": null,
   "id": "7aad19ec-6d3f-480d-aa0c-df4ca1291733",
   "metadata": {
    "id": "7aad19ec-6d3f-480d-aa0c-df4ca1291733",
    "outputId": "92c006d8-15e6-497b-c4cd-775d986cde75"
   },
   "outputs": [
    {
     "data": {
      "text/plain": [
       "array([83, 56, 55, 78, 72, 68, 86, 75, 89, 91, 52, 51])"
      ]
     },
     "execution_count": 119,
     "metadata": {},
     "output_type": "execute_result"
    }
   ],
   "source": [
    "arr[arr>50] # filter all elements  > 50"
   ]
  },
  {
   "cell_type": "code",
   "execution_count": null,
   "id": "041505cb-20f5-447c-b058-0d62f2f472e7",
   "metadata": {
    "id": "041505cb-20f5-447c-b058-0d62f2f472e7",
    "outputId": "f4447cba-0379-4a96-b384-6b8e24a17ad1"
   },
   "outputs": [
    {
     "data": {
      "text/plain": [
       "array([[49, 86],\n",
       "       [52, 13]])"
      ]
     },
     "execution_count": 121,
     "metadata": {},
     "output_type": "execute_result"
    }
   ],
   "source": [
    "arr[2:4 , [1,2]] # row and column slicing"
   ]
  },
  {
   "cell_type": "markdown",
   "id": "PeR11_TXMjib",
   "metadata": {
    "id": "PeR11_TXMjib"
   },
   "source": [
    "### NumPy Array Indexing"
   ]
  },
  {
   "cell_type": "code",
   "execution_count": null,
   "id": "94eZtFMlMkGu",
   "metadata": {
    "id": "94eZtFMlMkGu"
   },
   "outputs": [],
   "source": [
    "# Slicing array\n",
    "temp = arr[:2, ::2]\n",
    "\n",
    "# Integer array indexing example\n",
    "temp = arr[[0, 1, 2, 3], [3, 2, 1, 0]]\n",
    "\n",
    "# boolean array indexing example\n",
    "cond = arr > 0 # cond is a boolean array\n",
    "temp = arr[cond]"
   ]
  },
  {
   "cell_type": "markdown",
   "id": "h1wuwhWPM4Ko",
   "metadata": {
    "id": "h1wuwhWPM4Ko"
   },
   "source": [
    "### NumPy – Unary Operators"
   ]
  },
  {
   "cell_type": "code",
   "execution_count": null,
   "id": "bS94edEGM7On",
   "metadata": {
    "id": "bS94edEGM7On"
   },
   "outputs": [],
   "source": [
    "arr.max()\n",
    "arr.max(axis = 1)\n",
    "arr.min(axis = 0)\n",
    "arr.sum()\n",
    "arr.cumsum(axis = 1)"
   ]
  },
  {
   "cell_type": "markdown",
   "id": "EVtJV9NZNHJa",
   "metadata": {
    "id": "EVtJV9NZNHJa"
   },
   "source": [
    "### NumPy – Binary Operators"
   ]
  },
  {
   "cell_type": "code",
   "execution_count": null,
   "id": "e6KpOAqlNHhm",
   "metadata": {
    "id": "e6KpOAqlNHhm"
   },
   "outputs": [],
   "source": [
    "# add arrays\n",
    "print (\"Array sum:\\n\", a + b)\n",
    "\n",
    "# multiply arrays (elementwise multiplication)\n",
    "print (\"Array multiplication:\\n\", a*b)\n",
    "\n",
    "# matrix multiplication\n",
    "print (\"Matrix multiplication:\\n\", a.dot(b))"
   ]
  },
  {
   "cell_type": "markdown",
   "id": "BTqgYvYBNeen",
   "metadata": {
    "id": "BTqgYvYBNeen"
   },
   "source": [
    "### NymPy’s ufuncs"
   ]
  },
  {
   "cell_type": "code",
   "execution_count": null,
   "id": "1UVU7hirNe8K",
   "metadata": {
    "id": "1UVU7hirNe8K"
   },
   "outputs": [],
   "source": [
    "np.sin(a)\n",
    "np.exp(a)\n",
    "np.sqrt(a)"
   ]
  },
  {
   "cell_type": "markdown",
   "id": "iTXQ7EQlYR77",
   "metadata": {
    "id": "iTXQ7EQlYR77"
   },
   "source": [
    "### operations on array"
   ]
  },
  {
   "cell_type": "code",
   "execution_count": null,
   "id": "c9b54bc7-a24f-428a-963e-22d7f06de522",
   "metadata": {
    "id": "c9b54bc7-a24f-428a-963e-22d7f06de522"
   },
   "outputs": [],
   "source": [
    "arr1 = np.random.randint(1,3 , (3,3))\n",
    "arr2 = np.random.randint(1,3 , (3,3))\n",
    "arr1+arr2\n",
    "arr1-arr2\n",
    "arr1/arr2\n",
    "arr1 * arr2\n",
    "arr1@arr2 # matrix multiplication\n",
    "arr1/0\n",
    "arr1 +100\n",
    "arr1**2"
   ]
  },
  {
   "cell_type": "markdown",
   "id": "zE6ksVthYbTJ",
   "metadata": {
    "id": "zE6ksVthYbTJ"
   },
   "source": [
    "### Numpy – Broadcasting."
   ]
  },
  {
   "cell_type": "code",
   "execution_count": null,
   "id": "578eed9d-f5fb-4484-8fd3-3496760bbf7e",
   "metadata": {
    "colab": {
     "base_uri": "https://localhost:8080/"
    },
    "id": "578eed9d-f5fb-4484-8fd3-3496760bbf7e",
    "outputId": "9c77af8a-b539-4934-b52d-7e538a7ffcc5"
   },
   "outputs": [
    {
     "data": {
      "text/plain": [
       "array([[1., 2., 3., 4.],\n",
       "       [1., 2., 3., 4.],\n",
       "       [1., 2., 3., 4.],\n",
       "       [1., 2., 3., 4.]])"
      ]
     },
     "execution_count": 22,
     "metadata": {},
     "output_type": "execute_result"
    }
   ],
   "source": [
    "arr =np.zeros((4,4))  # perform broadcasting row wise\n",
    "row = np.array([1,2,3,4])\n",
    "arr + row"
   ]
  },
  {
   "cell_type": "code",
   "execution_count": null,
   "id": "2426c44c-356f-469e-bffc-228861927a38",
   "metadata": {
    "colab": {
     "base_uri": "https://localhost:8080/"
    },
    "id": "2426c44c-356f-469e-bffc-228861927a38",
    "outputId": "960e4251-2513-4b5a-fb91-0407e1a8aa1b"
   },
   "outputs": [
    {
     "data": {
      "text/plain": [
       "array([[1., 1., 1., 1.],\n",
       "       [2., 2., 2., 2.],\n",
       "       [3., 3., 3., 3.],\n",
       "       [4., 4., 4., 4.]])"
      ]
     },
     "execution_count": 23,
     "metadata": {},
     "output_type": "execute_result"
    }
   ],
   "source": [
    "col = np.array([[1,2,3,4]]) # perform broadcasting column wise\n",
    "col.T + arr"
   ]
  },
  {
   "cell_type": "markdown",
   "id": "fylTJR7QZM7L",
   "metadata": {
    "id": "fylTJR7QZM7L"
   },
   "source": [
    "### Mathematical functions on array"
   ]
  },
  {
   "cell_type": "code",
   "execution_count": null,
   "id": "e68aec4e-63a2-46fa-b9e8-912183489fc7",
   "metadata": {
    "id": "e68aec4e-63a2-46fa-b9e8-912183489fc7"
   },
   "outputs": [],
   "source": [
    " arr1 = np.random.randint(1,4 , (3,4))"
   ]
  },
  {
   "cell_type": "code",
   "execution_count": null,
   "id": "0b3dc448-a57f-4e7d-8e8a-e6318a6330d3",
   "metadata": {
    "colab": {
     "base_uri": "https://localhost:8080/"
    },
    "id": "0b3dc448-a57f-4e7d-8e8a-e6318a6330d3",
    "outputId": "2b392afa-ab56-4a6a-fbaa-ef656ef20c3a"
   },
   "outputs": [
    {
     "data": {
      "text/plain": [
       "array([[1.        , 1.73205081, 1.41421356, 1.41421356],\n",
       "       [1.73205081, 1.        , 1.73205081, 1.41421356],\n",
       "       [1.        , 1.41421356, 1.41421356, 1.        ]])"
      ]
     },
     "execution_count": 26,
     "metadata": {},
     "output_type": "execute_result"
    }
   ],
   "source": [
    "np.sin(arr1)\n",
    "np.sqrt(arr1)"
   ]
  },
  {
   "cell_type": "code",
   "execution_count": null,
   "id": "1li3t12YZW9L",
   "metadata": {
    "id": "1li3t12YZW9L"
   },
   "outputs": [],
   "source": [
    "np.exp(arr1)\n",
    "np.log10(arr1)\n",
    "# Transpose of Array\n",
    "Trans_arr = arr1.T"
   ]
  }
 ],
 "metadata": {
  "colab": {
   "include_colab_link": true,
   "provenance": []
  },
  "kernelspec": {
   "display_name": "Python [conda env:base] *",
   "language": "python",
   "name": "conda-base-py"
  },
  "language_info": {
   "codemirror_mode": {
    "name": "ipython",
    "version": 3
   },
   "file_extension": ".py",
   "mimetype": "text/x-python",
   "name": "python",
   "nbconvert_exporter": "python",
   "pygments_lexer": "ipython3",
   "version": "3.12.7"
  }
 },
 "nbformat": 4,
 "nbformat_minor": 5
}
