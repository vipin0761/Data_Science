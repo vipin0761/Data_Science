{
 "cells": [
  {
   "cell_type": "code",
   "execution_count": 22,
   "id": "a0e0b64d-4b87-4297-8356-77f2bb0a46f1",
   "metadata": {},
   "outputs": [
    {
     "data": {
      "text/html": [
       "<div>\n",
       "<style scoped>\n",
       "    .dataframe tbody tr th:only-of-type {\n",
       "        vertical-align: middle;\n",
       "    }\n",
       "\n",
       "    .dataframe tbody tr th {\n",
       "        vertical-align: top;\n",
       "    }\n",
       "\n",
       "    .dataframe thead th {\n",
       "        text-align: right;\n",
       "    }\n",
       "</style>\n",
       "<table border=\"1\" class=\"dataframe\">\n",
       "  <thead>\n",
       "    <tr style=\"text-align: right;\">\n",
       "      <th></th>\n",
       "      <th>survived</th>\n",
       "      <th>pclass</th>\n",
       "      <th>sex</th>\n",
       "      <th>age</th>\n",
       "      <th>sibsp</th>\n",
       "      <th>parch</th>\n",
       "      <th>fare</th>\n",
       "      <th>embarked</th>\n",
       "      <th>class</th>\n",
       "      <th>who</th>\n",
       "      <th>adult_male</th>\n",
       "      <th>deck</th>\n",
       "      <th>embark_town</th>\n",
       "      <th>alive</th>\n",
       "      <th>alone</th>\n",
       "    </tr>\n",
       "  </thead>\n",
       "  <tbody>\n",
       "    <tr>\n",
       "      <th>0</th>\n",
       "      <td>0</td>\n",
       "      <td>3</td>\n",
       "      <td>male</td>\n",
       "      <td>22.0</td>\n",
       "      <td>1</td>\n",
       "      <td>0</td>\n",
       "      <td>7.2500</td>\n",
       "      <td>S</td>\n",
       "      <td>Third</td>\n",
       "      <td>man</td>\n",
       "      <td>True</td>\n",
       "      <td>NaN</td>\n",
       "      <td>Southampton</td>\n",
       "      <td>no</td>\n",
       "      <td>False</td>\n",
       "    </tr>\n",
       "    <tr>\n",
       "      <th>1</th>\n",
       "      <td>1</td>\n",
       "      <td>1</td>\n",
       "      <td>female</td>\n",
       "      <td>38.0</td>\n",
       "      <td>1</td>\n",
       "      <td>0</td>\n",
       "      <td>71.2833</td>\n",
       "      <td>C</td>\n",
       "      <td>First</td>\n",
       "      <td>woman</td>\n",
       "      <td>False</td>\n",
       "      <td>C</td>\n",
       "      <td>Cherbourg</td>\n",
       "      <td>yes</td>\n",
       "      <td>False</td>\n",
       "    </tr>\n",
       "    <tr>\n",
       "      <th>2</th>\n",
       "      <td>1</td>\n",
       "      <td>3</td>\n",
       "      <td>female</td>\n",
       "      <td>26.0</td>\n",
       "      <td>0</td>\n",
       "      <td>0</td>\n",
       "      <td>7.9250</td>\n",
       "      <td>S</td>\n",
       "      <td>Third</td>\n",
       "      <td>woman</td>\n",
       "      <td>False</td>\n",
       "      <td>NaN</td>\n",
       "      <td>Southampton</td>\n",
       "      <td>yes</td>\n",
       "      <td>True</td>\n",
       "    </tr>\n",
       "    <tr>\n",
       "      <th>3</th>\n",
       "      <td>1</td>\n",
       "      <td>1</td>\n",
       "      <td>female</td>\n",
       "      <td>35.0</td>\n",
       "      <td>1</td>\n",
       "      <td>0</td>\n",
       "      <td>53.1000</td>\n",
       "      <td>S</td>\n",
       "      <td>First</td>\n",
       "      <td>woman</td>\n",
       "      <td>False</td>\n",
       "      <td>C</td>\n",
       "      <td>Southampton</td>\n",
       "      <td>yes</td>\n",
       "      <td>False</td>\n",
       "    </tr>\n",
       "    <tr>\n",
       "      <th>4</th>\n",
       "      <td>0</td>\n",
       "      <td>3</td>\n",
       "      <td>male</td>\n",
       "      <td>35.0</td>\n",
       "      <td>0</td>\n",
       "      <td>0</td>\n",
       "      <td>8.0500</td>\n",
       "      <td>S</td>\n",
       "      <td>Third</td>\n",
       "      <td>man</td>\n",
       "      <td>True</td>\n",
       "      <td>NaN</td>\n",
       "      <td>Southampton</td>\n",
       "      <td>no</td>\n",
       "      <td>True</td>\n",
       "    </tr>\n",
       "  </tbody>\n",
       "</table>\n",
       "</div>"
      ],
      "text/plain": [
       "   survived  pclass     sex   age  sibsp  parch     fare embarked  class  \\\n",
       "0         0       3    male  22.0      1      0   7.2500        S  Third   \n",
       "1         1       1  female  38.0      1      0  71.2833        C  First   \n",
       "2         1       3  female  26.0      0      0   7.9250        S  Third   \n",
       "3         1       1  female  35.0      1      0  53.1000        S  First   \n",
       "4         0       3    male  35.0      0      0   8.0500        S  Third   \n",
       "\n",
       "     who  adult_male deck  embark_town alive  alone  \n",
       "0    man        True  NaN  Southampton    no  False  \n",
       "1  woman       False    C    Cherbourg   yes  False  \n",
       "2  woman       False  NaN  Southampton   yes   True  \n",
       "3  woman       False    C  Southampton   yes  False  \n",
       "4    man        True  NaN  Southampton    no   True  "
      ]
     },
     "execution_count": 22,
     "metadata": {},
     "output_type": "execute_result"
    }
   ],
   "source": [
    "import seaborn as sns\n",
    "import pandas as pd\n",
    "df = sns.load_dataset('titanic')\n",
    "df.head()"
   ]
  },
  {
   "cell_type": "markdown",
   "id": "05bf171d-864e-4717-85cb-75ec4ca21bc6",
   "metadata": {},
   "source": [
    "### check missing values"
   ]
  },
  {
   "cell_type": "code",
   "execution_count": 27,
   "id": "d51b1f19-04cb-4621-b0f1-50f66db1b17f",
   "metadata": {},
   "outputs": [
    {
     "data": {
      "text/plain": [
       "survived         0\n",
       "pclass           0\n",
       "sex              0\n",
       "age            177\n",
       "sibsp            0\n",
       "parch            0\n",
       "fare             0\n",
       "embarked         2\n",
       "class            0\n",
       "who              0\n",
       "adult_male       0\n",
       "deck           688\n",
       "embark_town      2\n",
       "alive            0\n",
       "alone            0\n",
       "dtype: int64"
      ]
     },
     "execution_count": 27,
     "metadata": {},
     "output_type": "execute_result"
    }
   ],
   "source": [
    "df.isnull().sum() # shows count of null values"
   ]
  },
  {
   "cell_type": "code",
   "execution_count": 29,
   "id": "82725678-c70c-4763-abde-ab5e9902573c",
   "metadata": {},
   "outputs": [
    {
     "data": {
      "text/plain": [
       "<Axes: >"
      ]
     },
     "execution_count": 29,
     "metadata": {},
     "output_type": "execute_result"
    },
    {
     "data": {
      "image/png": "[encoded data removed]",
      "text/plain": [
       "<Figure size 640x480 with 2 Axes>"
      ]
     },
     "metadata": {},
     "output_type": "display_data"
    }
   ],
   "source": [
    "sns.heatmap(df.isnull()) # heatmap of null values"
   ]
  },
  {
   "cell_type": "markdown",
   "id": "16ff1353-d0c8-435a-8272-bf546d82de59",
   "metadata": {},
   "source": [
    "### handling missing values"
   ]
  },
  {
   "cell_type": "code",
   "execution_count": null,
   "id": "e914d24a-dad7-4155-9842-c6d51c16a7b5",
   "metadata": {},
   "outputs": [],
   "source": [
    "#1. delete rows with missing values\n",
    "df.dropna()\n",
    "\n",
    "#2 delete columns with missing values\n",
    "df.dropna(axis=1)\n",
    "\n",
    "#3 mean Imputation (works well when data is normally distrubuted)\n",
    "df['Age_mean'] = df['age'].fillna(df['age'].mean())\n",
    "\n",
    "#4 median value imputation (works well with dataset with outliers)\n",
    "df['Age_median'] = df['age'].fillna(df['age'].median())\n",
    "\n",
    "#5 mode value imputation (works well wit categorical data)\n",
    "mode = df[df['age'].notna()]['embarked'].mode()[0]\n",
    "\n",
    "df['embarked_mode'] = df['embarked'].fillna(mode)"
   ]
  },
  {
   "cell_type": "markdown",
   "id": "5321aad7-f016-4e80-aee9-3e00e4b42418",
   "metadata": {},
   "source": [
    "### Handling imbalanced dataset\n",
    "\n",
    "This is to handle imbalanced distribution of categorical data."
   ]
  },
  {
   "cell_type": "code",
   "execution_count": 36,
   "id": "59406883-c2ce-4fe1-8913-88393bfe4289",
   "metadata": {},
   "outputs": [],
   "source": [
    "\n",
    "\n",
    "import pandas as pd\n",
    "import numpy as np\n"
   ]
  },
  {
   "cell_type": "code",
   "execution_count": 44,
   "id": "f58187ed-7459-4e4b-a9bd-39bab20c8abd",
   "metadata": {},
   "outputs": [
    {
     "data": {
      "text/plain": [
       "(100, 900)"
      ]
     },
     "execution_count": 44,
     "metadata": {},
     "output_type": "execute_result"
    }
   ],
   "source": [
    "# set the random seed for reproducibility\n",
    "np.random.seed(123) \n",
    "\n",
    "# create a data frame with two classes\n",
    "n_samples = 1000\n",
    "class_0_ratio = 0.9\n",
    "n_class_0 = int(n_samples * class_0_ratio)\n",
    "n_class_1 = n_samples - n_class_0\n",
    "n_class_1, n_class_0"
   ]
  },
  {
   "cell_type": "code",
   "execution_count": 60,
   "id": "c1c46027-1c50-498e-8c35-f6afd720c773",
   "metadata": {},
   "outputs": [
    {
     "data": {
      "text/plain": [
       "target\n",
       "0    900\n",
       "1    100\n",
       "Name: count, dtype: int64"
      ]
     },
     "execution_count": 60,
     "metadata": {},
     "output_type": "execute_result"
    }
   ],
   "source": [
    "class_0 = pd.DataFrame({\n",
    "    'feature_1': np.random.normal(loc=0, scale=1, size=n_class_0),\n",
    "    'feature_2': np.random.normal(loc=0, scale=1, size=n_class_0),\n",
    "    'target': [0] * n_class_0\n",
    "})\n",
    "class_1 = pd.DataFrame({\n",
    "    'feature_1': np.random.normal(loc=0, scale=1, size=n_class_1),\n",
    "    'feature_2': np.random.normal(loc=0, scale=1, size=n_class_1),\n",
    "    'target': [1] * n_class_1\n",
    "})\n",
    "df = pd.concat([class_0,class_1]).reset_index(drop=True)\n",
    "df['target'].value_counts()"
   ]
  },
  {
   "cell_type": "markdown",
   "id": "3150722b-ef58-4890-b86a-b8d490dd57bc",
   "metadata": {},
   "source": [
    "#### 1. Upsampling "
   ]
  },
  {
   "cell_type": "code",
   "execution_count": 74,
   "id": "8910bbf8-6126-4216-8ccc-fdab09c23f56",
   "metadata": {},
   "outputs": [],
   "source": [
    "df_minority = df[df['target']==1]\n",
    "df_majority = df[df['target']==0]"
   ]
  },
  {
   "cell_type": "code",
   "execution_count": null,
   "id": "e91fb97d-d425-4730-96b6-910d1b1446a9",
   "metadata": {},
   "outputs": [
    {
     "data": {
      "text/plain": [
       "(900, 3)"
      ]
     },
     "execution_count": 80,
     "metadata": {},
     "output_type": "execute_result"
    }
   ],
   "source": [
    "# perform upsampling\n",
    "from sklearn.utils import resample\n",
    "\n",
    "df_monirity_upsample = resample(df_minority,\n",
    "                                replace=True, # sample with replacement\n",
    "                                n_samples=len(df_majority), # to match the majority class\n",
    "                                random_state = 42\n",
    "                               )\n",
    "df_monirity_upsample.shape"
   ]
  },
  {
   "cell_type": "code",
   "execution_count": 84,
   "id": "ccccb7d5-8e22-4905-b2c4-8addd1971845",
   "metadata": {},
   "outputs": [
    {
     "data": {
      "text/plain": [
       "target\n",
       "0    900\n",
       "1    900\n",
       "Name: count, dtype: int64"
      ]
     },
     "execution_count": 84,
     "metadata": {},
     "output_type": "execute_result"
    }
   ],
   "source": [
    "df_upsampled = pd.concat([df_majority,df_monirity_upsample])\n",
    "df_upsampled['target'].value_counts()"
   ]
  },
  {
   "cell_type": "markdown",
   "id": "a61f975a-b89f-4c8d-82d5-90ba3f38d8b0",
   "metadata": {},
   "source": [
    "#### 2. Downsampling"
   ]
  },
  {
   "cell_type": "code",
   "execution_count": 90,
   "id": "f41dca9d-900d-46e9-91d7-31ae28089b46",
   "metadata": {},
   "outputs": [
    {
     "data": {
      "text/plain": [
       "(100, 3)"
      ]
     },
     "execution_count": 90,
     "metadata": {},
     "output_type": "execute_result"
    }
   ],
   "source": [
    "# perform downsampling\n",
    "from sklearn.utils import resample\n",
    "\n",
    "df_majority_downsample = resample(df_majority,\n",
    "                                replace=False, # sample without replacement\n",
    "                                n_samples=len(df_minority), # to match the majority class\n",
    "                                random_state = 42\n",
    "                               )\n",
    "df_majority_downsample.shape"
   ]
  },
  {
   "cell_type": "code",
   "execution_count": null,
   "id": "1419a1e1-5af3-4913-9ed6-f68305f0ea7a",
   "metadata": {},
   "outputs": [
    {
     "data": {
      "text/plain": [
       "target\n",
       "0    100\n",
       "1    100\n",
       "Name: count, dtype: int64"
      ]
     },
     "execution_count": 92,
     "metadata": {},
     "output_type": "execute_result"
    }
   ],
   "source": [
    "df_downsampled = pd.concat([df_majority_downsample,df_minority])\n",
    "df_downsampled['target'].value_counts()"
   ]
  },
  {
   "cell_type": "markdown",
   "id": "9e4b4bb5-9db2-4588-ae2e-dcc471a55e7a",
   "metadata": {},
   "source": [
    "#### 3. SMOTE (Synthetic Minority Oversampling Technique)\n",
    "\n",
    "It is a technique used in machine learning to address imbalanced datasets where the minority class has significantly fewer instances \n",
    "than the majority class. SMOTE involves generating synthetic instances of the minority class by interpolating between existing instances\n",
    "\n",
    "it produces new data by connecting the nearest existing minority data points and creating new data points along the line. "
   ]
  },
  {
   "cell_type": "code",
   "execution_count": 2,
   "id": "c52c4237-7203-4537-b583-1be7fcb533a9",
   "metadata": {},
   "outputs": [],
   "source": [
    "from sklearn.datasets import make_classification\n"
   ]
  },
  {
   "cell_type": "code",
   "execution_count": 4,
   "id": "e4028788-ebb7-4a93-b21a-4977d99b6456",
   "metadata": {},
   "outputs": [],
   "source": [
    "# x is independent feature\n",
    "# y is dependent feature\n",
    "\n",
    "x,y = make_classification(n_samples=1000,n_features=2,n_clusters_per_class=1,weights=[0.90],random_state=1,n_redundant=0)"
   ]
  },
  {
   "cell_type": "code",
   "execution_count": 6,
   "id": "0b04bacd-6b18-4172-9819-1e0c216b24a2",
   "metadata": {},
   "outputs": [
    {
     "data": {
      "text/plain": [
       "target\n",
       "0    894\n",
       "1    106\n",
       "Name: count, dtype: int64"
      ]
     },
     "execution_count": 6,
     "metadata": {},
     "output_type": "execute_result"
    }
   ],
   "source": [
    "import pandas as pd\n",
    "df1 = pd.DataFrame(x,columns=['f1','f2'])\n",
    "df2 = pd.DataFrame(y,columns=['target'])\n",
    "final_df = pd.concat([df1,df2],axis=1)\n",
    "final_df['target'].value_counts()"
   ]
  },
  {
   "cell_type": "code",
   "execution_count": 8,
   "id": "c53ceb6e-218a-4e57-bed6-207618637eca",
   "metadata": {},
   "outputs": [
    {
     "data": {
      "text/plain": [
       "<matplotlib.collections.PathCollection at 0x1c011731a90>"
      ]
     },
     "execution_count": 8,
     "metadata": {},
     "output_type": "execute_result"
    },
    {
     "data": {
      "image/png": "[encoded data removed]",
      "text/plain": [
       "<Figure size 640x480 with 1 Axes>"
      ]
     },
     "metadata": {},
     "output_type": "display_data"
    }
   ],
   "source": [
    "import matplotlib.pyplot as plt\n",
    "plt.scatter(final_df['f1'],final_df['f2'],c=final_df['target'])"
   ]
  },
  {
   "cell_type": "code",
   "execution_count": 14,
   "id": "26b5d78d-3f5e-43c0-93cd-7ae58701e185",
   "metadata": {},
   "outputs": [],
   "source": [
    "from imblearn.over_sampling import SMOTE\n",
    "# transform the dataset\n",
    "oversample = SMOTE()\n",
    "x,y = oversample.fit_resample(final_df[['f1','f2']],final_df['target'])"
   ]
  },
  {
   "cell_type": "code",
   "execution_count": 26,
   "id": "ad592254-4ef0-4128-baf4-0b2200579719",
   "metadata": {},
   "outputs": [
    {
     "data": {
      "text/plain": [
       "target\n",
       "1    894\n",
       "0    894\n",
       "Name: count, dtype: int64"
      ]
     },
     "execution_count": 26,
     "metadata": {},
     "output_type": "execute_result"
    }
   ],
   "source": [
    "df1 = pd.DataFrame(x,columns=['f1','f2'])\n",
    "df2 = pd.DataFrame(y,columns=['target'])\n",
    "oversampled_df = pd.concat([df1,df2],axis=1)\n",
    "oversampled_df['target'].value_counts()\n"
   ]
  },
  {
   "cell_type": "markdown",
   "id": "873a7a4e-6255-4a19-bd19-3046332c8b83",
   "metadata": {},
   "source": [
    "### 4. Data Interpolation\n",
    "Data interpolation is the process of estimating unknown values within a dataset based on the known values. In Python, there are various libraries available that can be used for data interpolation, such as NumPy, SciPy and Pandas.\n",
    "\n",
    "#### 4.1 Linear Interpolation"
   ]
  },
  {
   "cell_type": "code",
   "execution_count": 31,
   "id": "66b73e8a-3207-46c5-a6a8-64e38ef8113c",
   "metadata": {},
   "outputs": [
    {
     "name": "stdout",
     "output_type": "stream",
     "text": [
      "[ 2.          2.88888889  3.77777778  4.66666667  5.55555556  6.44444444\n",
      "  7.33333333  8.22222222  9.11111111 10.        ]\n"
     ]
    }
   ],
   "source": [
    "import numpy as np\n",
    "x = np.array([1,2,3,4,5])\n",
    "y = np.array([2,4,6,8,10])\n",
    "\n",
    "# interpolate the data using linear interpolation in numpy\n",
    "x_new = np.linspace(1,5,10) # create new x values\n",
    "y_interp = np.interp(x_new,x,y) # interpolate y values\n",
    "print(y_interp)"
   ]
  },
  {
   "cell_type": "markdown",
   "id": "db5f6cc3-5dd1-47b7-bbd5-ee627e79b050",
   "metadata": {},
   "source": [
    "#### 4.2 Cubic Interpolation with scipy"
   ]
  },
  {
   "cell_type": "code",
   "execution_count": 39,
   "id": "bbc5011d-9e0a-46a3-9b01-420e28574c52",
   "metadata": {},
   "outputs": [
    {
     "name": "stdout",
     "output_type": "stream",
     "text": [
      "[  1.           3.01371742   6.739369    12.7037037   21.43347051\n",
      "  33.45541838  49.2962963   69.48285322  94.54183813 125.        ]\n"
     ]
    }
   ],
   "source": [
    "import numpy as np\n",
    "x = np.array([1,2,3,4,5])\n",
    "y = np.array([1,8,27,64,125])\n",
    "\n",
    "from scipy.interpolate import interp1d\n",
    "\n",
    "# interpolate the data using cubic interpolation\n",
    "f = interp1d(x,y,kind='cubic') # create a cubic interpolation function\n",
    "x_new = np.linspace(1,5,10) # create new x values\n",
    "y_interp = f(x_new) # interpolate y values\n",
    "print(y_interp)"
   ]
  },
  {
   "cell_type": "markdown",
   "id": "7e7c4ebe-845b-44ed-ada5-baa76d0ccb36",
   "metadata": {},
   "source": [
    "#### 4.3 Polynomial Interpolation"
   ]
  },
  {
   "cell_type": "code",
   "execution_count": 43,
   "id": "090d88d2-4b8a-488e-a7a8-02daf5190f3d",
   "metadata": {},
   "outputs": [
    {
     "name": "stdout",
     "output_type": "stream",
     "text": [
      "[ 1.          1.85881217  3.51099934  5.57613169  7.82985317 10.20388152\n",
      " 12.78600823 15.82009856 19.70609155 25.        ]\n"
     ]
    }
   ],
   "source": [
    "import numpy as np\n",
    "x = np.array([1,2,3,4,5])\n",
    "y = np.array([1,4,9,15,25])\n",
    "\n",
    "# interpolate the data using polynomial interpolation\n",
    "p = np.polyfit(x,y,4) # fit a 2nd degree ppolynomial to the data\n",
    "x_new = np.linspace(1,5,10) # create new x values\n",
    "y_interp = np.polyval(p,x_new) # interpolate y values\n",
    "print(y_interp)"
   ]
  },
  {
   "cell_type": "markdown",
   "id": "fafec6db-eac7-4a07-ac5a-3b1c6b33c0a0",
   "metadata": {},
   "source": [
    "### Handling outliers\n",
    "\n",
    "### 5 number summary\n",
    "1. minimum\n",
    "2. first Quartile Q1\n",
    "3. Median\n",
    "4. Third Quartile Q3\n",
    "5. Maximum\n",
    "\n",
    "lower fence = Q1 - 1.5 * IQR\n",
    "\n",
    "higher fence = Q3 + 1.5 * IQR\n",
    "\n",
    "IQR = Q3 - Q1"
   ]
  },
  {
   "cell_type": "code",
   "execution_count": 57,
   "id": "9c56fbf8-b3d9-40a5-bc40-0b4ff85a9724",
   "metadata": {},
   "outputs": [
    {
     "data": {
      "text/plain": [
       "(0.375, 143.375)"
      ]
     },
     "execution_count": 57,
     "metadata": {},
     "output_type": "execute_result"
    }
   ],
   "source": [
    "import numpy as np\n",
    "marks = [45,32,56,75,89,54,32,89,90,87,54,45,98,99,67,74,1000,1100]\n",
    "# Q1 = np.percentile(marks,[25])\n",
    "# Q2 = np.percentile(marks,[75])\n",
    "# med = np.percentile(marks,[50])\n",
    "# minimum = np.percentile(marks,[0])\n",
    "minimum,Q1,med,Q3,maximum = np.quantile(marks,[0,.25,.50,.75,1])\n",
    "IQR = Q3-Q1\n",
    "lower_fence = Q1-1.5*IQR\n",
    "higher_fence = Q3+1.5*IQR\n",
    "lower_fence,higher_fence"
   ]
  },
  {
   "cell_type": "markdown",
   "id": "bdfd106c-1a66-4403-bf7d-cb8e5433510a",
   "metadata": {},
   "source": [
    "### boxplot for outliers"
   ]
  },
  {
   "cell_type": "code",
   "execution_count": 61,
   "id": "174cc883-8128-44f8-ad42-b986bc7ad527",
   "metadata": {},
   "outputs": [
    {
     "data": {
      "text/plain": [
       "<Axes: >"
      ]
     },
     "execution_count": 61,
     "metadata": {},
     "output_type": "execute_result"
    },
    {
     "data": {
      "image/png": "[encoded data removed]",
      "text/plain": [
       "<Figure size 640x480 with 1 Axes>"
      ]
     },
     "metadata": {},
     "output_type": "display_data"
    }
   ],
   "source": [
    "import seaborn as sns\n",
    "sns.boxplot(marks)"
   ]
  },
  {
   "cell_type": "code",
   "execution_count": null,
   "id": "ab8bbcdf-e71b-4101-bdfb-9d75ba768b93",
   "metadata": {},
   "outputs": [],
   "source": []
  }
 ],
 "metadata": {
  "kernelspec": {
   "display_name": "Python [conda env:base] *",
   "language": "python",
   "name": "conda-base-py"
  },
  "language_info": {
   "codemirror_mode": {
    "name": "ipython",
    "version": 3
   },
   "file_extension": ".py",
   "mimetype": "text/x-python",
   "name": "python",
   "nbconvert_exporter": "python",
   "pygments_lexer": "ipython3",
   "version": "3.12.7"
  }
 },
 "nbformat": 4,
 "nbformat_minor": 5
}
