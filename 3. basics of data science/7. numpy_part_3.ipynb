{
 "cells": [
  {
   "cell_type": "markdown",
   "id": "2cac5aba",
   "metadata": {
    "colab_type": "text",
    "id": "view-in-github"
   },
   "source": [
    "<a href=\"https://colab.research.google.com/github/vipin0761/Data_Science/blob/main/3.%20basics%20of%20data%20science/7.%20numpy_part_3.ipynb\" target=\"_parent\"><img src=\"https://colab.research.google.com/assets/colab-badge.svg\" alt=\"Open In Colab\"/></a>"
   ]
  },
  {
   "cell_type": "markdown",
   "id": "F6OjCiXqBis2",
   "metadata": {
    "id": "F6OjCiXqBis2"
   },
   "source": [
    "###Sort, Search & Counting Functions."
   ]
  },
  {
   "cell_type": "code",
   "execution_count": null,
   "id": "edc9e295-4992-447d-b0fe-6c825ab0c251",
   "metadata": {
    "id": "edc9e295-4992-447d-b0fe-6c825ab0c251"
   },
   "outputs": [],
   "source": [
    "import numpy as np"
   ]
  },
  {
   "cell_type": "code",
   "execution_count": null,
   "id": "3df26a48-811b-4090-86eb-091ceab11c87",
   "metadata": {
    "id": "3df26a48-811b-4090-86eb-091ceab11c87"
   },
   "outputs": [],
   "source": [
    "arr = np.array([4,3,4,5,6,72,3,3,455,5,6,6])"
   ]
  },
  {
   "cell_type": "code",
   "execution_count": null,
   "id": "R17bn8IgBtYv",
   "metadata": {
    "colab": {
     "base_uri": "https://localhost:8080/"
    },
    "id": "R17bn8IgBtYv",
    "outputId": "d5874d8c-c70c-41f9-88f8-3d023b96a33d"
   },
   "outputs": [
    {
     "data": {
      "text/plain": [
       "(array([5, 8]),)"
      ]
     },
     "execution_count": 3,
     "metadata": {},
     "output_type": "execute_result"
    }
   ],
   "source": [
    "np.sort(arr)\n",
    "np.searchsorted(arr ,34)\n",
    "np.count_nonzero(arr)\n",
    "np.where(arr > 6)\n",
    "np.extract(arr>3 , arr)"
   ]
  },
  {
   "cell_type": "code",
   "execution_count": null,
   "id": "o5UL2FzyFwl_",
   "metadata": {
    "id": "o5UL2FzyFwl_"
   },
   "outputs": [],
   "source": [
    "# print union of the two arrays\n",
    "print(\"Union of two arrays :\", np.union1d(arr1, arr2))"
   ]
  },
  {
   "cell_type": "markdown",
   "id": "GzCBzOizCCMI",
   "metadata": {
    "id": "GzCBzOizCCMI"
   },
   "source": [
    "###Numpy - Byte Swapping."
   ]
  },
  {
   "cell_type": "code",
   "execution_count": null,
   "id": "34ade5f2-16d6-4416-8e55-a174283eaf93",
   "metadata": {
    "colab": {
     "base_uri": "https://localhost:8080/"
    },
    "id": "34ade5f2-16d6-4416-8e55-a174283eaf93",
    "outputId": "d8972c4a-17f4-4219-8e68-7acea69cd514"
   },
   "outputs": [
    {
     "data": {
      "text/plain": [
       "array([  4,   3,   4,   5,   6,  72,   3,   3, 455,   5,   6,   6])"
      ]
     },
     "execution_count": 4,
     "metadata": {},
     "output_type": "execute_result"
    }
   ],
   "source": [
    "arr"
   ]
  },
  {
   "cell_type": "code",
   "execution_count": null,
   "id": "80e0692d-74d1-49d1-b262-6567a73dc04a",
   "metadata": {
    "colab": {
     "base_uri": "https://localhost:8080/"
    },
    "id": "80e0692d-74d1-49d1-b262-6567a73dc04a",
    "outputId": "0c932c76-d5a1-462c-95ee-1f0cb2eb2088"
   },
   "outputs": [
    {
     "data": {
      "text/plain": [
       "array([  288230376151711744,   216172782113783808,   288230376151711744,\n",
       "         360287970189639680,   432345564227567616,  5188146770730811392,\n",
       "         216172782113783808,   216172782113783808, -4107001385185181696,\n",
       "         360287970189639680,   432345564227567616,   432345564227567616])"
      ]
     },
     "execution_count": 5,
     "metadata": {},
     "output_type": "execute_result"
    }
   ],
   "source": [
    "arr.byteswap()"
   ]
  },
  {
   "cell_type": "markdown",
   "id": "mWap0iBhJx3q",
   "metadata": {
    "id": "mWap0iBhJx3q"
   },
   "source": [
    "### trim zeros"
   ]
  },
  {
   "cell_type": "code",
   "execution_count": null,
   "id": "2k6Db7xfJ0_o",
   "metadata": {
    "id": "2k6Db7xfJ0_o"
   },
   "outputs": [],
   "source": [
    "gfg = geek.array((0, 0, 0, 0, 1, 5, 7, 0, 6, 2, 9, 0, 10, 0, 0))\n",
    "\n",
    "\n",
    "# returns an array without leading and trailing zeros\n",
    "res = geek.trim_zeros(gfg)\n",
    "\n",
    "# returns an array without any leading  zeros\n",
    "res = geek.trim_zeros(gfg, 'f')\n",
    "\n",
    "# returns an array without any trailing  zeros\n",
    "res = geek.trim_zeros(gfg, 'b')"
   ]
  },
  {
   "cell_type": "markdown",
   "id": "61YE98gwCK9n",
   "metadata": {
    "id": "61YE98gwCK9n"
   },
   "source": [
    "###Numpy - Copies &Views."
   ]
  },
  {
   "cell_type": "code",
   "execution_count": null,
   "id": "5fe66ca0-4b5d-4fd3-bbcc-57c6aea85808",
   "metadata": {
    "id": "5fe66ca0-4b5d-4fd3-bbcc-57c6aea85808"
   },
   "outputs": [],
   "source": [
    "a = np.copy(arr) # deep copy\n",
    "b = arr.view() # shalllow copy"
   ]
  },
  {
   "cell_type": "markdown",
   "id": "xN29j01WCVtc",
   "metadata": {
    "id": "xN29j01WCVtc"
   },
   "source": [
    "###Numpy - Matrix Library."
   ]
  },
  {
   "cell_type": "code",
   "execution_count": null,
   "id": "c88de0e4-8e91-4c17-9c2c-b03799c45452",
   "metadata": {
    "id": "c88de0e4-8e91-4c17-9c2c-b03799c45452"
   },
   "outputs": [],
   "source": [
    "import numpy.matlib as nm"
   ]
  },
  {
   "cell_type": "code",
   "execution_count": null,
   "id": "b1fd0920-6849-4e30-97c4-a8d663a6c248",
   "metadata": {
    "colab": {
     "base_uri": "https://localhost:8080/"
    },
    "id": "b1fd0920-6849-4e30-97c4-a8d663a6c248",
    "outputId": "16a8da7f-9a7d-43e2-b56e-c747e4e2fd67"
   },
   "outputs": [
    {
     "data": {
      "text/plain": [
       "matrix([[0., 0., 0., 0., 0.]])"
      ]
     },
     "execution_count": 8,
     "metadata": {},
     "output_type": "execute_result"
    }
   ],
   "source": [
    "nm.zeros(5)"
   ]
  },
  {
   "cell_type": "code",
   "execution_count": null,
   "id": "02ea015d-707b-401f-a298-6f47b111f893",
   "metadata": {
    "id": "02ea015d-707b-401f-a298-6f47b111f893",
    "outputId": "957ed0c2-c73a-466c-e7b0-9f12ab95ba27"
   },
   "outputs": [
    {
     "data": {
      "text/plain": [
       "matrix([[1., 1., 1., 1.],\n",
       "        [1., 1., 1., 1.],\n",
       "        [1., 1., 1., 1.]])"
      ]
     },
     "execution_count": 30,
     "metadata": {},
     "output_type": "execute_result"
    }
   ],
   "source": [
    "nm.ones((3,4))"
   ]
  },
  {
   "cell_type": "code",
   "execution_count": null,
   "id": "19d2adbf-e996-4f0d-b3dc-28d3d5849514",
   "metadata": {
    "id": "19d2adbf-e996-4f0d-b3dc-28d3d5849514",
    "outputId": "d436c572-9e03-4db7-ed9f-3110cb33fae1"
   },
   "outputs": [
    {
     "data": {
      "text/plain": [
       "matrix([[1., 0., 0., 0., 0.],\n",
       "        [0., 1., 0., 0., 0.],\n",
       "        [0., 0., 1., 0., 0.],\n",
       "        [0., 0., 0., 1., 0.],\n",
       "        [0., 0., 0., 0., 1.]])"
      ]
     },
     "execution_count": 31,
     "metadata": {},
     "output_type": "execute_result"
    }
   ],
   "source": [
    "nm.eye(5)"
   ]
  },
  {
   "cell_type": "markdown",
   "id": "yIU2yZpgCewz",
   "metadata": {
    "id": "yIU2yZpgCewz"
   },
   "source": [
    "###Numpy - Linear Algebra"
   ]
  },
  {
   "cell_type": "code",
   "execution_count": null,
   "id": "51c3cada-96bf-4b5f-b937-a4782dc8d48a",
   "metadata": {
    "id": "51c3cada-96bf-4b5f-b937-a4782dc8d48a"
   },
   "outputs": [],
   "source": [
    "arr1 = np.random.randint([[2,3] , [4,5]])\n",
    "arr2 = np.random.randint([[5,3] , [2,5]])"
   ]
  },
  {
   "cell_type": "code",
   "execution_count": null,
   "id": "18112620-e2a8-4e9a-884b-db6298f457a7",
   "metadata": {
    "colab": {
     "base_uri": "https://localhost:8080/"
    },
    "id": "18112620-e2a8-4e9a-884b-db6298f457a7",
    "outputId": "b0676487-afd4-4cf9-adec-6898ae23251e"
   },
   "outputs": [
    {
     "data": {
      "text/plain": [
       "array([[ 7,  8],\n",
       "       [12, 15]])"
      ]
     },
     "execution_count": 11,
     "metadata": {},
     "output_type": "execute_result"
    }
   ],
   "source": [
    "np.dot(arr1,arr2) # dot product of matrix\n",
    "arr1@arr1"
   ]
  }
 ],
 "metadata": {
  "colab": {
   "include_colab_link": true,
   "provenance": []
  },
  "kernelspec": {
   "display_name": "Python [conda env:base] *",
   "language": "python",
   "name": "conda-base-py"
  },
  "language_info": {
   "codemirror_mode": {
    "name": "ipython",
    "version": 3
   },
   "file_extension": ".py",
   "mimetype": "text/x-python",
   "name": "python",
   "nbconvert_exporter": "python",
   "pygments_lexer": "ipython3",
   "version": "3.12.7"
  }
 },
 "nbformat": 4,
 "nbformat_minor": 5
}
