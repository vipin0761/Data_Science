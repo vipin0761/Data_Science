{
  "cells": [
    {
      "cell_type": "markdown",
      "metadata": {
        "id": "view-in-github",
        "colab_type": "text"
      },
      "source": [
        "<a href=\"https://colab.research.google.com/github/vipin0761/Data_Science/blob/main/3.%20basics%20of%20data%20science/7.%20numpy_part_3.ipynb\" target=\"_parent\"><img src=\"https://colab.research.google.com/assets/colab-badge.svg\" alt=\"Open In Colab\"/></a>"
      ]
    },
    {
      "cell_type": "markdown",
      "source": [
        "###Sort, Search & Counting Functions."
      ],
      "metadata": {
        "id": "F6OjCiXqBis2"
      },
      "id": "F6OjCiXqBis2"
    },
    {
      "cell_type": "code",
      "execution_count": null,
      "id": "edc9e295-4992-447d-b0fe-6c825ab0c251",
      "metadata": {
        "id": "edc9e295-4992-447d-b0fe-6c825ab0c251"
      },
      "outputs": [],
      "source": [
        "import numpy as np"
      ]
    },
    {
      "cell_type": "code",
      "execution_count": null,
      "id": "3df26a48-811b-4090-86eb-091ceab11c87",
      "metadata": {
        "id": "3df26a48-811b-4090-86eb-091ceab11c87"
      },
      "outputs": [],
      "source": [
        "arr = np.array([4,3,4,5,6,72,3,3,455,5,6,6])"
      ]
    },
    {
      "cell_type": "code",
      "source": [
        "np.sort(arr)\n",
        "np.searchsorted(arr ,34)\n",
        "np.count_nonzero(arr)\n",
        "np.where(arr > 6)\n",
        "np.extract(arr>3 , arr)"
      ],
      "metadata": {
        "colab": {
          "base_uri": "https://localhost:8080/"
        },
        "id": "R17bn8IgBtYv",
        "outputId": "d5874d8c-c70c-41f9-88f8-3d023b96a33d"
      },
      "id": "R17bn8IgBtYv",
      "execution_count": null,
      "outputs": [
        {
          "output_type": "execute_result",
          "data": {
            "text/plain": [
              "(array([5, 8]),)"
            ]
          },
          "metadata": {},
          "execution_count": 3
        }
      ]
    },
    {
      "cell_type": "markdown",
      "source": [
        "###Numpy - Byte Swapping."
      ],
      "metadata": {
        "id": "GzCBzOizCCMI"
      },
      "id": "GzCBzOizCCMI"
    },
    {
      "cell_type": "code",
      "execution_count": null,
      "id": "34ade5f2-16d6-4416-8e55-a174283eaf93",
      "metadata": {
        "colab": {
          "base_uri": "https://localhost:8080/"
        },
        "id": "34ade5f2-16d6-4416-8e55-a174283eaf93",
        "outputId": "d8972c4a-17f4-4219-8e68-7acea69cd514"
      },
      "outputs": [
        {
          "output_type": "execute_result",
          "data": {
            "text/plain": [
              "array([  4,   3,   4,   5,   6,  72,   3,   3, 455,   5,   6,   6])"
            ]
          },
          "metadata": {},
          "execution_count": 4
        }
      ],
      "source": [
        "arr"
      ]
    },
    {
      "cell_type": "code",
      "execution_count": null,
      "id": "80e0692d-74d1-49d1-b262-6567a73dc04a",
      "metadata": {
        "colab": {
          "base_uri": "https://localhost:8080/"
        },
        "id": "80e0692d-74d1-49d1-b262-6567a73dc04a",
        "outputId": "0c932c76-d5a1-462c-95ee-1f0cb2eb2088"
      },
      "outputs": [
        {
          "output_type": "execute_result",
          "data": {
            "text/plain": [
              "array([  288230376151711744,   216172782113783808,   288230376151711744,\n",
              "         360287970189639680,   432345564227567616,  5188146770730811392,\n",
              "         216172782113783808,   216172782113783808, -4107001385185181696,\n",
              "         360287970189639680,   432345564227567616,   432345564227567616])"
            ]
          },
          "metadata": {},
          "execution_count": 5
        }
      ],
      "source": [
        "arr.byteswap()"
      ]
    },
    {
      "cell_type": "markdown",
      "source": [
        "###Numpy - Copies &Views."
      ],
      "metadata": {
        "id": "61YE98gwCK9n"
      },
      "id": "61YE98gwCK9n"
    },
    {
      "cell_type": "code",
      "execution_count": null,
      "id": "5fe66ca0-4b5d-4fd3-bbcc-57c6aea85808",
      "metadata": {
        "id": "5fe66ca0-4b5d-4fd3-bbcc-57c6aea85808"
      },
      "outputs": [],
      "source": [
        "a = np.copy(arr) # deep copy\n",
        "b = arr.view() # shalllow copy"
      ]
    },
    {
      "cell_type": "markdown",
      "source": [
        "###Numpy - Matrix Library."
      ],
      "metadata": {
        "id": "xN29j01WCVtc"
      },
      "id": "xN29j01WCVtc"
    },
    {
      "cell_type": "code",
      "execution_count": null,
      "id": "c88de0e4-8e91-4c17-9c2c-b03799c45452",
      "metadata": {
        "id": "c88de0e4-8e91-4c17-9c2c-b03799c45452"
      },
      "outputs": [],
      "source": [
        "import numpy.matlib as nm"
      ]
    },
    {
      "cell_type": "code",
      "execution_count": null,
      "id": "b1fd0920-6849-4e30-97c4-a8d663a6c248",
      "metadata": {
        "colab": {
          "base_uri": "https://localhost:8080/"
        },
        "id": "b1fd0920-6849-4e30-97c4-a8d663a6c248",
        "outputId": "16a8da7f-9a7d-43e2-b56e-c747e4e2fd67"
      },
      "outputs": [
        {
          "output_type": "execute_result",
          "data": {
            "text/plain": [
              "matrix([[0., 0., 0., 0., 0.]])"
            ]
          },
          "metadata": {},
          "execution_count": 8
        }
      ],
      "source": [
        "nm.zeros(5)"
      ]
    },
    {
      "cell_type": "code",
      "execution_count": null,
      "id": "02ea015d-707b-401f-a298-6f47b111f893",
      "metadata": {
        "id": "02ea015d-707b-401f-a298-6f47b111f893",
        "outputId": "957ed0c2-c73a-466c-e7b0-9f12ab95ba27"
      },
      "outputs": [
        {
          "data": {
            "text/plain": [
              "matrix([[1., 1., 1., 1.],\n",
              "        [1., 1., 1., 1.],\n",
              "        [1., 1., 1., 1.]])"
            ]
          },
          "execution_count": 30,
          "metadata": {},
          "output_type": "execute_result"
        }
      ],
      "source": [
        "nm.ones((3,4))"
      ]
    },
    {
      "cell_type": "code",
      "execution_count": null,
      "id": "19d2adbf-e996-4f0d-b3dc-28d3d5849514",
      "metadata": {
        "id": "19d2adbf-e996-4f0d-b3dc-28d3d5849514",
        "outputId": "d436c572-9e03-4db7-ed9f-3110cb33fae1"
      },
      "outputs": [
        {
          "data": {
            "text/plain": [
              "matrix([[1., 0., 0., 0., 0.],\n",
              "        [0., 1., 0., 0., 0.],\n",
              "        [0., 0., 1., 0., 0.],\n",
              "        [0., 0., 0., 1., 0.],\n",
              "        [0., 0., 0., 0., 1.]])"
            ]
          },
          "execution_count": 31,
          "metadata": {},
          "output_type": "execute_result"
        }
      ],
      "source": [
        "nm.eye(5)"
      ]
    },
    {
      "cell_type": "markdown",
      "source": [
        "###Numpy - Linear Algebra"
      ],
      "metadata": {
        "id": "yIU2yZpgCewz"
      },
      "id": "yIU2yZpgCewz"
    },
    {
      "cell_type": "code",
      "execution_count": null,
      "id": "51c3cada-96bf-4b5f-b937-a4782dc8d48a",
      "metadata": {
        "id": "51c3cada-96bf-4b5f-b937-a4782dc8d48a"
      },
      "outputs": [],
      "source": [
        "arr1 = np.random.randint([[2,3] , [4,5]])\n",
        "arr2 = np.random.randint([[5,3] , [2,5]])"
      ]
    },
    {
      "cell_type": "code",
      "execution_count": null,
      "id": "18112620-e2a8-4e9a-884b-db6298f457a7",
      "metadata": {
        "colab": {
          "base_uri": "https://localhost:8080/"
        },
        "id": "18112620-e2a8-4e9a-884b-db6298f457a7",
        "outputId": "b0676487-afd4-4cf9-adec-6898ae23251e"
      },
      "outputs": [
        {
          "output_type": "execute_result",
          "data": {
            "text/plain": [
              "array([[ 7,  8],\n",
              "       [12, 15]])"
            ]
          },
          "metadata": {},
          "execution_count": 11
        }
      ],
      "source": [
        "np.dot(arr1,arr2) # dot product of matrix\n",
        "arr1@arr1"
      ]
    }
  ],
  "metadata": {
    "kernelspec": {
      "display_name": "Python 3 (ipykernel)",
      "language": "python",
      "name": "python3"
    },
    "language_info": {
      "codemirror_mode": {
        "name": "ipython",
        "version": 3
      },
      "file_extension": ".py",
      "mimetype": "text/x-python",
      "name": "python",
      "nbconvert_exporter": "python",
      "pygments_lexer": "ipython3",
      "version": "3.10.8"
    },
    "colab": {
      "provenance": [],
      "include_colab_link": true
    }
  },
  "nbformat": 4,
  "nbformat_minor": 5
}