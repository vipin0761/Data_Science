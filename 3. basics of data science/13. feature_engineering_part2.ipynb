{
 "cells": [
  {
   "cell_type": "markdown",
   "id": "1996ed14-25d5-4e67-9167-aff25bc63bb7",
   "metadata": {},
   "source": [
    "### Feature Scaling\n",
    "\n",
    "##### 1. Standardization\n",
    "done with z-score"
   ]
  },
  {
   "cell_type": "code",
   "execution_count": 2,
   "id": "9791f101-3e49-43a4-b10d-81286b7d29ae",
   "metadata": {},
   "outputs": [
    {
     "data": {
      "text/html": [
       "<div>\n",
       "<style scoped>\n",
       "    .dataframe tbody tr th:only-of-type {\n",
       "        vertical-align: middle;\n",
       "    }\n",
       "\n",
       "    .dataframe tbody tr th {\n",
       "        vertical-align: top;\n",
       "    }\n",
       "\n",
       "    .dataframe thead th {\n",
       "        text-align: right;\n",
       "    }\n",
       "</style>\n",
       "<table border=\"1\" class=\"dataframe\">\n",
       "  <thead>\n",
       "    <tr style=\"text-align: right;\">\n",
       "      <th></th>\n",
       "      <th>total_bill</th>\n",
       "      <th>tip</th>\n",
       "    </tr>\n",
       "  </thead>\n",
       "  <tbody>\n",
       "    <tr>\n",
       "      <th>0</th>\n",
       "      <td>-0.314711</td>\n",
       "      <td>-1.439947</td>\n",
       "    </tr>\n",
       "    <tr>\n",
       "      <th>1</th>\n",
       "      <td>-1.063235</td>\n",
       "      <td>-0.969205</td>\n",
       "    </tr>\n",
       "    <tr>\n",
       "      <th>2</th>\n",
       "      <td>0.137780</td>\n",
       "      <td>0.363356</td>\n",
       "    </tr>\n",
       "    <tr>\n",
       "      <th>3</th>\n",
       "      <td>0.438315</td>\n",
       "      <td>0.225754</td>\n",
       "    </tr>\n",
       "    <tr>\n",
       "      <th>4</th>\n",
       "      <td>0.540745</td>\n",
       "      <td>0.443020</td>\n",
       "    </tr>\n",
       "  </tbody>\n",
       "</table>\n",
       "</div>"
      ],
      "text/plain": [
       "   total_bill       tip\n",
       "0   -0.314711 -1.439947\n",
       "1   -1.063235 -0.969205\n",
       "2    0.137780  0.363356\n",
       "3    0.438315  0.225754\n",
       "4    0.540745  0.443020"
      ]
     },
     "execution_count": 2,
     "metadata": {},
     "output_type": "execute_result"
    }
   ],
   "source": [
    "import seaborn as sns\n",
    "import pandas as pd\n",
    "df = sns.load_dataset('tips')\n",
    "from sklearn.preprocessing import StandardScaler\n",
    "scaler = StandardScaler()\n",
    "scaled_data = scaler.fit_transform(df[['total_bill','tip']])\n",
    "scaled_df = pd.DataFrame(scaled_data, columns = ['total_bill', 'tip'])\n",
    "scaled_df.head()\n"
   ]
  },
  {
   "cell_type": "markdown",
   "id": "d128c37b",
   "metadata": {},
   "source": [
    "##### 2. Min-Max Scaling\n"
   ]
  },
  {
   "cell_type": "code",
   "execution_count": 3,
   "id": "a4c8adaa",
   "metadata": {},
   "outputs": [
    {
     "data": {
      "text/html": [
       "<div>\n",
       "<style scoped>\n",
       "    .dataframe tbody tr th:only-of-type {\n",
       "        vertical-align: middle;\n",
       "    }\n",
       "\n",
       "    .dataframe tbody tr th {\n",
       "        vertical-align: top;\n",
       "    }\n",
       "\n",
       "    .dataframe thead th {\n",
       "        text-align: right;\n",
       "    }\n",
       "</style>\n",
       "<table border=\"1\" class=\"dataframe\">\n",
       "  <thead>\n",
       "    <tr style=\"text-align: right;\">\n",
       "      <th></th>\n",
       "      <th>total_bill</th>\n",
       "      <th>tip</th>\n",
       "    </tr>\n",
       "  </thead>\n",
       "  <tbody>\n",
       "    <tr>\n",
       "      <th>0</th>\n",
       "      <td>0.291579</td>\n",
       "      <td>0.001111</td>\n",
       "    </tr>\n",
       "    <tr>\n",
       "      <th>1</th>\n",
       "      <td>0.152283</td>\n",
       "      <td>0.073333</td>\n",
       "    </tr>\n",
       "    <tr>\n",
       "      <th>2</th>\n",
       "      <td>0.375786</td>\n",
       "      <td>0.277778</td>\n",
       "    </tr>\n",
       "    <tr>\n",
       "      <th>3</th>\n",
       "      <td>0.431713</td>\n",
       "      <td>0.256667</td>\n",
       "    </tr>\n",
       "    <tr>\n",
       "      <th>4</th>\n",
       "      <td>0.450775</td>\n",
       "      <td>0.290000</td>\n",
       "    </tr>\n",
       "  </tbody>\n",
       "</table>\n",
       "</div>"
      ],
      "text/plain": [
       "   total_bill       tip\n",
       "0    0.291579  0.001111\n",
       "1    0.152283  0.073333\n",
       "2    0.375786  0.277778\n",
       "3    0.431713  0.256667\n",
       "4    0.450775  0.290000"
      ]
     },
     "execution_count": 3,
     "metadata": {},
     "output_type": "execute_result"
    }
   ],
   "source": [
    "from sklearn.preprocessing import MinMaxScaler\n",
    "\n",
    "scaler = MinMaxScaler()\n",
    "scaled_data1 = scaler.fit_transform(df[['total_bill','tip']])\n",
    "scaled_df1 = pd.DataFrame(scaled_data1, columns= ['total_bill', 'tip'])\n",
    "scaled_df1.head()"
   ]
  },
  {
   "cell_type": "markdown",
   "id": "693cdb9d",
   "metadata": {},
   "source": []
  },
  {
   "cell_type": "markdown",
   "id": "4c450c72",
   "metadata": {},
   "source": [
    "##### 3. Normalization"
   ]
  },
  {
   "cell_type": "code",
   "execution_count": 4,
   "id": "a9013613",
   "metadata": {},
   "outputs": [
    {
     "name": "stdout",
     "output_type": "stream",
     "text": [
      "   total_bill       tip\n",
      "0    0.998238  0.059342\n",
      "1    0.987357  0.158512\n",
      "2    0.986407  0.164323\n",
      "3    0.990372  0.138435\n",
      "4    0.989395  0.145251\n"
     ]
    }
   ],
   "source": [
    "from sklearn.preprocessing import Normalizer\n",
    "\n",
    "scaler = Normalizer()\n",
    "scaled_data = scaler.fit_transform(df[['total_bill','tip']])\n",
    "scaled_df = pd.DataFrame(scaled_data, columns= ['total_bill', 'tip'])\n",
    "print(scaled_df.head())"
   ]
  },
  {
   "cell_type": "markdown",
   "id": "56a78098",
   "metadata": {},
   "source": []
  },
  {
   "cell_type": "markdown",
   "id": "545625e9",
   "metadata": {},
   "source": [
    "#### 4. Absolute Maximum Scaling"
   ]
  },
  {
   "cell_type": "code",
   "execution_count": 5,
   "id": "3f66c53b",
   "metadata": {},
   "outputs": [
    {
     "data": {
      "text/plain": [
       "0    0.334383\n",
       "1    0.203503\n",
       "2    0.413501\n",
       "3    0.466050\n",
       "4    0.483960\n",
       "Name: total_bill, dtype: float64"
      ]
     },
     "execution_count": 5,
     "metadata": {},
     "output_type": "execute_result"
    }
   ],
   "source": [
    "total_bill = df['total_bill']\n",
    "total_bill = total_bill/max(total_bill)\n",
    "total_bill.head()\n"
   ]
  },
  {
   "cell_type": "markdown",
   "id": "f0090e2a",
   "metadata": {},
   "source": [
    "#### 5. Robust Scaling"
   ]
  },
  {
   "cell_type": "code",
   "execution_count": 6,
   "id": "3ead2262",
   "metadata": {},
   "outputs": [
    {
     "name": "stdout",
     "output_type": "stream",
     "text": [
      "   total_bill     tip\n",
      "0   -0.074675 -1.2096\n",
      "1   -0.691558 -0.7936\n",
      "2    0.298237  0.3840\n",
      "3    0.545918  0.2624\n",
      "4    0.630334  0.4544\n"
     ]
    }
   ],
   "source": [
    "from sklearn.preprocessing import RobustScaler\n",
    "\n",
    "scaler = RobustScaler()\n",
    "scaled_data = scaler.fit_transform(df[['total_bill','tip']])\n",
    "scaled_df = pd.DataFrame(scaled_data, columns=['total_bill', 'tip'])\n",
    "print(scaled_df.head())"
   ]
  },
  {
   "cell_type": "code",
   "execution_count": null,
   "id": "6c0cf6c1",
   "metadata": {},
   "outputs": [],
   "source": []
  }
 ],
 "metadata": {
  "kernelspec": {
   "display_name": "base",
   "language": "python",
   "name": "python3"
  },
  "language_info": {
   "codemirror_mode": {
    "name": "ipython",
    "version": 3
   },
   "file_extension": ".py",
   "mimetype": "text/x-python",
   "name": "python",
   "nbconvert_exporter": "python",
   "pygments_lexer": "ipython3",
   "version": "3.12.7"
  }
 },
 "nbformat": 4,
 "nbformat_minor": 5
}
