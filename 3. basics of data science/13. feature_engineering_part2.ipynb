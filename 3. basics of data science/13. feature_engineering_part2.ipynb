{
 "cells": [
  {
   "cell_type": "markdown",
   "id": "1996ed14-25d5-4e67-9167-aff25bc63bb7",
   "metadata": {},
   "source": [
    "### Feature Scaling\n",
    "\n",
    "##### 1. Standardization\n",
    "done with z-score"
   ]
  },
  {
   "cell_type": "code",
   "execution_count": 2,
   "id": "9791f101-3e49-43a4-b10d-81286b7d29ae",
   "metadata": {},
   "outputs": [
    {
     "data": {
      "text/html": [
       "<div>\n",
       "<style scoped>\n",
       "    .dataframe tbody tr th:only-of-type {\n",
       "        vertical-align: middle;\n",
       "    }\n",
       "\n",
       "    .dataframe tbody tr th {\n",
       "        vertical-align: top;\n",
       "    }\n",
       "\n",
       "    .dataframe thead th {\n",
       "        text-align: right;\n",
       "    }\n",
       "</style>\n",
       "<table border=\"1\" class=\"dataframe\">\n",
       "  <thead>\n",
       "    <tr style=\"text-align: right;\">\n",
       "      <th></th>\n",
       "      <th>total_bill</th>\n",
       "      <th>tip</th>\n",
       "    </tr>\n",
       "  </thead>\n",
       "  <tbody>\n",
       "    <tr>\n",
       "      <th>0</th>\n",
       "      <td>-0.314711</td>\n",
       "      <td>-1.439947</td>\n",
       "    </tr>\n",
       "    <tr>\n",
       "      <th>1</th>\n",
       "      <td>-1.063235</td>\n",
       "      <td>-0.969205</td>\n",
       "    </tr>\n",
       "    <tr>\n",
       "      <th>2</th>\n",
       "      <td>0.137780</td>\n",
       "      <td>0.363356</td>\n",
       "    </tr>\n",
       "    <tr>\n",
       "      <th>3</th>\n",
       "      <td>0.438315</td>\n",
       "      <td>0.225754</td>\n",
       "    </tr>\n",
       "    <tr>\n",
       "      <th>4</th>\n",
       "      <td>0.540745</td>\n",
       "      <td>0.443020</td>\n",
       "    </tr>\n",
       "  </tbody>\n",
       "</table>\n",
       "</div>"
      ],
      "text/plain": [
       "   total_bill       tip\n",
       "0   -0.314711 -1.439947\n",
       "1   -1.063235 -0.969205\n",
       "2    0.137780  0.363356\n",
       "3    0.438315  0.225754\n",
       "4    0.540745  0.443020"
      ]
     },
     "execution_count": 2,
     "metadata": {},
     "output_type": "execute_result"
    }
   ],
   "source": [
    "import seaborn as sns\n",
    "import pandas as pd\n",
    "df = sns.load_dataset('tips')\n",
    "from sklearn.preprocessing import StandardScaler\n",
    "scaler = StandardScaler()\n",
    "scaled_data = scaler.fit_transform(df[['total_bill','tip']])\n",
    "scaled_df = pd.DataFrame(scaled_data, columns = ['total_bill', 'tip'])\n",
    "scaled_df.head()\n"
   ]
  },
  {
   "cell_type": "markdown",
   "id": "d128c37b",
   "metadata": {},
   "source": [
    "##### 2. Min-Max Scaling\n"
   ]
  },
  {
   "cell_type": "code",
   "execution_count": 3,
   "id": "a4c8adaa",
   "metadata": {},
   "outputs": [
    {
     "data": {
      "text/html": [
       "<div>\n",
       "<style scoped>\n",
       "    .dataframe tbody tr th:only-of-type {\n",
       "        vertical-align: middle;\n",
       "    }\n",
       "\n",
       "    .dataframe tbody tr th {\n",
       "        vertical-align: top;\n",
       "    }\n",
       "\n",
       "    .dataframe thead th {\n",
       "        text-align: right;\n",
       "    }\n",
       "</style>\n",
       "<table border=\"1\" class=\"dataframe\">\n",
       "  <thead>\n",
       "    <tr style=\"text-align: right;\">\n",
       "      <th></th>\n",
       "      <th>total_bill</th>\n",
       "      <th>tip</th>\n",
       "    </tr>\n",
       "  </thead>\n",
       "  <tbody>\n",
       "    <tr>\n",
       "      <th>0</th>\n",
       "      <td>0.291579</td>\n",
       "      <td>0.001111</td>\n",
       "    </tr>\n",
       "    <tr>\n",
       "      <th>1</th>\n",
       "      <td>0.152283</td>\n",
       "      <td>0.073333</td>\n",
       "    </tr>\n",
       "    <tr>\n",
       "      <th>2</th>\n",
       "      <td>0.375786</td>\n",
       "      <td>0.277778</td>\n",
       "    </tr>\n",
       "    <tr>\n",
       "      <th>3</th>\n",
       "      <td>0.431713</td>\n",
       "      <td>0.256667</td>\n",
       "    </tr>\n",
       "    <tr>\n",
       "      <th>4</th>\n",
       "      <td>0.450775</td>\n",
       "      <td>0.290000</td>\n",
       "    </tr>\n",
       "  </tbody>\n",
       "</table>\n",
       "</div>"
      ],
      "text/plain": [
       "   total_bill       tip\n",
       "0    0.291579  0.001111\n",
       "1    0.152283  0.073333\n",
       "2    0.375786  0.277778\n",
       "3    0.431713  0.256667\n",
       "4    0.450775  0.290000"
      ]
     },
     "execution_count": 3,
     "metadata": {},
     "output_type": "execute_result"
    }
   ],
   "source": [
    "from sklearn.preprocessing import MinMaxScaler\n",
    "\n",
    "scaler = MinMaxScaler()\n",
    "scaled_data1 = scaler.fit_transform(df[['total_bill','tip']])\n",
    "scaled_df1 = pd.DataFrame(scaled_data1, columns= ['total_bill', 'tip'])\n",
    "scaled_df1.head()"
   ]
  },
  {
   "cell_type": "markdown",
   "id": "693cdb9d",
   "metadata": {},
   "source": []
  },
  {
   "cell_type": "markdown",
   "id": "4c450c72",
   "metadata": {},
   "source": [
    "##### 3. Normalization"
   ]
  },
  {
   "cell_type": "code",
   "execution_count": 4,
   "id": "a9013613",
   "metadata": {},
   "outputs": [
    {
     "name": "stdout",
     "output_type": "stream",
     "text": [
      "   total_bill       tip\n",
      "0    0.998238  0.059342\n",
      "1    0.987357  0.158512\n",
      "2    0.986407  0.164323\n",
      "3    0.990372  0.138435\n",
      "4    0.989395  0.145251\n"
     ]
    }
   ],
   "source": [
    "from sklearn.preprocessing import Normalizer\n",
    "\n",
    "scaler = Normalizer()\n",
    "scaled_data = scaler.fit_transform(df[['total_bill','tip']])\n",
    "scaled_df = pd.DataFrame(scaled_data, columns= ['total_bill', 'tip'])\n",
    "print(scaled_df.head())"
   ]
  },
  {
   "cell_type": "markdown",
   "id": "56a78098",
   "metadata": {},
   "source": []
  },
  {
   "cell_type": "markdown",
   "id": "545625e9",
   "metadata": {},
   "source": [
    "#### 4. Absolute Maximum Scaling"
   ]
  },
  {
   "cell_type": "code",
   "execution_count": 5,
   "id": "3f66c53b",
   "metadata": {},
   "outputs": [
    {
     "data": {
      "text/plain": [
       "0    0.334383\n",
       "1    0.203503\n",
       "2    0.413501\n",
       "3    0.466050\n",
       "4    0.483960\n",
       "Name: total_bill, dtype: float64"
      ]
     },
     "execution_count": 5,
     "metadata": {},
     "output_type": "execute_result"
    }
   ],
   "source": [
    "total_bill = df['total_bill']\n",
    "total_bill = total_bill/max(total_bill)\n",
    "total_bill.head()\n"
   ]
  },
  {
   "cell_type": "markdown",
   "id": "f0090e2a",
   "metadata": {},
   "source": [
    "#### 5. Robust Scaling"
   ]
  },
  {
   "cell_type": "code",
   "execution_count": 6,
   "id": "3ead2262",
   "metadata": {},
   "outputs": [
    {
     "name": "stdout",
     "output_type": "stream",
     "text": [
      "   total_bill     tip\n",
      "0   -0.074675 -1.2096\n",
      "1   -0.691558 -0.7936\n",
      "2    0.298237  0.3840\n",
      "3    0.545918  0.2624\n",
      "4    0.630334  0.4544\n"
     ]
    }
   ],
   "source": [
    "from sklearn.preprocessing import RobustScaler\n",
    "\n",
    "scaler = RobustScaler()\n",
    "scaled_data = scaler.fit_transform(df[['total_bill','tip']])\n",
    "scaled_df = pd.DataFrame(scaled_data, columns=['total_bill', 'tip'])\n",
    "print(scaled_df.head())"
   ]
  },
  {
   "cell_type": "markdown",
   "id": "32a8f077",
   "metadata": {},
   "source": [
    "#### 6. Unit Vector"
   ]
  },
  {
   "cell_type": "code",
   "execution_count": 10,
   "id": "6c0cf6c1",
   "metadata": {},
   "outputs": [
    {
     "name": "stdout",
     "output_type": "stream",
     "text": [
      "   total_bill       tip\n",
      "0    0.998238  0.059342\n",
      "1    0.987357  0.158512\n",
      "2    0.986407  0.164323\n",
      "3    0.990372  0.138435\n",
      "4    0.989395  0.145251\n"
     ]
    }
   ],
   "source": [
    "from sklearn.preprocessing import normalize\n",
    "\n",
    "scaled_df = pd.DataFrame(normalize(df[['total_bill','tip']]),columns= ['total_bill', 'tip'])\n",
    "# scaled_data = scaler.fit_transform(df[['total_bill','tip']])\n",
    "# scaled_df = pd.DataFrame(scaled_data, columns= ['total_bill', 'tip'])\n",
    "print(scaled_df.head())"
   ]
  },
  {
   "cell_type": "markdown",
   "id": "3027c75a",
   "metadata": {},
   "source": [
    "### Data Encoding\n",
    "\n",
    "to convert categorical feature into numerical faeture to be used to train ML Model\n",
    "\n",
    "#### 1. simple encoding for binary features"
   ]
  },
  {
   "cell_type": "code",
   "execution_count": 13,
   "id": "0cd37865",
   "metadata": {},
   "outputs": [
    {
     "data": {
      "text/html": [
       "<div>\n",
       "<style scoped>\n",
       "    .dataframe tbody tr th:only-of-type {\n",
       "        vertical-align: middle;\n",
       "    }\n",
       "\n",
       "    .dataframe tbody tr th {\n",
       "        vertical-align: top;\n",
       "    }\n",
       "\n",
       "    .dataframe thead th {\n",
       "        text-align: right;\n",
       "    }\n",
       "</style>\n",
       "<table border=\"1\" class=\"dataframe\">\n",
       "  <thead>\n",
       "    <tr style=\"text-align: right;\">\n",
       "      <th></th>\n",
       "      <th>id</th>\n",
       "      <th>bin_1</th>\n",
       "      <th>bin_2</th>\n",
       "      <th>nom_0</th>\n",
       "      <th>ord_2</th>\n",
       "    </tr>\n",
       "  </thead>\n",
       "  <tbody>\n",
       "    <tr>\n",
       "      <th>0</th>\n",
       "      <td>0</td>\n",
       "      <td>F</td>\n",
       "      <td>N</td>\n",
       "      <td>Red</td>\n",
       "      <td>Hot</td>\n",
       "    </tr>\n",
       "    <tr>\n",
       "      <th>1</th>\n",
       "      <td>1</td>\n",
       "      <td>F</td>\n",
       "      <td>Y</td>\n",
       "      <td>Blue</td>\n",
       "      <td>Warm</td>\n",
       "    </tr>\n",
       "    <tr>\n",
       "      <th>2</th>\n",
       "      <td>2</td>\n",
       "      <td>F</td>\n",
       "      <td>N</td>\n",
       "      <td>Blue</td>\n",
       "      <td>Cold</td>\n",
       "    </tr>\n",
       "    <tr>\n",
       "      <th>3</th>\n",
       "      <td>3</td>\n",
       "      <td>F</td>\n",
       "      <td>N</td>\n",
       "      <td>Green</td>\n",
       "      <td>Warm</td>\n",
       "    </tr>\n",
       "    <tr>\n",
       "      <th>4</th>\n",
       "      <td>4</td>\n",
       "      <td>T</td>\n",
       "      <td>N</td>\n",
       "      <td>Red</td>\n",
       "      <td>Cold</td>\n",
       "    </tr>\n",
       "  </tbody>\n",
       "</table>\n",
       "</div>"
      ],
      "text/plain": [
       "   id bin_1 bin_2  nom_0 ord_2\n",
       "0   0     F     N    Red   Hot\n",
       "1   1     F     Y   Blue  Warm\n",
       "2   2     F     N   Blue  Cold\n",
       "3   3     F     N  Green  Warm\n",
       "4   4     T     N    Red  Cold"
      ]
     },
     "execution_count": 13,
     "metadata": {},
     "output_type": "execute_result"
    }
   ],
   "source": [
    "\n",
    "# data preprocessing\n",
    "import pandas as pd  \n",
    "# for linear calculations\n",
    "import numpy as np    \n",
    "# Plotting Graphs\n",
    "import seaborn as sns \n",
    "df = pd.read_csv(\"Encoding Data.csv\")\n",
    "# displaying top 10 results\n",
    "df.head()   "
   ]
  },
  {
   "cell_type": "code",
   "execution_count": 26,
   "id": "0498234c",
   "metadata": {},
   "outputs": [
    {
     "data": {
      "text/html": [
       "<div>\n",
       "<style scoped>\n",
       "    .dataframe tbody tr th:only-of-type {\n",
       "        vertical-align: middle;\n",
       "    }\n",
       "\n",
       "    .dataframe tbody tr th {\n",
       "        vertical-align: top;\n",
       "    }\n",
       "\n",
       "    .dataframe thead th {\n",
       "        text-align: right;\n",
       "    }\n",
       "</style>\n",
       "<table border=\"1\" class=\"dataframe\">\n",
       "  <thead>\n",
       "    <tr style=\"text-align: right;\">\n",
       "      <th></th>\n",
       "      <th>id</th>\n",
       "      <th>bin_1</th>\n",
       "      <th>bin_2</th>\n",
       "      <th>nom_0</th>\n",
       "      <th>ord_2</th>\n",
       "    </tr>\n",
       "  </thead>\n",
       "  <tbody>\n",
       "    <tr>\n",
       "      <th>0</th>\n",
       "      <td>0</td>\n",
       "      <td>0</td>\n",
       "      <td>0</td>\n",
       "      <td>Red</td>\n",
       "      <td>1</td>\n",
       "    </tr>\n",
       "    <tr>\n",
       "      <th>1</th>\n",
       "      <td>1</td>\n",
       "      <td>0</td>\n",
       "      <td>1</td>\n",
       "      <td>Blue</td>\n",
       "      <td>2</td>\n",
       "    </tr>\n",
       "    <tr>\n",
       "      <th>2</th>\n",
       "      <td>2</td>\n",
       "      <td>0</td>\n",
       "      <td>0</td>\n",
       "      <td>Blue</td>\n",
       "      <td>0</td>\n",
       "    </tr>\n",
       "    <tr>\n",
       "      <th>3</th>\n",
       "      <td>3</td>\n",
       "      <td>0</td>\n",
       "      <td>0</td>\n",
       "      <td>Green</td>\n",
       "      <td>2</td>\n",
       "    </tr>\n",
       "    <tr>\n",
       "      <th>4</th>\n",
       "      <td>4</td>\n",
       "      <td>1</td>\n",
       "      <td>0</td>\n",
       "      <td>Red</td>\n",
       "      <td>0</td>\n",
       "    </tr>\n",
       "  </tbody>\n",
       "</table>\n",
       "</div>"
      ],
      "text/plain": [
       "   id  bin_1  bin_2  nom_0  ord_2\n",
       "0   0      0      0    Red      1\n",
       "1   1      0      1   Blue      2\n",
       "2   2      0      0   Blue      0\n",
       "3   3      0      0  Green      2\n",
       "4   4      1      0    Red      0"
      ]
     },
     "execution_count": 26,
     "metadata": {},
     "output_type": "execute_result"
    }
   ],
   "source": [
    "# you can always use simple mapping on binary features.\n",
    "df['bin_1'] = df['bin_1'].apply(\n",
    "    lambda x: 1 if x == 'T' else (0 if x == 'F' else None))\n",
    "df['bin_2'] = df['bin_2'].apply(\n",
    "    lambda x: 1 if x == 'Y' else (0 if x == 'N' else None))\n",
    "df.head()"
   ]
  },
  {
   "cell_type": "markdown",
   "id": "9e2ed576",
   "metadata": {},
   "source": [
    "#### 2. Label Encoding \n",
    "Label encoding algorithm is quite simple and it considers an order for encoding, Hence can be used for encoding ordinal data. "
   ]
  },
  {
   "cell_type": "code",
   "execution_count": 29,
   "id": "9e0fea15",
   "metadata": {},
   "outputs": [
    {
     "data": {
      "text/html": [
       "<div>\n",
       "<style scoped>\n",
       "    .dataframe tbody tr th:only-of-type {\n",
       "        vertical-align: middle;\n",
       "    }\n",
       "\n",
       "    .dataframe tbody tr th {\n",
       "        vertical-align: top;\n",
       "    }\n",
       "\n",
       "    .dataframe thead th {\n",
       "        text-align: right;\n",
       "    }\n",
       "</style>\n",
       "<table border=\"1\" class=\"dataframe\">\n",
       "  <thead>\n",
       "    <tr style=\"text-align: right;\">\n",
       "      <th></th>\n",
       "      <th>id</th>\n",
       "      <th>bin_1</th>\n",
       "      <th>bin_2</th>\n",
       "      <th>nom_0</th>\n",
       "      <th>ord_2</th>\n",
       "      <th>ord_2_new</th>\n",
       "    </tr>\n",
       "  </thead>\n",
       "  <tbody>\n",
       "    <tr>\n",
       "      <th>0</th>\n",
       "      <td>0</td>\n",
       "      <td>F</td>\n",
       "      <td>N</td>\n",
       "      <td>Red</td>\n",
       "      <td>Hot</td>\n",
       "      <td>1</td>\n",
       "    </tr>\n",
       "    <tr>\n",
       "      <th>1</th>\n",
       "      <td>1</td>\n",
       "      <td>F</td>\n",
       "      <td>Y</td>\n",
       "      <td>Blue</td>\n",
       "      <td>Warm</td>\n",
       "      <td>2</td>\n",
       "    </tr>\n",
       "    <tr>\n",
       "      <th>2</th>\n",
       "      <td>2</td>\n",
       "      <td>F</td>\n",
       "      <td>N</td>\n",
       "      <td>Blue</td>\n",
       "      <td>Cold</td>\n",
       "      <td>0</td>\n",
       "    </tr>\n",
       "    <tr>\n",
       "      <th>3</th>\n",
       "      <td>3</td>\n",
       "      <td>F</td>\n",
       "      <td>N</td>\n",
       "      <td>Green</td>\n",
       "      <td>Warm</td>\n",
       "      <td>2</td>\n",
       "    </tr>\n",
       "    <tr>\n",
       "      <th>4</th>\n",
       "      <td>4</td>\n",
       "      <td>T</td>\n",
       "      <td>N</td>\n",
       "      <td>Red</td>\n",
       "      <td>Cold</td>\n",
       "      <td>0</td>\n",
       "    </tr>\n",
       "  </tbody>\n",
       "</table>\n",
       "</div>"
      ],
      "text/plain": [
       "   id bin_1 bin_2  nom_0 ord_2  ord_2_new\n",
       "0   0     F     N    Red   Hot          1\n",
       "1   1     F     Y   Blue  Warm          2\n",
       "2   2     F     N   Blue  Cold          0\n",
       "3   3     F     N  Green  Warm          2\n",
       "4   4     T     N    Red  Cold          0"
      ]
     },
     "execution_count": 29,
     "metadata": {},
     "output_type": "execute_result"
    }
   ],
   "source": [
    "# labelEncoder present in scikitlearn library\n",
    "from sklearn.preprocessing import LabelEncoder\n",
    "df = pd.read_csv(\"Encoding Data.csv\")\n",
    "le = LabelEncoder()\n",
    "df['ord_2_new'] = le.fit_transform(df['ord_2'])\n",
    "df.head()"
   ]
  },
  {
   "cell_type": "markdown",
   "id": "18519895",
   "metadata": {},
   "source": [
    "#### 3. One-Hot Encoding\n",
    "To overcome the Disadvantage of Label Encoding as it considers some hierarchy in the columns which can be misleading to nominal features present in the data. we can use the One-Hot Encoding strategy. \n",
    "One-hot encoding is processed in 2 steps:\n",
    "\n",
    "Splitting of categories into different columns.\n",
    "Put ‘0 for others and ‘1’ as an indicator for the appropriate column.\n",
    "\n",
    "Disadvantages:\n",
    "1. creates sparse matrix which usually leads to over-fitting\n",
    "2. it will increase the number of features"
   ]
  },
  {
   "cell_type": "code",
   "execution_count": 17,
   "id": "f0e7c5e0",
   "metadata": {},
   "outputs": [
    {
     "data": {
      "text/html": [
       "<div>\n",
       "<style scoped>\n",
       "    .dataframe tbody tr th:only-of-type {\n",
       "        vertical-align: middle;\n",
       "    }\n",
       "\n",
       "    .dataframe tbody tr th {\n",
       "        vertical-align: top;\n",
       "    }\n",
       "\n",
       "    .dataframe thead th {\n",
       "        text-align: right;\n",
       "    }\n",
       "</style>\n",
       "<table border=\"1\" class=\"dataframe\">\n",
       "  <thead>\n",
       "    <tr style=\"text-align: right;\">\n",
       "      <th></th>\n",
       "      <th>id</th>\n",
       "      <th>bin_1</th>\n",
       "      <th>bin_2</th>\n",
       "      <th>ord_2</th>\n",
       "      <th>0</th>\n",
       "      <th>1</th>\n",
       "      <th>2</th>\n",
       "    </tr>\n",
       "  </thead>\n",
       "  <tbody>\n",
       "    <tr>\n",
       "      <th>0</th>\n",
       "      <td>0</td>\n",
       "      <td>F</td>\n",
       "      <td>N</td>\n",
       "      <td>1</td>\n",
       "      <td>0.0</td>\n",
       "      <td>0.0</td>\n",
       "      <td>1.0</td>\n",
       "    </tr>\n",
       "    <tr>\n",
       "      <th>1</th>\n",
       "      <td>1</td>\n",
       "      <td>F</td>\n",
       "      <td>Y</td>\n",
       "      <td>2</td>\n",
       "      <td>1.0</td>\n",
       "      <td>0.0</td>\n",
       "      <td>0.0</td>\n",
       "    </tr>\n",
       "    <tr>\n",
       "      <th>2</th>\n",
       "      <td>2</td>\n",
       "      <td>F</td>\n",
       "      <td>N</td>\n",
       "      <td>0</td>\n",
       "      <td>1.0</td>\n",
       "      <td>0.0</td>\n",
       "      <td>0.0</td>\n",
       "    </tr>\n",
       "    <tr>\n",
       "      <th>3</th>\n",
       "      <td>3</td>\n",
       "      <td>F</td>\n",
       "      <td>N</td>\n",
       "      <td>2</td>\n",
       "      <td>0.0</td>\n",
       "      <td>1.0</td>\n",
       "      <td>0.0</td>\n",
       "    </tr>\n",
       "    <tr>\n",
       "      <th>4</th>\n",
       "      <td>4</td>\n",
       "      <td>T</td>\n",
       "      <td>N</td>\n",
       "      <td>0</td>\n",
       "      <td>0.0</td>\n",
       "      <td>0.0</td>\n",
       "      <td>1.0</td>\n",
       "    </tr>\n",
       "  </tbody>\n",
       "</table>\n",
       "</div>"
      ],
      "text/plain": [
       "   id bin_1 bin_2  ord_2    0    1    2\n",
       "0   0     F     N      1  0.0  0.0  1.0\n",
       "1   1     F     Y      2  1.0  0.0  0.0\n",
       "2   2     F     N      0  1.0  0.0  0.0\n",
       "3   3     F     N      2  0.0  1.0  0.0\n",
       "4   4     T     N      0  0.0  0.0  1.0"
      ]
     },
     "execution_count": 17,
     "metadata": {},
     "output_type": "execute_result"
    }
   ],
   "source": [
    "from sklearn.preprocessing import OneHotEncoder\n",
    "enc = OneHotEncoder()\n",
    "# transforming the column after fitting\n",
    "enc = enc.fit_transform(df[['nom_0']]).toarray()\n",
    "# converting arrays to a dataframe\n",
    "encoded_colm = pd.DataFrame(enc)\n",
    "# concatenating dataframes\n",
    "df = pd.concat([df, encoded_colm], axis=1)\n",
    "# removing the encoded column.\n",
    "df = df.drop(['nom_0'], axis=1)\n",
    "df.head()"
   ]
  },
  {
   "cell_type": "markdown",
   "id": "9566d650",
   "metadata": {},
   "source": [
    "#### 4. Frequency Encoding\n",
    " We can also encode considering the frequency distribution. This method can be effective at times for nominal features."
   ]
  },
  {
   "cell_type": "code",
   "execution_count": 28,
   "id": "033798f0",
   "metadata": {},
   "outputs": [
    {
     "data": {
      "text/html": [
       "<div>\n",
       "<style scoped>\n",
       "    .dataframe tbody tr th:only-of-type {\n",
       "        vertical-align: middle;\n",
       "    }\n",
       "\n",
       "    .dataframe tbody tr th {\n",
       "        vertical-align: top;\n",
       "    }\n",
       "\n",
       "    .dataframe thead th {\n",
       "        text-align: right;\n",
       "    }\n",
       "</style>\n",
       "<table border=\"1\" class=\"dataframe\">\n",
       "  <thead>\n",
       "    <tr style=\"text-align: right;\">\n",
       "      <th></th>\n",
       "      <th>id</th>\n",
       "      <th>bin_1</th>\n",
       "      <th>bin_2</th>\n",
       "      <th>ord_2</th>\n",
       "      <th>nom_0_freq_encode</th>\n",
       "    </tr>\n",
       "  </thead>\n",
       "  <tbody>\n",
       "    <tr>\n",
       "      <th>0</th>\n",
       "      <td>0</td>\n",
       "      <td>F</td>\n",
       "      <td>N</td>\n",
       "      <td>Hot</td>\n",
       "      <td>0.5</td>\n",
       "    </tr>\n",
       "    <tr>\n",
       "      <th>1</th>\n",
       "      <td>1</td>\n",
       "      <td>F</td>\n",
       "      <td>Y</td>\n",
       "      <td>Warm</td>\n",
       "      <td>0.3</td>\n",
       "    </tr>\n",
       "    <tr>\n",
       "      <th>2</th>\n",
       "      <td>2</td>\n",
       "      <td>F</td>\n",
       "      <td>N</td>\n",
       "      <td>Cold</td>\n",
       "      <td>0.3</td>\n",
       "    </tr>\n",
       "    <tr>\n",
       "      <th>3</th>\n",
       "      <td>3</td>\n",
       "      <td>F</td>\n",
       "      <td>N</td>\n",
       "      <td>Warm</td>\n",
       "      <td>0.2</td>\n",
       "    </tr>\n",
       "    <tr>\n",
       "      <th>4</th>\n",
       "      <td>4</td>\n",
       "      <td>T</td>\n",
       "      <td>N</td>\n",
       "      <td>Cold</td>\n",
       "      <td>0.5</td>\n",
       "    </tr>\n",
       "  </tbody>\n",
       "</table>\n",
       "</div>"
      ],
      "text/plain": [
       "   id bin_1 bin_2 ord_2  nom_0_freq_encode\n",
       "0   0     F     N   Hot                0.5\n",
       "1   1     F     Y  Warm                0.3\n",
       "2   2     F     N  Cold                0.3\n",
       "3   3     F     N  Warm                0.2\n",
       "4   4     T     N  Cold                0.5"
      ]
     },
     "execution_count": 28,
     "metadata": {},
     "output_type": "execute_result"
    }
   ],
   "source": [
    "# grouping by frequency\n",
    "df = pd.read_csv(\"Encoding Data.csv\")\n",
    "fq = df.groupby('nom_0').size()/len(df)\n",
    "# mapping values to dataframe\n",
    "df.loc[:, \"{}_freq_encode\".format('nom_0')] = df['nom_0'].map(fq)\n",
    "# drop original column.\n",
    "df = df.drop(['nom_0'], axis=1)\n",
    "df.head()"
   ]
  },
  {
   "cell_type": "markdown",
   "id": "f75790ed",
   "metadata": {},
   "source": [
    "#### 5. Ordinal Encoding\n",
    "We can use Ordinal Encoding provided in Scikit learn class to encode Ordinal features. It ensures that ordinal nature of the variables is sustained. "
   ]
  },
  {
   "cell_type": "code",
   "execution_count": 32,
   "id": "ceb2d90f",
   "metadata": {},
   "outputs": [
    {
     "data": {
      "text/html": [
       "<div>\n",
       "<style scoped>\n",
       "    .dataframe tbody tr th:only-of-type {\n",
       "        vertical-align: middle;\n",
       "    }\n",
       "\n",
       "    .dataframe tbody tr th {\n",
       "        vertical-align: top;\n",
       "    }\n",
       "\n",
       "    .dataframe thead th {\n",
       "        text-align: right;\n",
       "    }\n",
       "</style>\n",
       "<table border=\"1\" class=\"dataframe\">\n",
       "  <thead>\n",
       "    <tr style=\"text-align: right;\">\n",
       "      <th></th>\n",
       "      <th>id</th>\n",
       "      <th>bin_1</th>\n",
       "      <th>bin_2</th>\n",
       "      <th>nom_0</th>\n",
       "      <th>ord_2</th>\n",
       "      <th>ord_2_new</th>\n",
       "    </tr>\n",
       "  </thead>\n",
       "  <tbody>\n",
       "    <tr>\n",
       "      <th>0</th>\n",
       "      <td>0</td>\n",
       "      <td>F</td>\n",
       "      <td>N</td>\n",
       "      <td>Red</td>\n",
       "      <td>Hot</td>\n",
       "      <td>0.0</td>\n",
       "    </tr>\n",
       "    <tr>\n",
       "      <th>1</th>\n",
       "      <td>1</td>\n",
       "      <td>F</td>\n",
       "      <td>Y</td>\n",
       "      <td>Blue</td>\n",
       "      <td>Warm</td>\n",
       "      <td>1.0</td>\n",
       "    </tr>\n",
       "    <tr>\n",
       "      <th>2</th>\n",
       "      <td>2</td>\n",
       "      <td>F</td>\n",
       "      <td>N</td>\n",
       "      <td>Blue</td>\n",
       "      <td>Cold</td>\n",
       "      <td>2.0</td>\n",
       "    </tr>\n",
       "    <tr>\n",
       "      <th>3</th>\n",
       "      <td>3</td>\n",
       "      <td>F</td>\n",
       "      <td>N</td>\n",
       "      <td>Green</td>\n",
       "      <td>Warm</td>\n",
       "      <td>1.0</td>\n",
       "    </tr>\n",
       "    <tr>\n",
       "      <th>4</th>\n",
       "      <td>4</td>\n",
       "      <td>T</td>\n",
       "      <td>N</td>\n",
       "      <td>Red</td>\n",
       "      <td>Cold</td>\n",
       "      <td>2.0</td>\n",
       "    </tr>\n",
       "  </tbody>\n",
       "</table>\n",
       "</div>"
      ],
      "text/plain": [
       "   id bin_1 bin_2  nom_0 ord_2  ord_2_new\n",
       "0   0     F     N    Red   Hot        0.0\n",
       "1   1     F     Y   Blue  Warm        1.0\n",
       "2   2     F     N   Blue  Cold        2.0\n",
       "3   3     F     N  Green  Warm        1.0\n",
       "4   4     T     N    Red  Cold        2.0"
      ]
     },
     "execution_count": 32,
     "metadata": {},
     "output_type": "execute_result"
    }
   ],
   "source": [
    "\n",
    "from sklearn.preprocessing import OrdinalEncoder\n",
    "df = pd.read_csv(\"Encoding Data.csv\")\n",
    "encoder = OrdinalEncoder(categories=[['Hot', 'Warm', 'Cold']])\n",
    "# fitting and transforming the dataframe\n",
    "df[\"ord_2_new\"] = encoder.fit_transform(df[['ord_2']]) \n",
    "df.head()"
   ]
  },
  {
   "cell_type": "markdown",
   "id": "2c2bfbd3",
   "metadata": {},
   "source": [
    "#### 6. Binary Encoding\n",
    "Initially, categories are encoded as Integer and then converted into binary code, then the digits from that binary string are placed into separate columns. "
   ]
  },
  {
   "cell_type": "code",
   "execution_count": null,
   "id": "1ac1e566",
   "metadata": {},
   "outputs": [],
   "source": [
    "from category_encoders import BinaryEncoder\n",
    "df = pd.read_csv(\"Encoding Data.csv\")\n",
    "encoder = BinaryEncoder(cols =['ord_2'], return_df=True) \n",
    "# transforming the column after fitting\n",
    "newdata = encoder.fit_transform(df['ord_2'])\n",
    "# concatenating dataframe\n",
    "df = pd.concat([df, newdata], axis = 1) \n",
    "# dropping old column \n",
    "df = df.drop(['ord_2'], axis = 1)\n",
    "df.head()"
   ]
  },
  {
   "cell_type": "markdown",
   "id": "9db7afed",
   "metadata": {},
   "source": [
    "#### 7. HashEncoding\n",
    "Hashing is the process of converting of a string of characters into a unique hash value with applying a hash function. This process is quite useful as it can deal with a higher number of categorical data and its low memory usage. "
   ]
  },
  {
   "cell_type": "code",
   "execution_count": null,
   "id": "aa3a16d6",
   "metadata": {},
   "outputs": [],
   "source": [
    "from sklearn.feature_extraction import FeatureHasher\n",
    "df = pd.read_csv(\"Encoding Data.csv\")\n",
    "# n_features contains the number of bits you want in your hash value.\n",
    "h = FeatureHasher(n_features = 3, input_type ='string') \n",
    "# transforming the column after fitting\n",
    "hashed_Feature = h.fit_transform(df['nom_0'])\n",
    "hashed_Feature = hashed_Feature.toarray()\n",
    "df = pd.concat([df, pd.DataFrame(hashed_Feature)], axis = 1)\n",
    "df.head()"
   ]
  },
  {
   "cell_type": "markdown",
   "id": "a4b6f0d4",
   "metadata": {},
   "source": [
    "#### 8. Target Guided Ordinal Encoding\n",
    "\n",
    "it is a technique used to encode categorical variables based on their relationship with the terget variable. This encoding technique is useful when we have a categorical variable with a large number of unique categories, and we want to use this variable as a feature in our maching learning model. \n",
    "\n",
    "In Target Guided Ordinal Encoding, each category from the categorical data will be assigned an numerical value based on the mean or median ot the traget variable of that category. This creates a monotonic relationship between the categorical variable and the target variable, which can improve the predictive power of our model."
   ]
  },
  {
   "cell_type": "code",
   "execution_count": 48,
   "id": "f8c1f427",
   "metadata": {},
   "outputs": [
    {
     "data": {
      "text/html": [
       "<div>\n",
       "<style scoped>\n",
       "    .dataframe tbody tr th:only-of-type {\n",
       "        vertical-align: middle;\n",
       "    }\n",
       "\n",
       "    .dataframe tbody tr th {\n",
       "        vertical-align: top;\n",
       "    }\n",
       "\n",
       "    .dataframe thead th {\n",
       "        text-align: right;\n",
       "    }\n",
       "</style>\n",
       "<table border=\"1\" class=\"dataframe\">\n",
       "  <thead>\n",
       "    <tr style=\"text-align: right;\">\n",
       "      <th></th>\n",
       "      <th>city</th>\n",
       "      <th>price</th>\n",
       "      <th>city_encoded</th>\n",
       "    </tr>\n",
       "  </thead>\n",
       "  <tbody>\n",
       "    <tr>\n",
       "      <th>0</th>\n",
       "      <td>New York</td>\n",
       "      <td>200</td>\n",
       "      <td>190.0</td>\n",
       "    </tr>\n",
       "    <tr>\n",
       "      <th>1</th>\n",
       "      <td>London</td>\n",
       "      <td>150</td>\n",
       "      <td>150.0</td>\n",
       "    </tr>\n",
       "    <tr>\n",
       "      <th>2</th>\n",
       "      <td>Paris</td>\n",
       "      <td>300</td>\n",
       "      <td>310.0</td>\n",
       "    </tr>\n",
       "    <tr>\n",
       "      <th>3</th>\n",
       "      <td>Tokyo</td>\n",
       "      <td>250</td>\n",
       "      <td>250.0</td>\n",
       "    </tr>\n",
       "    <tr>\n",
       "      <th>4</th>\n",
       "      <td>New York</td>\n",
       "      <td>180</td>\n",
       "      <td>190.0</td>\n",
       "    </tr>\n",
       "  </tbody>\n",
       "</table>\n",
       "</div>"
      ],
      "text/plain": [
       "       city  price  city_encoded\n",
       "0  New York    200         190.0\n",
       "1    London    150         150.0\n",
       "2     Paris    300         310.0\n",
       "3     Tokyo    250         250.0\n",
       "4  New York    180         190.0"
      ]
     },
     "execution_count": 48,
     "metadata": {},
     "output_type": "execute_result"
    }
   ],
   "source": [
    "df = pd.DataFrame({\n",
    "    'city': ['New York', 'London', 'Paris', 'Tokyo', 'New York', 'Paris'],\n",
    "    'price': [200,150,300,250,180,320]\n",
    "})\n",
    "# calculate the mean price for each city\n",
    "mean_price = df.groupby('city')['price'].mean().to_dict()\n",
    "\n",
    "# replace each city with its mean price\n",
    "df['city_encoded'] = df['city'].map(mean_price)\n",
    "df.head()\n"
   ]
  },
  {
   "cell_type": "code",
   "execution_count": null,
   "id": "89b9f6b2",
   "metadata": {},
   "outputs": [],
   "source": [
    "# importing TargetEncoder\n",
    "from category_encoders import TargetEncoder\n",
    "Targetenc = TargetEncoder()\n",
    "# transforming the column after fitting\n",
    "values = Targetenc.fit_transform(X = df.nom_0, y = df.Target)\n",
    "# concatenating values with dataframe\n",
    "df = pd.concat([df, values], axis = 1)\n",
    "df.head(10)"
   ]
  }
 ],
 "metadata": {
  "kernelspec": {
   "display_name": "base",
   "language": "python",
   "name": "python3"
  },
  "language_info": {
   "codemirror_mode": {
    "name": "ipython",
    "version": 3
   },
   "file_extension": ".py",
   "mimetype": "text/x-python",
   "name": "python",
   "nbconvert_exporter": "python",
   "pygments_lexer": "ipython3",
   "version": "3.12.7"
  }
 },
 "nbformat": 4,
 "nbformat_minor": 5
}
