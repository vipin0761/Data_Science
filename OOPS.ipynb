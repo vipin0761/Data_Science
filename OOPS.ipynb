{
  "cells": [
    {
      "cell_type": "markdown",
      "metadata": {
        "id": "view-in-github",
        "colab_type": "text"
      },
      "source": [
        "<a href=\"https://colab.research.google.com/github/vipin0761/Data_Science/blob/main/OOPS.ipynb\" target=\"_parent\"><img src=\"https://colab.research.google.com/assets/colab-badge.svg\" alt=\"Open In Colab\"/></a>"
      ]
    },
    {
      "cell_type": "markdown",
      "metadata": {
        "id": "t9Umy-TGpk0v"
      },
      "source": [
        "# OOPs\n",
        "    - Object Oriented Programming Systems\n",
        "    - Classes and Objects.\n",
        "    - Abstraction, Encapsulation, Inheritance & Polymorphism"
      ]
    },
    {
      "cell_type": "markdown",
      "metadata": {
        "id": "jCZzk8JUpk05"
      },
      "source": [
        "### Class variables\n",
        "    - Class Variables are common to all instances.\n",
        "    - They are associated with the class."
      ]
    },
    {
      "cell_type": "code",
      "execution_count": null,
      "metadata": {
        "id": "p2vWdWo4pk1B"
      },
      "outputs": [],
      "source": [
        "class Human():\n",
        "\n",
        "    # class variable\n",
        "    database = []\n",
        "    population = 0\n",
        "    id_seq = 101\n",
        "\n",
        "    # constructor\n",
        "    def __init__(self, name, age, is_alive=True):\n",
        "        #instance variables\n",
        "        self.name = name\n",
        "        self.age = age\n",
        "        self.is_alive = is_alive\n",
        "\n",
        "        # adding id of an object\n",
        "        self.id = Human.id_seq\n",
        "        Human.id_seq += 1\n",
        "        Human.population +=1\n",
        "        Human.database.append(self)\n",
        "\n",
        "\n",
        "    def introduce(self):\n",
        "        print(\"Hi, My name is\", self.name, \"My age is \", self.age)\n",
        "\n",
        "\n",
        "    def die(self):\n",
        "        if self.is_alive:\n",
        "            print(self.name, \"is dying\")\n",
        "            self.is_alive = False\n",
        "            Human.population -= 1\n",
        "        else:\n",
        "            print(\"{} is already dead\".format(self.name))"
      ]
    },
    {
      "cell_type": "code",
      "execution_count": null,
      "metadata": {
        "id": "tAIx_g4Hpk1B"
      },
      "outputs": [],
      "source": [
        "h1 = Human(\"Mohit\", 23)\n",
        "h2 = Human(\"Prateek\", 27)"
      ]
    },
    {
      "cell_type": "code",
      "execution_count": null,
      "metadata": {
        "colab": {
          "base_uri": "https://localhost:8080/"
        },
        "id": "DGalOkA9pk1B",
        "outputId": "45c6798e-fc9f-45ab-c48e-78099d7cb8b0"
      },
      "outputs": [
        {
          "output_type": "execute_result",
          "data": {
            "text/plain": [
              "2"
            ]
          },
          "metadata": {},
          "execution_count": 8
        }
      ],
      "source": [
        "Human.population"
      ]
    },
    {
      "cell_type": "code",
      "execution_count": null,
      "metadata": {
        "colab": {
          "base_uri": "https://localhost:8080/"
        },
        "id": "rSqpz0wOpk1B",
        "outputId": "74ecff45-8d13-4793-f88f-0e4225136297"
      },
      "outputs": [
        {
          "output_type": "execute_result",
          "data": {
            "text/plain": [
              "True"
            ]
          },
          "metadata": {},
          "execution_count": 9
        }
      ],
      "source": [
        "h1.is_alive"
      ]
    },
    {
      "cell_type": "code",
      "execution_count": null,
      "metadata": {
        "colab": {
          "base_uri": "https://localhost:8080/"
        },
        "id": "AHHL9waYpk1B",
        "outputId": "251df708-dd29-4108-9a2a-58df335cb40b"
      },
      "outputs": [
        {
          "output_type": "stream",
          "name": "stdout",
          "text": [
            "Mohit is dying\n"
          ]
        }
      ],
      "source": [
        "h1.die()"
      ]
    },
    {
      "cell_type": "code",
      "execution_count": null,
      "metadata": {
        "colab": {
          "base_uri": "https://localhost:8080/"
        },
        "id": "E77TMXd1pk1B",
        "outputId": "79bb417e-c163-44bb-dd42-5214172fd531"
      },
      "outputs": [
        {
          "output_type": "execute_result",
          "data": {
            "text/plain": [
              "False"
            ]
          },
          "metadata": {},
          "execution_count": 11
        }
      ],
      "source": [
        "h1.is_alive"
      ]
    },
    {
      "cell_type": "code",
      "execution_count": null,
      "metadata": {
        "colab": {
          "base_uri": "https://localhost:8080/"
        },
        "id": "yQLIl-Lhpk1C",
        "outputId": "67a72cd8-2e81-4293-cea1-44f93fdc8ba8"
      },
      "outputs": [
        {
          "output_type": "stream",
          "name": "stdout",
          "text": [
            "Mohit is already dead\n"
          ]
        }
      ],
      "source": [
        "h1.die()"
      ]
    },
    {
      "cell_type": "markdown",
      "source": [
        "## class methods"
      ],
      "metadata": {
        "id": "G5LBdvrHtyN4"
      }
    },
    {
      "cell_type": "code",
      "source": [
        "class Person:\n",
        "    def __init__(self,name, age=0):\n",
        "        self.name = name\n",
        "        self.age = age\n",
        "\n",
        "    def person_details(self):\n",
        "        print(self.name, self.age)\n",
        "\n",
        "    @classmethod\n",
        "    def details(cls,name,age=0):\n",
        "        return cls(name, age)\n",
        "\n",
        "p1 = Person.details('vipin',25)"
      ],
      "metadata": {
        "id": "rGEPWcDstyZo"
      },
      "execution_count": 1,
      "outputs": []
    },
    {
      "cell_type": "code",
      "source": [
        "p1.name"
      ],
      "metadata": {
        "id": "J3CL6Yexu4jR",
        "outputId": "a43ddeb1-95f4-4c91-8465-908ecb49913b",
        "colab": {
          "base_uri": "https://localhost:8080/",
          "height": 35
        }
      },
      "execution_count": 2,
      "outputs": [
        {
          "output_type": "execute_result",
          "data": {
            "text/plain": [
              "'vipin'"
            ],
            "application/vnd.google.colaboratory.intrinsic+json": {
              "type": "string"
            }
          },
          "metadata": {},
          "execution_count": 2
        }
      ]
    },
    {
      "cell_type": "markdown",
      "source": [
        "## adding external function to classes"
      ],
      "metadata": {
        "id": "V0nTvOeswzax"
      }
    },
    {
      "cell_type": "code",
      "source": [
        "def course_details(cls, course_name):\n",
        "    print(\"course name is \", course_name)"
      ],
      "metadata": {
        "id": "jkAbLMuNwzuf"
      },
      "execution_count": 3,
      "outputs": []
    },
    {
      "cell_type": "code",
      "source": [
        "Person.course_details = classmethod(course_details)"
      ],
      "metadata": {
        "id": "HBEjI6UOxcSQ"
      },
      "execution_count": 4,
      "outputs": []
    },
    {
      "cell_type": "code",
      "source": [
        "Person.course_details('DSA')"
      ],
      "metadata": {
        "id": "lFj35FFGxtkn",
        "outputId": "674d896a-1ff3-43aa-f494-8fb68cb2205e",
        "colab": {
          "base_uri": "https://localhost:8080/"
        }
      },
      "execution_count": 5,
      "outputs": [
        {
          "output_type": "stream",
          "name": "stdout",
          "text": [
            "course name is  DSA\n"
          ]
        }
      ]
    },
    {
      "cell_type": "markdown",
      "source": [
        "## remove functions from classes"
      ],
      "metadata": {
        "id": "TKlPQLPKyigt"
      }
    },
    {
      "cell_type": "code",
      "source": [
        "del Person.details"
      ],
      "metadata": {
        "id": "AXqsESldymY5"
      },
      "execution_count": 6,
      "outputs": []
    },
    {
      "cell_type": "code",
      "source": [
        "delattr(Person, 'person_details')"
      ],
      "metadata": {
        "id": "EaOvS6pdy2vh"
      },
      "execution_count": 7,
      "outputs": []
    },
    {
      "cell_type": "markdown",
      "source": [
        "## static methods\n",
        "https://www.geeksforgeeks.org/class-method-vs-static-method-python/"
      ],
      "metadata": {
        "id": "EnBppsAw0DDD"
      }
    },
    {
      "cell_type": "code",
      "source": [
        "class Person:\n",
        "\n",
        "    def person_details(self, name, age):\n",
        "        print(name, age)\n",
        "\n",
        "    @staticmethod\n",
        "    def course_list(courses):\n",
        "        print(courses)"
      ],
      "metadata": {
        "id": "J4PbY1Kd0GKK"
      },
      "execution_count": 8,
      "outputs": []
    },
    {
      "cell_type": "code",
      "source": [
        "Person.course_list(['DSA', 'DS'])"
      ],
      "metadata": {
        "id": "6D22MUzX1jUH",
        "outputId": "d68d7dc9-0130-4606-f8ad-62c1bf364d4b",
        "colab": {
          "base_uri": "https://localhost:8080/"
        }
      },
      "execution_count": 11,
      "outputs": [
        {
          "output_type": "stream",
          "name": "stdout",
          "text": [
            "['DSA', 'DS']\n"
          ]
        }
      ]
    },
    {
      "cell_type": "code",
      "source": [
        "class Person1:\n",
        "\n",
        "    def person_details(self, name, age):\n",
        "        print(name, age)\n",
        "\n",
        "    @staticmethod\n",
        "    def course_list(courses):\n",
        "        print(courses)\n",
        "\n",
        "    @staticmethod\n",
        "    def carrer_list(carrer):\n",
        "        Person1.course_list(['DSA', 'DS'])\n",
        "        print(carrer)\n",
        "\n",
        "    @classmethod\n",
        "    def Person_courses(cls):\n",
        "        cls.course_list(['DSA', 'DS'])"
      ],
      "metadata": {
        "id": "9r3q0FnT26rl"
      },
      "execution_count": 14,
      "outputs": []
    },
    {
      "cell_type": "code",
      "source": [
        "Person1.Person_courses()"
      ],
      "metadata": {
        "id": "en4p2-oA3FXO",
        "outputId": "6e461552-3060-4e22-bd86-6e1b8a29a7bb",
        "colab": {
          "base_uri": "https://localhost:8080/"
        }
      },
      "execution_count": 13,
      "outputs": [
        {
          "output_type": "stream",
          "name": "stdout",
          "text": [
            "['DSA', 'DS']\n"
          ]
        }
      ]
    },
    {
      "cell_type": "code",
      "source": [
        "Person1.carrer_list(['Developer','Analyst'])"
      ],
      "metadata": {
        "id": "tGfweQNS383_",
        "outputId": "85a74e7f-20c3-4554-a7cd-33141e2534eb",
        "colab": {
          "base_uri": "https://localhost:8080/"
        }
      },
      "execution_count": 16,
      "outputs": [
        {
          "output_type": "stream",
          "name": "stdout",
          "text": [
            "['DSA', 'DS']\n",
            "['Developer', 'Analyst']\n"
          ]
        }
      ]
    },
    {
      "cell_type": "markdown",
      "metadata": {
        "id": "NUInnk9Epk1C"
      },
      "source": [
        "## Magic Functions\n",
        "    \n",
        "    - they are called automatically when some particular event occur.\n",
        "    \n",
        "    e.g :  __repr__ , __init__, __str__"
      ]
    },
    {
      "cell_type": "code",
      "execution_count": null,
      "metadata": {
        "id": "1RW9oHwmpk1C"
      },
      "outputs": [],
      "source": [
        "class Human():\n",
        "    id_seq = 101\n",
        "    database = []\n",
        "    population = 0\n",
        "\n",
        "    def __init__(self, name, age, is_alive=True):\n",
        "        self.name = name\n",
        "        self.age = age\n",
        "        self.is_alive = is_alive\n",
        "        # adding id of object\n",
        "        self.id = Human.id_seq\n",
        "        Human.id_seq += 1\n",
        "        Human.database.append(self)\n",
        "        Human.population +=1\n",
        "\n",
        "    def introduce(self):\n",
        "        print(\"Hi, My name is\", self.name, \"My age is \", self.age)\n",
        "\n",
        "    def die(self):\n",
        "        if self.is_alive:\n",
        "            print(self.name, \"is dying...\")\n",
        "            self.is_alive = False\n",
        "            Human.population -=1\n",
        "        else:\n",
        "            print(\"{} is already dead.\".format(self.name))\n",
        "\n",
        "    #magic function\n",
        "    def __repr__(self):\n",
        "        \"\"\"\n",
        "        this function needs to return a string\n",
        "        \"\"\"\n",
        "        return \"[{}, {}, {}, {}]\".format(self.id, self.name, self.age, self.is_alive)\n"
      ]
    },
    {
      "cell_type": "code",
      "execution_count": null,
      "metadata": {
        "id": "CDaYjktVpk1C"
      },
      "outputs": [],
      "source": [
        "h1 = Human(\"Mohit\", 23)\n",
        "h2 = Human(\"Prateek\", 27)"
      ]
    },
    {
      "cell_type": "code",
      "execution_count": null,
      "metadata": {
        "id": "-4Ud6iu1pk1D",
        "outputId": "a705231e-0c08-4bf2-9feb-1bf34549bfaf"
      },
      "outputs": [
        {
          "name": "stdout",
          "output_type": "stream",
          "text": [
            "[1, Mohit, 23, True]\n"
          ]
        }
      ],
      "source": [
        "print(h1)"
      ]
    },
    {
      "cell_type": "code",
      "execution_count": null,
      "metadata": {
        "id": "2Mc9Dn8qpk1D",
        "outputId": "c4280c95-9ac3-4872-d090-698874b75fc6"
      },
      "outputs": [
        {
          "name": "stdout",
          "output_type": "stream",
          "text": [
            "[2, Prateek, 27, True]\n"
          ]
        }
      ],
      "source": [
        "print(h2)"
      ]
    },
    {
      "cell_type": "code",
      "execution_count": null,
      "metadata": {
        "id": "oCbUf6Yspk1D",
        "outputId": "9dfa8da2-7722-4f56-959c-e933a0262927"
      },
      "outputs": [
        {
          "data": {
            "text/plain": [
              "[[1, Mohit, 23, True], [2, Prateek, 27, True]]"
            ]
          },
          "execution_count": 80,
          "metadata": {},
          "output_type": "execute_result"
        }
      ],
      "source": [
        "Human.database"
      ]
    },
    {
      "cell_type": "code",
      "execution_count": null,
      "metadata": {
        "id": "uOCAs2GKpk1D",
        "outputId": "1aeb1920-e40e-450b-db3c-250e28f88343"
      },
      "outputs": [
        {
          "name": "stdout",
          "output_type": "stream",
          "text": [
            "Mohit is dying...\n"
          ]
        }
      ],
      "source": [
        "h1.die()"
      ]
    },
    {
      "cell_type": "code",
      "execution_count": null,
      "metadata": {
        "id": "xkz0DkYGpk1D",
        "outputId": "47bd31ca-1c03-4cb4-b2fc-a099007f3c8a"
      },
      "outputs": [
        {
          "name": "stdout",
          "output_type": "stream",
          "text": [
            "[1, Mohit, 23, False]\n"
          ]
        }
      ],
      "source": [
        "print(h1)"
      ]
    },
    {
      "cell_type": "code",
      "execution_count": null,
      "metadata": {
        "id": "ZY6cXJrppk1D",
        "outputId": "6cbe92e5-d01c-4f52-ef39-c9eea4aec22f"
      },
      "outputs": [
        {
          "data": {
            "text/plain": [
              "[[1, Mohit, 23, False], [2, Prateek, 27, True]]"
            ]
          },
          "execution_count": 84,
          "metadata": {},
          "output_type": "execute_result"
        }
      ],
      "source": [
        "Human.database"
      ]
    },
    {
      "cell_type": "markdown",
      "metadata": {
        "id": "VjYQtS-ipk1E"
      },
      "source": [
        "# Inheritance\n",
        "    - a process where one class acquire all the methods and properties of another class\n",
        "   **Parent class** is the class being inherited from, also called base class.\n",
        "\n",
        "   **Child class** is the class that inherits from another class, also called derived class.\n",
        "   \n",
        "**Syntax** :\n",
        "\n",
        "`class ChildClassName(ParentClassName)`\n",
        "    \n",
        "    ...\n",
        "  "
      ]
    },
    {
      "cell_type": "code",
      "execution_count": null,
      "metadata": {
        "id": "lix_b1cPpk1H"
      },
      "outputs": [],
      "source": [
        "# Parent Class\n",
        "\n",
        "class Human():\n",
        "    id_seq = 101\n",
        "    database = []\n",
        "    population = 0\n",
        "\n",
        "    def __init__(self, name, age, is_alive=True):\n",
        "        self.name = name\n",
        "        self.age = age\n",
        "        self.is_alive = is_alive\n",
        "        # adding id of object\n",
        "        self.id = Human.id_seq\n",
        "        Human.id_seq += 1\n",
        "        Human.database.append(self)\n",
        "        Human.population +=1\n",
        "\n",
        "    def introduce(self):\n",
        "        print(\"Hi, My name is\", self.name, \"My age is \", self.age)\n",
        "\n",
        "    def die(self):\n",
        "        if self.is_alive:\n",
        "            print(self.name, \"is dying...\")\n",
        "            self.is_alive = False\n",
        "            Human.population -=1\n",
        "        else:\n",
        "            print(\"{} is already dead.\".format(self.name))\n",
        "\n",
        "    def __repr__(self):\n",
        "        return \"[{}, {}, {}, {}]\".format(self.id, self.name, self.age, self.is_alive)"
      ]
    },
    {
      "cell_type": "code",
      "execution_count": null,
      "metadata": {
        "id": "1P44vl4jpk1H"
      },
      "outputs": [],
      "source": [
        "# Child Class\n",
        "class Hitman(Human):\n",
        "\n",
        "    def __init__(self, name, age):\n",
        "        super().__init__(name, age)\n",
        "\n",
        "        self.kills = 0\n",
        "        self.kill_list = []\n",
        "\n",
        "    def kill(self, person):\n",
        "        \"\"\"\n",
        "        person will be an obj of Human\n",
        "        \"\"\"\n",
        "        if person.is_alive:\n",
        "            print(\"{} is killing {}\".format(self.name, person.name))\n",
        "            person.die()\n",
        "            self.kills+=1\n",
        "            self.kill_list.append(person)\n",
        "        else:\n",
        "            print(\"{} is already dead\".format(person.name))"
      ]
    },
    {
      "cell_type": "code",
      "execution_count": null,
      "metadata": {
        "id": "XEvWFIrypk1H"
      },
      "outputs": [],
      "source": [
        "h1 = Human(\"Mohit\", 23)\n",
        "h2 = Human(\"Prateek\", 27)\n",
        "h3 = Human(\"Jatin\", 26)"
      ]
    },
    {
      "cell_type": "code",
      "execution_count": null,
      "metadata": {
        "colab": {
          "base_uri": "https://localhost:8080/"
        },
        "id": "qtf8FyG5pk1I",
        "outputId": "01dd3495-2093-4cf6-bddd-b80e9d8378df"
      },
      "outputs": [
        {
          "output_type": "execute_result",
          "data": {
            "text/plain": [
              "3"
            ]
          },
          "metadata": {},
          "execution_count": 27
        }
      ],
      "source": [
        "Human.population"
      ]
    },
    {
      "cell_type": "code",
      "execution_count": null,
      "metadata": {
        "colab": {
          "base_uri": "https://localhost:8080/"
        },
        "id": "yYM9hroWpk1I",
        "outputId": "d1424bc1-a096-473a-f444-3dbffa0cec86"
      },
      "outputs": [
        {
          "output_type": "execute_result",
          "data": {
            "text/plain": [
              "[[101, Mohit, 23, True], [102, Prateek, 27, True], [103, Jatin, 26, True]]"
            ]
          },
          "metadata": {},
          "execution_count": 28
        }
      ],
      "source": [
        "Human.database"
      ]
    },
    {
      "cell_type": "code",
      "execution_count": null,
      "metadata": {
        "id": "TSdOKS_spk1I"
      },
      "outputs": [],
      "source": [
        "bond = Hitman(\"James\", 30)"
      ]
    },
    {
      "cell_type": "code",
      "execution_count": null,
      "metadata": {
        "id": "DoC7kK-Ypk1I",
        "outputId": "e4f0f0b9-ac73-46d2-fd12-e73cbd9890fb"
      },
      "outputs": [
        {
          "data": {
            "text/plain": [
              "4"
            ]
          },
          "execution_count": 131,
          "metadata": {},
          "output_type": "execute_result"
        }
      ],
      "source": [
        "Human.population"
      ]
    },
    {
      "cell_type": "code",
      "execution_count": null,
      "metadata": {
        "id": "INZbUJimpk1I",
        "outputId": "0bbfadc0-bcc0-43ad-dd58-1863de619fae"
      },
      "outputs": [
        {
          "data": {
            "text/plain": [
              "[[101, Mohit, 23, True],\n",
              " [102, Prateek, 27, True],\n",
              " [103, Jatin, 26, True],\n",
              " [104, James, 30, True]]"
            ]
          },
          "execution_count": 132,
          "metadata": {},
          "output_type": "execute_result"
        }
      ],
      "source": [
        "Human.database"
      ]
    },
    {
      "cell_type": "code",
      "execution_count": null,
      "metadata": {
        "id": "06r1tN0jpk1I",
        "outputId": "451e7135-99b5-4a71-9641-8dd25fb2f7a5"
      },
      "outputs": [
        {
          "name": "stdout",
          "output_type": "stream",
          "text": [
            "James is killing Jatin\n",
            "Jatin is dying...\n"
          ]
        }
      ],
      "source": [
        "bond.kill(h3)"
      ]
    },
    {
      "cell_type": "code",
      "execution_count": null,
      "metadata": {
        "id": "4FTTGNztpk1I",
        "outputId": "b0abee99-d100-4d0b-ae9d-ff6fca774987"
      },
      "outputs": [
        {
          "data": {
            "text/plain": [
              "1"
            ]
          },
          "execution_count": 134,
          "metadata": {},
          "output_type": "execute_result"
        }
      ],
      "source": [
        "bond.kills"
      ]
    },
    {
      "cell_type": "code",
      "execution_count": null,
      "metadata": {
        "id": "Ofz8tjJApk1J",
        "outputId": "10f93b95-824e-432f-b7f3-793139d8b571"
      },
      "outputs": [
        {
          "data": {
            "text/plain": [
              "[[103, Jatin, 26, False]]"
            ]
          },
          "execution_count": 135,
          "metadata": {},
          "output_type": "execute_result"
        }
      ],
      "source": [
        "bond.kill_list"
      ]
    },
    {
      "cell_type": "code",
      "execution_count": null,
      "metadata": {
        "id": "FRQlN5Ovpk1J",
        "outputId": "8487754e-3462-4ede-a79b-5739adc19f6a"
      },
      "outputs": [
        {
          "data": {
            "text/plain": [
              "3"
            ]
          },
          "execution_count": 136,
          "metadata": {},
          "output_type": "execute_result"
        }
      ],
      "source": [
        "Human.population"
      ]
    },
    {
      "cell_type": "code",
      "execution_count": null,
      "metadata": {
        "id": "6sylVri_pk1J",
        "outputId": "c5fb9169-83bd-450e-9802-297fd72eba36"
      },
      "outputs": [
        {
          "data": {
            "text/plain": [
              "[[101, Mohit, 23, True],\n",
              " [102, Prateek, 27, True],\n",
              " [103, Jatin, 26, False],\n",
              " [104, James, 30, True]]"
            ]
          },
          "execution_count": 137,
          "metadata": {},
          "output_type": "execute_result"
        }
      ],
      "source": [
        "Human.database"
      ]
    },
    {
      "cell_type": "code",
      "execution_count": null,
      "metadata": {
        "id": "PEgHi6hdpk1J",
        "outputId": "07e9ed5a-7070-47e9-831d-feb478823bf0"
      },
      "outputs": [
        {
          "name": "stdout",
          "output_type": "stream",
          "text": [
            "Jatin is already dead\n"
          ]
        }
      ],
      "source": [
        "bond.kill(h3)"
      ]
    },
    {
      "cell_type": "markdown",
      "metadata": {
        "id": "XCeuAHH5pk1K"
      },
      "source": [
        "### Polymorphism\n",
        "   **poly** - many\n",
        "   **morph** - forms\n",
        "   \n",
        "    - One function Name can have different functionality.\n",
        "    \n",
        "**Function overriding**\n",
        "    - If derived class defines same function as defined in its base class, it is known as function overriding. this is used to achieve a polymorphism"
      ]
    },
    {
      "cell_type": "code",
      "execution_count": null,
      "metadata": {
        "id": "puPNa3hcpk1K"
      },
      "outputs": [],
      "source": [
        "# Parent Class\n",
        "\n",
        "class Human():\n",
        "    id_seq = 101\n",
        "    database = []\n",
        "    population = 0\n",
        "\n",
        "    def __init__(self, name, age, is_alive=True):\n",
        "        self.name = name\n",
        "        self.age = age\n",
        "        self.is_alive = is_alive\n",
        "        # adding id of object\n",
        "        self.id = Human.id_seq\n",
        "        Human.id_seq += 1\n",
        "        Human.database.append(self)\n",
        "        Human.population +=1\n",
        "\n",
        "    def introduce(self):\n",
        "        print(\"Hi, My name is\", self.name, \"My age is \", self.age)\n",
        "\n",
        "    def die(self):\n",
        "        if self.is_alive:\n",
        "            print(self.name, \"is dying...\")\n",
        "            self.is_alive = False\n",
        "            Human.population -=1\n",
        "        else:\n",
        "            print(\"{} is already dead.\".format(self.name))\n",
        "\n",
        "    def __repr__(self):\n",
        "        return \"[{}, {}, {}, {}]\".format(self.id, self.name, self.age, self.is_alive)"
      ]
    },
    {
      "cell_type": "code",
      "execution_count": null,
      "metadata": {
        "id": "AEqSPbkbpk1K"
      },
      "outputs": [],
      "source": [
        "# Child Class\n",
        "class Hitman(Human):\n",
        "\n",
        "    def __init__(self, name, age):\n",
        "        super().__init__(name, age)\n",
        "\n",
        "        self.kills = 0\n",
        "        self.kill_list = []\n",
        "\n",
        "    def kill(self, person):\n",
        "        \"\"\"\n",
        "        person will be an obj of Human\n",
        "        \"\"\"\n",
        "        if person.is_alive:\n",
        "            print(\"{} is killing {}\".format(self.name, person.name))\n",
        "            person.die()\n",
        "            self.kills+=1\n",
        "            self.kill_list.append(person)\n",
        "        else:\n",
        "            print(\"{} is already dead\".format(person.name))\n",
        "\n",
        "    #function overriding\n",
        "    def introduce(self):\n",
        "        print(\"Hi, my name is {}, I've killed {} people\".format(self.name, self.kills))"
      ]
    },
    {
      "cell_type": "code",
      "execution_count": null,
      "metadata": {
        "id": "ldNM5w2ypk1K"
      },
      "outputs": [],
      "source": [
        "h1 = Human(\"Mohit\", 23)\n",
        "h2 = Human(\"Prateek\", 27)\n",
        "h3 = Human(\"Jatin\", 26)"
      ]
    },
    {
      "cell_type": "code",
      "execution_count": null,
      "metadata": {
        "id": "HH8np7ZJpk1K"
      },
      "outputs": [],
      "source": [
        "bond = Hitman(\"James\", 30)"
      ]
    },
    {
      "cell_type": "code",
      "execution_count": null,
      "metadata": {
        "id": "D-RjSi7zpk1L",
        "outputId": "498e2a44-e8a7-4ae7-d667-345f86c329fc"
      },
      "outputs": [
        {
          "name": "stdout",
          "output_type": "stream",
          "text": [
            "James is killing Jatin\n",
            "Jatin is dying...\n"
          ]
        }
      ],
      "source": [
        "bond.kill(h3)"
      ]
    },
    {
      "cell_type": "code",
      "execution_count": null,
      "metadata": {
        "id": "om5yzJOTpk1L",
        "outputId": "7c06d48d-f169-43e8-ca6e-aa94f1a5d6bb"
      },
      "outputs": [
        {
          "name": "stdout",
          "output_type": "stream",
          "text": [
            "Hi, My name is Mohit My age is  23\n"
          ]
        }
      ],
      "source": [
        "h1.introduce()"
      ]
    },
    {
      "cell_type": "code",
      "execution_count": null,
      "metadata": {
        "id": "q98vzti4pk1L",
        "outputId": "7fe389e2-49db-4c0d-b5cc-6a92d575a913"
      },
      "outputs": [
        {
          "name": "stdout",
          "output_type": "stream",
          "text": [
            "Hi, my name is James, I've killed 1 people\n"
          ]
        }
      ],
      "source": [
        "bond.introduce()"
      ]
    },
    {
      "cell_type": "code",
      "execution_count": null,
      "metadata": {
        "id": "cCpeMEvnpk1L",
        "outputId": "f346a245-699f-4f48-a5b1-f9675f220a73"
      },
      "outputs": [
        {
          "name": "stdout",
          "output_type": "stream",
          "text": [
            "James is killing Mohit\n",
            "Mohit is dying...\n"
          ]
        }
      ],
      "source": [
        "bond.kill(h1)"
      ]
    },
    {
      "cell_type": "code",
      "execution_count": null,
      "metadata": {
        "id": "aOL8VUp-pk1M",
        "outputId": "4c9df7fe-e397-473e-bf8f-e17eb57f2828"
      },
      "outputs": [
        {
          "name": "stdout",
          "output_type": "stream",
          "text": [
            "Hi, my name is James, I've killed 2 people\n"
          ]
        }
      ],
      "source": [
        "bond.introduce()"
      ]
    },
    {
      "cell_type": "code",
      "execution_count": null,
      "metadata": {
        "id": "d9Xas4mspk1M",
        "outputId": "1bdaba50-15b0-49ce-9b24-6b31456fe550"
      },
      "outputs": [
        {
          "name": "stdout",
          "output_type": "stream",
          "text": [
            "Hi, My name is Prateek My age is  27\n"
          ]
        }
      ],
      "source": [
        "h2.introduce()"
      ]
    },
    {
      "cell_type": "markdown",
      "source": [
        "##  Property Decorators Getters, Setters, And Deletes\n",
        " _self.name --> single _ indicates the variable is protected\n",
        "\n",
        " __self.name --> double __ indicates the variable is private"
      ],
      "metadata": {
        "id": "m0KjgPJu9BVj"
      }
    },
    {
      "cell_type": "code",
      "source": [
        "class Person:\n",
        "    def __init__(self,name, age=0):\n",
        "        self.name = name\n",
        "        self.__age = age\n",
        "\n",
        "    @property\n",
        "    def get_age(self):\n",
        "        return self.__age\n",
        "\n",
        "    @get_age.setter\n",
        "    def set_age(self, value):\n",
        "        if value < 1:\n",
        "            pass\n",
        "        else:\n",
        "            self.__age = value\n",
        "\n",
        "    @get_age.deleter\n",
        "    def delete_age(self):\n",
        "        del self.__age"
      ],
      "metadata": {
        "id": "uDMGbpAB9amx"
      },
      "execution_count": 17,
      "outputs": []
    },
    {
      "cell_type": "code",
      "source": [
        "p1 = Person('vipin',25)\n",
        "p1.name"
      ],
      "metadata": {
        "id": "aUv6GGT7__Pj",
        "outputId": "8dd088e2-3f69-4218-c7c1-eeeb0f7252f0",
        "colab": {
          "base_uri": "https://localhost:8080/",
          "height": 35
        }
      },
      "execution_count": 18,
      "outputs": [
        {
          "output_type": "execute_result",
          "data": {
            "text/plain": [
              "'vipin'"
            ],
            "application/vnd.google.colaboratory.intrinsic+json": {
              "type": "string"
            }
          },
          "metadata": {},
          "execution_count": 18
        }
      ]
    },
    {
      "cell_type": "code",
      "source": [
        "p1._Person__age"
      ],
      "metadata": {
        "id": "CP5tEvRu__Gv",
        "outputId": "adc830b9-9dca-4796-c3cd-b3a464e06864",
        "colab": {
          "base_uri": "https://localhost:8080/"
        }
      },
      "execution_count": 19,
      "outputs": [
        {
          "output_type": "execute_result",
          "data": {
            "text/plain": [
              "25"
            ]
          },
          "metadata": {},
          "execution_count": 19
        }
      ]
    },
    {
      "cell_type": "code",
      "source": [
        "p1.get_age"
      ],
      "metadata": {
        "id": "xJjKc0oQ_-9J",
        "outputId": "2740b235-481a-4d64-e07a-22710ca49655",
        "colab": {
          "base_uri": "https://localhost:8080/"
        }
      },
      "execution_count": 20,
      "outputs": [
        {
          "output_type": "execute_result",
          "data": {
            "text/plain": [
              "25"
            ]
          },
          "metadata": {},
          "execution_count": 20
        }
      ]
    },
    {
      "cell_type": "code",
      "source": [
        "p1.set_age = 30\n",
        "p1.get_age"
      ],
      "metadata": {
        "id": "mfOXX-6E_-yM",
        "outputId": "b450eac8-511b-4a37-cde3-d6481664f098",
        "colab": {
          "base_uri": "https://localhost:8080/"
        }
      },
      "execution_count": 21,
      "outputs": [
        {
          "output_type": "execute_result",
          "data": {
            "text/plain": [
              "30"
            ]
          },
          "metadata": {},
          "execution_count": 21
        }
      ]
    },
    {
      "cell_type": "code",
      "source": [
        "del p1.delete_age"
      ],
      "metadata": {
        "id": "dWUomDRP_-gf"
      },
      "execution_count": 22,
      "outputs": []
    }
  ],
  "metadata": {
    "kernelspec": {
      "display_name": "Python 3",
      "language": "python",
      "name": "python3"
    },
    "language_info": {
      "codemirror_mode": {
        "name": "ipython",
        "version": 3
      },
      "file_extension": ".py",
      "mimetype": "text/x-python",
      "name": "python",
      "nbconvert_exporter": "python",
      "pygments_lexer": "ipython3",
      "version": "3.8.5"
    },
    "colab": {
      "provenance": [],
      "include_colab_link": true
    }
  },
  "nbformat": 4,
  "nbformat_minor": 0
}