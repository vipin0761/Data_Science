{
  "cells": [
    {
      "cell_type": "markdown",
      "metadata": {
        "id": "view-in-github",
        "colab_type": "text"
      },
      "source": [
        "<a href=\"https://colab.research.google.com/github/vipin0761/Data_Science/blob/main/pandas_part_2.ipynb\" target=\"_parent\"><img src=\"https://colab.research.google.com/assets/colab-badge.svg\" alt=\"Open In Colab\"/></a>"
      ]
    },
    {
      "cell_type": "code",
      "execution_count": null,
      "id": "db6aec57-1649-40b6-b556-1818d97caac9",
      "metadata": {
        "id": "db6aec57-1649-40b6-b556-1818d97caac9"
      },
      "outputs": [],
      "source": [
        "import pandas as pd"
      ]
    },
    {
      "cell_type": "code",
      "execution_count": null,
      "id": "42408f99-c0e8-4b6f-9f70-de76246ae62d",
      "metadata": {
        "id": "42408f99-c0e8-4b6f-9f70-de76246ae62d"
      },
      "outputs": [],
      "source": [
        "df= pd.read_csv(\"https://raw.githubusercontent.com/datasciencedojo/datasets/master/titanic.csv\")"
      ]
    },
    {
      "cell_type": "code",
      "execution_count": null,
      "id": "b32b578e-75f9-479c-8984-e7eabf42cada",
      "metadata": {
        "colab": {
          "base_uri": "https://localhost:8080/"
        },
        "id": "b32b578e-75f9-479c-8984-e7eabf42cada",
        "outputId": "c7d335fa-2b5d-41e5-fec3-a14359f37b40"
      },
      "outputs": [
        {
          "output_type": "execute_result",
          "data": {
            "text/plain": [
              "Index(['PassengerId', 'Survived', 'Pclass', 'Name', 'Sex', 'Age', 'SibSp',\n",
              "       'Parch', 'Ticket', 'Fare', 'Cabin', 'Embarked'],\n",
              "      dtype='object')"
            ]
          },
          "metadata": {},
          "execution_count": 3
        }
      ],
      "source": [
        "df.columns"
      ]
    },
    {
      "cell_type": "code",
      "execution_count": null,
      "id": "4eee517e-0bd8-4902-9f92-fe172919570a",
      "metadata": {
        "id": "4eee517e-0bd8-4902-9f92-fe172919570a"
      },
      "outputs": [],
      "source": [
        "s = df['Name'][0:10]"
      ]
    },
    {
      "cell_type": "code",
      "execution_count": null,
      "id": "6cd57910-1e54-4006-8fc0-882b21405132",
      "metadata": {
        "colab": {
          "base_uri": "https://localhost:8080/"
        },
        "id": "6cd57910-1e54-4006-8fc0-882b21405132",
        "outputId": "4c3299ff-3806-46d9-f6e6-a299642ec9c6"
      },
      "outputs": [
        {
          "output_type": "execute_result",
          "data": {
            "text/plain": [
              "10"
            ]
          },
          "metadata": {},
          "execution_count": 6
        }
      ],
      "source": [
        "len(s)"
      ]
    },
    {
      "cell_type": "code",
      "execution_count": null,
      "id": "cfdf0e3a-b14e-45ce-85cc-d681f65fb8e4",
      "metadata": {
        "colab": {
          "base_uri": "https://localhost:8080/"
        },
        "id": "cfdf0e3a-b14e-45ce-85cc-d681f65fb8e4",
        "outputId": "b70c2a69-2ba1-4f2d-9767-640f5203c30f"
      },
      "outputs": [
        {
          "output_type": "execute_result",
          "data": {
            "text/plain": [
              "pandas.core.series.Series"
            ]
          },
          "metadata": {},
          "execution_count": 7
        }
      ],
      "source": [
        "type(s)"
      ]
    },
    {
      "cell_type": "code",
      "execution_count": null,
      "id": "e4ba3096-9c31-40f4-be46-6ca4e30745dd",
      "metadata": {
        "id": "e4ba3096-9c31-40f4-be46-6ca4e30745dd"
      },
      "outputs": [],
      "source": [
        "l = ['sudh','b','c','d','e','f','g','h','i','j']"
      ]
    },
    {
      "cell_type": "code",
      "execution_count": null,
      "id": "3c749a6f-cae3-4234-8b86-f1a70b362802",
      "metadata": {
        "colab": {
          "base_uri": "https://localhost:8080/",
          "height": 35
        },
        "id": "3c749a6f-cae3-4234-8b86-f1a70b362802",
        "outputId": "ac7d4612-7527-4828-e6d1-65ba94b4b92b"
      },
      "outputs": [
        {
          "output_type": "execute_result",
          "data": {
            "text/plain": [
              "'Braund, Mr. Owen Harris'"
            ],
            "application/vnd.google.colaboratory.intrinsic+json": {
              "type": "string"
            }
          },
          "metadata": {},
          "execution_count": 10
        }
      ],
      "source": [
        "s1 =pd.Series(list(s),index=l) # custom indexing for a series\n",
        "s1[0] # it will still follow the internal indexing along with the new indexing"
      ]
    },
    {
      "cell_type": "code",
      "source": [
        "s1['c'] # named indexing"
      ],
      "metadata": {
        "colab": {
          "base_uri": "https://localhost:8080/",
          "height": 35
        },
        "id": "o1ZV0WCXfy7D",
        "outputId": "02e1187b-740f-43bf-f0db-cf9842ed4bb6"
      },
      "id": "o1ZV0WCXfy7D",
      "execution_count": null,
      "outputs": [
        {
          "output_type": "execute_result",
          "data": {
            "text/plain": [
              "'Heikkinen, Miss. Laina'"
            ],
            "application/vnd.google.colaboratory.intrinsic+json": {
              "type": "string"
            }
          },
          "metadata": {},
          "execution_count": 12
        }
      ]
    },
    {
      "cell_type": "code",
      "execution_count": null,
      "id": "64a260c7-bd7e-40c5-a1cb-43cb827d279a",
      "metadata": {
        "colab": {
          "base_uri": "https://localhost:8080/"
        },
        "id": "64a260c7-bd7e-40c5-a1cb-43cb827d279a",
        "outputId": "240f4708-abcc-401b-8718-e4da0c15d4be"
      },
      "outputs": [
        {
          "output_type": "stream",
          "name": "stderr",
          "text": [
            "<ipython-input-11-fbe6a73a1c7c>:1: FutureWarning: The series.append method is deprecated and will be removed from pandas in a future version. Use pandas.concat instead.\n",
            "  s2 = s1.append(s)\n"
          ]
        }
      ],
      "source": [
        "\n",
        "s2 = s1.append(s) # combining series"
      ]
    },
    {
      "cell_type": "markdown",
      "source": [
        "### Drop and Fill NA cells"
      ],
      "metadata": {
        "id": "Iy0x3F41LNvE"
      },
      "id": "Iy0x3F41LNvE"
    },
    {
      "cell_type": "code",
      "execution_count": null,
      "metadata": {
        "id": "78f336c2-55fc-41a8-b7ad-1bdfaba286e5"
      },
      "outputs": [],
      "source": [
        "df.drop('PassengerId',axis=1,inplace=True) # dropping entries axis = 0 --  rows and axis = 1 -- column\n",
        "# inplace =  true -- change is permanent"
      ],
      "id": "78f336c2-55fc-41a8-b7ad-1bdfaba286e5"
    },
    {
      "cell_type": "code",
      "execution_count": null,
      "metadata": {
        "id": "6af7ab29-365f-47f1-8458-15175475624e"
      },
      "outputs": [],
      "source": [
        "df.drop(3,inplace=True) # dropping rows"
      ],
      "id": "6af7ab29-365f-47f1-8458-15175475624e"
    },
    {
      "cell_type": "code",
      "execution_count": null,
      "metadata": {
        "id": "0ffb9112-c165-4f80-8788-56396afdd51e"
      },
      "outputs": [],
      "source": [
        "df.set_index(\"Name\",inplace=True) # setting a column as index\n",
        "\n",
        "df.reset_index() #  reset index"
      ],
      "id": "0ffb9112-c165-4f80-8788-56396afdd51e"
    },
    {
      "cell_type": "code",
      "source": [
        "df.dropna(axis=1) # drop columns that have na values\n",
        "# axis = 0 will drop rows with na values"
      ],
      "metadata": {
        "id": "xfJdAYWmxlce"
      },
      "execution_count": null,
      "outputs": [],
      "id": "xfJdAYWmxlce"
    },
    {
      "cell_type": "code",
      "execution_count": null,
      "metadata": {
        "id": "402a5320-47f4-49dd-86ac-4605102d62ea"
      },
      "outputs": [],
      "source": [
        "df.dropna(inplace=True) # permanently delete na rows"
      ],
      "id": "402a5320-47f4-49dd-86ac-4605102d62ea"
    },
    {
      "cell_type": "code",
      "source": [
        "df.fillna(\"sudh\") #  replace na  with a value"
      ],
      "metadata": {
        "id": "88tcUXg7I6dg"
      },
      "execution_count": null,
      "outputs": [],
      "id": "88tcUXg7I6dg"
    },
    {
      "cell_type": "markdown",
      "source": [
        "### group by"
      ],
      "metadata": {
        "id": "s00A0Z2wJe9l"
      },
      "id": "s00A0Z2wJe9l"
    },
    {
      "cell_type": "code",
      "execution_count": null,
      "metadata": {
        "id": "0a4f4120-8cdd-4a98-8953-281f3ff717e1"
      },
      "outputs": [],
      "source": [
        "g = df.groupby('Survived') # group data by a column"
      ],
      "id": "0a4f4120-8cdd-4a98-8953-281f3ff717e1"
    },
    {
      "cell_type": "code",
      "execution_count": null,
      "metadata": {
        "id": "1cdc3f56-22c0-46c4-a1d0-d8cbc91b0f7f",
        "outputId": "ee20bb5a-499a-447a-9066-54426bb68ed6"
      },
      "outputs": [
        {
          "data": {
            "text/plain": [
              "<pandas.core.groupby.generic.DataFrameGroupBy object at 0x7fe33c355b40>"
            ]
          },
          "execution_count": 40,
          "metadata": {},
          "output_type": "execute_result"
        }
      ],
      "source": [
        "g"
      ],
      "id": "1cdc3f56-22c0-46c4-a1d0-d8cbc91b0f7f"
    },
    {
      "cell_type": "code",
      "execution_count": null,
      "metadata": {
        "id": "14f27fcd-03a6-40cf-8fa7-dd2a280c295c",
        "outputId": "469ff67e-f7da-43d6-c803-86125c1347d0"
      },
      "outputs": [
        {
          "name": "stderr",
          "output_type": "stream",
          "text": [
            "/tmp/ipykernel_103/1197020669.py:1: FutureWarning: The default value of numeric_only in DataFrameGroupBy.sum is deprecated. In a future version, numeric_only will default to False. Either specify numeric_only or select only columns which should be valid for the function.\n",
            "  g.sum()\n"
          ]
        },
        {
          "data": {
            "text/html": [
              "<div>\n",
              "<style scoped>\n",
              "    .dataframe tbody tr th:only-of-type {\n",
              "        vertical-align: middle;\n",
              "    }\n",
              "\n",
              "    .dataframe tbody tr th {\n",
              "        vertical-align: top;\n",
              "    }\n",
              "\n",
              "    .dataframe thead th {\n",
              "        text-align: right;\n",
              "    }\n",
              "</style>\n",
              "<table border=\"1\" class=\"dataframe\">\n",
              "  <thead>\n",
              "    <tr style=\"text-align: right;\">\n",
              "      <th></th>\n",
              "      <th>Pclass</th>\n",
              "      <th>Age</th>\n",
              "      <th>SibSp</th>\n",
              "      <th>Parch</th>\n",
              "      <th>Fare</th>\n",
              "    </tr>\n",
              "    <tr>\n",
              "      <th>Survived</th>\n",
              "      <th></th>\n",
              "      <th></th>\n",
              "      <th></th>\n",
              "      <th></th>\n",
              "      <th></th>\n",
              "    </tr>\n",
              "  </thead>\n",
              "  <tbody>\n",
              "    <tr>\n",
              "      <th>0</th>\n",
              "      <td>1390</td>\n",
              "      <td>12985.50</td>\n",
              "      <td>304</td>\n",
              "      <td>181</td>\n",
              "      <td>12142.7199</td>\n",
              "    </tr>\n",
              "    <tr>\n",
              "      <th>1</th>\n",
              "      <td>666</td>\n",
              "      <td>8184.67</td>\n",
              "      <td>161</td>\n",
              "      <td>159</td>\n",
              "      <td>16498.1294</td>\n",
              "    </tr>\n",
              "  </tbody>\n",
              "</table>\n",
              "</div>"
            ],
            "text/plain": [
              "          Pclass       Age  SibSp  Parch        Fare\n",
              "Survived                                            \n",
              "0           1390  12985.50    304    181  12142.7199\n",
              "1            666   8184.67    161    159  16498.1294"
            ]
          },
          "execution_count": 41,
          "metadata": {},
          "output_type": "execute_result"
        }
      ],
      "source": [
        "g.sum()"
      ],
      "id": "14f27fcd-03a6-40cf-8fa7-dd2a280c295c"
    },
    {
      "cell_type": "code",
      "source": [
        "g.mean()\n",
        "g.max()\n",
        "g.max().T  # transpose the output\n",
        "g1.max().transpose()  # transpose the output"
      ],
      "metadata": {
        "id": "DK-d6u6RKYjU"
      },
      "execution_count": null,
      "outputs": [],
      "id": "DK-d6u6RKYjU"
    },
    {
      "cell_type": "markdown",
      "source": [
        "### Concatenating and Merging data Frames"
      ],
      "metadata": {
        "id": "hYfi7IlPLDtL"
      },
      "id": "hYfi7IlPLDtL"
    },
    {
      "cell_type": "code",
      "execution_count": null,
      "metadata": {
        "id": "3af7f03f-b3e6-4403-835f-e9c7809b8afb"
      },
      "outputs": [],
      "source": [
        "df5 = df[['Name',\t'Survived',\t'Pclass']][0:5]"
      ],
      "id": "3af7f03f-b3e6-4403-835f-e9c7809b8afb"
    },
    {
      "cell_type": "code",
      "execution_count": null,
      "metadata": {
        "id": "0b98f723-e5d5-4176-976d-7ea556bb221a"
      },
      "outputs": [],
      "source": [
        "df6 = df[['Name',\t'Survived',\t'Pclass']][5:10]"
      ],
      "id": "0b98f723-e5d5-4176-976d-7ea556bb221a"
    },
    {
      "cell_type": "code",
      "execution_count": null,
      "metadata": {
        "id": "17e80a87-3518-44c3-897d-d18d041e5034"
      },
      "outputs": [],
      "source": [
        "df7 = pd.concat([df5,df6],axis=1) # axis --1 column wise operation , 0-- row wise operation"
      ],
      "id": "17e80a87-3518-44c3-897d-d18d041e5034"
    },
    {
      "cell_type": "code",
      "source": [
        "pd.merge(data1,data2) # inner join between data1 and data2 with auto selection of common columns\n",
        "\n",
        "pd.merge(data1,data2,how = 'left') # left join (picks everything from data1)\n",
        "\n",
        "pd.merge(data1,data2,how = 'right') # right join (picks everything from data2)\n",
        "\n",
        "pd.merge(data1,data2,how = 'outer',on = 'key1') # outer join -- mereges each row from data1 and data2\n",
        "# on defines the column used to merge the data sets\n",
        "\n",
        "pd.merge(data1,data2,how = 'cross') # cretes a cartesian product of data1 and data2\n",
        "\n",
        "\n",
        "\n"
      ],
      "metadata": {
        "id": "5MhHT-maRVq7"
      },
      "execution_count": null,
      "outputs": [],
      "id": "5MhHT-maRVq7"
    },
    {
      "cell_type": "markdown",
      "source": [
        "### Join data frames\n",
        "\n",
        "join is similar to merge but this is operating on a per row basis rater than a per column basis"
      ],
      "metadata": {
        "id": "oleLBTQ7SxkV"
      },
      "id": "oleLBTQ7SxkV"
    },
    {
      "cell_type": "code",
      "execution_count": null,
      "metadata": {
        "id": "89cd9640-6596-49ed-9a6d-735425abc2a8"
      },
      "outputs": [],
      "source": [
        "data1 = pd.DataFrame({'key1':[1,2,4,5,6],\n",
        "                      'key2':[4,5,6,7,8],\n",
        "                      'key3':[3,4,5,6,6]},\n",
        "                     index = ['a','b','c','d','e']\n",
        ")"
      ],
      "id": "89cd9640-6596-49ed-9a6d-735425abc2a8"
    },
    {
      "cell_type": "code",
      "execution_count": null,
      "metadata": {
        "id": "9b381eee-4cac-4940-8824-905eadeb17e7"
      },
      "outputs": [],
      "source": [
        "data2 = pd.DataFrame({'key11':[1,2,4,5,6],\n",
        "                      'key22':[4,5,6,7,8],\n",
        "                      'key33':[3,4,5,6,6]\n",
        "},index=['a','b','h','i','j']\n",
        ")"
      ],
      "id": "9b381eee-4cac-4940-8824-905eadeb17e7"
    },
    {
      "cell_type": "code",
      "execution_count": null,
      "metadata": {
        "id": "333fc9c4-379e-4d09-8e26-a02a0828b279",
        "outputId": "bd903bba-99b2-4e9a-86c9-8aaa8f60417c"
      },
      "outputs": [
        {
          "data": {
            "text/html": [
              "<div>\n",
              "<style scoped>\n",
              "    .dataframe tbody tr th:only-of-type {\n",
              "        vertical-align: middle;\n",
              "    }\n",
              "\n",
              "    .dataframe tbody tr th {\n",
              "        vertical-align: top;\n",
              "    }\n",
              "\n",
              "    .dataframe thead th {\n",
              "        text-align: right;\n",
              "    }\n",
              "</style>\n",
              "<table border=\"1\" class=\"dataframe\">\n",
              "  <thead>\n",
              "    <tr style=\"text-align: right;\">\n",
              "      <th></th>\n",
              "      <th>key1</th>\n",
              "      <th>key2</th>\n",
              "      <th>key3</th>\n",
              "      <th>key11</th>\n",
              "      <th>key22</th>\n",
              "      <th>key33</th>\n",
              "    </tr>\n",
              "  </thead>\n",
              "  <tbody>\n",
              "    <tr>\n",
              "      <th>a</th>\n",
              "      <td>1</td>\n",
              "      <td>4</td>\n",
              "      <td>3</td>\n",
              "      <td>1.0</td>\n",
              "      <td>4.0</td>\n",
              "      <td>3.0</td>\n",
              "    </tr>\n",
              "    <tr>\n",
              "      <th>b</th>\n",
              "      <td>2</td>\n",
              "      <td>5</td>\n",
              "      <td>4</td>\n",
              "      <td>2.0</td>\n",
              "      <td>5.0</td>\n",
              "      <td>4.0</td>\n",
              "    </tr>\n",
              "    <tr>\n",
              "      <th>c</th>\n",
              "      <td>4</td>\n",
              "      <td>6</td>\n",
              "      <td>5</td>\n",
              "      <td>NaN</td>\n",
              "      <td>NaN</td>\n",
              "      <td>NaN</td>\n",
              "    </tr>\n",
              "    <tr>\n",
              "      <th>d</th>\n",
              "      <td>5</td>\n",
              "      <td>7</td>\n",
              "      <td>6</td>\n",
              "      <td>NaN</td>\n",
              "      <td>NaN</td>\n",
              "      <td>NaN</td>\n",
              "    </tr>\n",
              "    <tr>\n",
              "      <th>e</th>\n",
              "      <td>6</td>\n",
              "      <td>8</td>\n",
              "      <td>6</td>\n",
              "      <td>NaN</td>\n",
              "      <td>NaN</td>\n",
              "      <td>NaN</td>\n",
              "    </tr>\n",
              "  </tbody>\n",
              "</table>\n",
              "</div>"
            ],
            "text/plain": [
              "   key1  key2  key3  key11  key22  key33\n",
              "a     1     4     3    1.0    4.0    3.0\n",
              "b     2     5     4    2.0    5.0    4.0\n",
              "c     4     6     5    NaN    NaN    NaN\n",
              "d     5     7     6    NaN    NaN    NaN\n",
              "e     6     8     6    NaN    NaN    NaN"
            ]
          },
          "execution_count": 97,
          "metadata": {},
          "output_type": "execute_result"
        }
      ],
      "source": [
        "data1.join(data2)  # left join by default"
      ],
      "id": "333fc9c4-379e-4d09-8e26-a02a0828b279"
    },
    {
      "cell_type": "code",
      "source": [
        "data1.join(data2,how='right')\n",
        "\n",
        "data1.join(data2,how='inner')\n",
        "\n",
        "data1.join(data2,how='outer')\n",
        "\n",
        "data1.join(data2,how='cross')\n"
      ],
      "metadata": {
        "id": "dqOIKvjRUddT"
      },
      "execution_count": null,
      "outputs": [],
      "id": "dqOIKvjRUddT"
    },
    {
      "cell_type": "markdown",
      "source": [
        "## apply operations"
      ],
      "metadata": {
        "id": "SzSxmWn9dFNb"
      },
      "id": "SzSxmWn9dFNb"
    },
    {
      "cell_type": "code",
      "execution_count": null,
      "metadata": {
        "id": "49e16316-5d8b-4838-a6cd-d133c1d3820b"
      },
      "outputs": [],
      "source": [
        "df['Fare_INR'] = df['Fare'].apply(lambda x : x*80)"
      ],
      "id": "49e16316-5d8b-4838-a6cd-d133c1d3820b"
    },
    {
      "cell_type": "code",
      "execution_count": null,
      "metadata": {
        "id": "b7f929e7-c204-41be-8b01-b12221f58f68"
      },
      "outputs": [],
      "source": [
        "def euro_inr(x):\n",
        "    return x*80\n",
        "\n",
        "df['Fare_INR'] = df['Fare'].apply(euro_inr)"
      ],
      "id": "b7f929e7-c204-41be-8b01-b12221f58f68"
    },
    {
      "cell_type": "code",
      "execution_count": null,
      "metadata": {
        "id": "38c58d52-96e3-4946-8fe1-48a1a2dfebae"
      },
      "outputs": [],
      "source": [
        "df['name_len'] = df['Name'].apply(len)"
      ],
      "id": "38c58d52-96e3-4946-8fe1-48a1a2dfebae"
    },
    {
      "cell_type": "code",
      "execution_count": null,
      "metadata": {
        "id": "cff9d702-0fa4-4d5f-9f49-21a9ad247041"
      },
      "outputs": [],
      "source": [
        "def cat_fare(x):\n",
        "    if x<10 :\n",
        "        return \"cheap\"\n",
        "    elif x>=10 and x<20:\n",
        "        return 'mid'\n",
        "    else :\n",
        "        return 'high'"
      ],
      "id": "cff9d702-0fa4-4d5f-9f49-21a9ad247041"
    },
    {
      "cell_type": "code",
      "execution_count": null,
      "metadata": {
        "id": "8ae0e4e3-8efb-4cd8-a8e2-99455560fb77"
      },
      "outputs": [],
      "source": [
        "df['car_fare'] = df['Fare'].apply(cat_fare)"
      ],
      "id": "8ae0e4e3-8efb-4cd8-a8e2-99455560fb77"
    }
  ],
  "metadata": {
    "kernelspec": {
      "display_name": "Python 3 (ipykernel)",
      "language": "python",
      "name": "python3"
    },
    "language_info": {
      "codemirror_mode": {
        "name": "ipython",
        "version": 3
      },
      "file_extension": ".py",
      "mimetype": "text/x-python",
      "name": "python",
      "nbconvert_exporter": "python",
      "pygments_lexer": "ipython3",
      "version": "3.10.8"
    },
    "colab": {
      "provenance": [],
      "include_colab_link": true
    }
  },
  "nbformat": 4,
  "nbformat_minor": 5
}