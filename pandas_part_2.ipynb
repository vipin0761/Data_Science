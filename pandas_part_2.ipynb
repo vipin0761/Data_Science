{
  "cells": [
    {
      "cell_type": "markdown",
      "metadata": {
        "id": "view-in-github",
        "colab_type": "text"
      },
      "source": [
        "<a href=\"https://colab.research.google.com/github/vipin0761/Data_Science/blob/main/pandas_part_2.ipynb\" target=\"_parent\"><img src=\"https://colab.research.google.com/assets/colab-badge.svg\" alt=\"Open In Colab\"/></a>"
      ]
    },
    {
      "cell_type": "code",
      "execution_count": 1,
      "id": "db6aec57-1649-40b6-b556-1818d97caac9",
      "metadata": {
        "id": "db6aec57-1649-40b6-b556-1818d97caac9"
      },
      "outputs": [],
      "source": [
        "import pandas as pd"
      ]
    },
    {
      "cell_type": "code",
      "execution_count": 2,
      "id": "42408f99-c0e8-4b6f-9f70-de76246ae62d",
      "metadata": {
        "id": "42408f99-c0e8-4b6f-9f70-de76246ae62d"
      },
      "outputs": [],
      "source": [
        "df= pd.read_csv(\"https://raw.githubusercontent.com/datasciencedojo/datasets/master/titanic.csv\")"
      ]
    },
    {
      "cell_type": "code",
      "execution_count": 3,
      "id": "b32b578e-75f9-479c-8984-e7eabf42cada",
      "metadata": {
        "colab": {
          "base_uri": "https://localhost:8080/"
        },
        "id": "b32b578e-75f9-479c-8984-e7eabf42cada",
        "outputId": "c7d335fa-2b5d-41e5-fec3-a14359f37b40"
      },
      "outputs": [
        {
          "output_type": "execute_result",
          "data": {
            "text/plain": [
              "Index(['PassengerId', 'Survived', 'Pclass', 'Name', 'Sex', 'Age', 'SibSp',\n",
              "       'Parch', 'Ticket', 'Fare', 'Cabin', 'Embarked'],\n",
              "      dtype='object')"
            ]
          },
          "metadata": {},
          "execution_count": 3
        }
      ],
      "source": [
        "df.columns"
      ]
    },
    {
      "cell_type": "code",
      "execution_count": 5,
      "id": "4eee517e-0bd8-4902-9f92-fe172919570a",
      "metadata": {
        "id": "4eee517e-0bd8-4902-9f92-fe172919570a"
      },
      "outputs": [],
      "source": [
        "s = df['Name'][0:10]"
      ]
    },
    {
      "cell_type": "code",
      "execution_count": 6,
      "id": "6cd57910-1e54-4006-8fc0-882b21405132",
      "metadata": {
        "colab": {
          "base_uri": "https://localhost:8080/"
        },
        "id": "6cd57910-1e54-4006-8fc0-882b21405132",
        "outputId": "4c3299ff-3806-46d9-f6e6-a299642ec9c6"
      },
      "outputs": [
        {
          "output_type": "execute_result",
          "data": {
            "text/plain": [
              "10"
            ]
          },
          "metadata": {},
          "execution_count": 6
        }
      ],
      "source": [
        "len(s)"
      ]
    },
    {
      "cell_type": "code",
      "execution_count": 7,
      "id": "cfdf0e3a-b14e-45ce-85cc-d681f65fb8e4",
      "metadata": {
        "colab": {
          "base_uri": "https://localhost:8080/"
        },
        "id": "cfdf0e3a-b14e-45ce-85cc-d681f65fb8e4",
        "outputId": "b70c2a69-2ba1-4f2d-9767-640f5203c30f"
      },
      "outputs": [
        {
          "output_type": "execute_result",
          "data": {
            "text/plain": [
              "pandas.core.series.Series"
            ]
          },
          "metadata": {},
          "execution_count": 7
        }
      ],
      "source": [
        "type(s)"
      ]
    },
    {
      "cell_type": "code",
      "execution_count": 8,
      "id": "e4ba3096-9c31-40f4-be46-6ca4e30745dd",
      "metadata": {
        "id": "e4ba3096-9c31-40f4-be46-6ca4e30745dd"
      },
      "outputs": [],
      "source": [
        "l = ['sudh','b','c','d','e','f','g','h','i','j']"
      ]
    },
    {
      "cell_type": "code",
      "execution_count": 10,
      "id": "3c749a6f-cae3-4234-8b86-f1a70b362802",
      "metadata": {
        "colab": {
          "base_uri": "https://localhost:8080/",
          "height": 35
        },
        "id": "3c749a6f-cae3-4234-8b86-f1a70b362802",
        "outputId": "ac7d4612-7527-4828-e6d1-65ba94b4b92b"
      },
      "outputs": [
        {
          "output_type": "execute_result",
          "data": {
            "text/plain": [
              "'Braund, Mr. Owen Harris'"
            ],
            "application/vnd.google.colaboratory.intrinsic+json": {
              "type": "string"
            }
          },
          "metadata": {},
          "execution_count": 10
        }
      ],
      "source": [
        "s1 =pd.Series(list(s),index=l) # custom indexing for a series\n",
        "s1[0] # it will still follow the internal indexing along with the new indexing"
      ]
    },
    {
      "cell_type": "code",
      "source": [
        "s1['c'] # named indexing"
      ],
      "metadata": {
        "colab": {
          "base_uri": "https://localhost:8080/",
          "height": 35
        },
        "id": "o1ZV0WCXfy7D",
        "outputId": "02e1187b-740f-43bf-f0db-cf9842ed4bb6"
      },
      "id": "o1ZV0WCXfy7D",
      "execution_count": 12,
      "outputs": [
        {
          "output_type": "execute_result",
          "data": {
            "text/plain": [
              "'Heikkinen, Miss. Laina'"
            ],
            "application/vnd.google.colaboratory.intrinsic+json": {
              "type": "string"
            }
          },
          "metadata": {},
          "execution_count": 12
        }
      ]
    },
    {
      "cell_type": "code",
      "execution_count": 11,
      "id": "64a260c7-bd7e-40c5-a1cb-43cb827d279a",
      "metadata": {
        "colab": {
          "base_uri": "https://localhost:8080/"
        },
        "id": "64a260c7-bd7e-40c5-a1cb-43cb827d279a",
        "outputId": "240f4708-abcc-401b-8718-e4da0c15d4be"
      },
      "outputs": [
        {
          "output_type": "stream",
          "name": "stderr",
          "text": [
            "<ipython-input-11-fbe6a73a1c7c>:1: FutureWarning: The series.append method is deprecated and will be removed from pandas in a future version. Use pandas.concat instead.\n",
            "  s2 = s1.append(s)\n"
          ]
        }
      ],
      "source": [
        "\n",
        "s2 = s1.append(s) # combining series"
      ]
    }
  ],
  "metadata": {
    "kernelspec": {
      "display_name": "Python 3 (ipykernel)",
      "language": "python",
      "name": "python3"
    },
    "language_info": {
      "codemirror_mode": {
        "name": "ipython",
        "version": 3
      },
      "file_extension": ".py",
      "mimetype": "text/x-python",
      "name": "python",
      "nbconvert_exporter": "python",
      "pygments_lexer": "ipython3",
      "version": "3.10.8"
    },
    "colab": {
      "provenance": [],
      "include_colab_link": true
    }
  },
  "nbformat": 4,
  "nbformat_minor": 5
}