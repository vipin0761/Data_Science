{
  "nbformat": 4,
  "nbformat_minor": 0,
  "metadata": {
    "colab": {
      "provenance": [],
      "authorship_tag": "ABX9TyOjpuQqR8Bf/6sm6FeZnbi+",
      "include_colab_link": true
    },
    "kernelspec": {
      "name": "python3",
      "display_name": "Python 3"
    },
    "language_info": {
      "name": "python"
    }
  },
  "cells": [
    {
      "cell_type": "markdown",
      "metadata": {
        "id": "view-in-github",
        "colab_type": "text"
      },
      "source": [
        "<a href=\"https://colab.research.google.com/github/vipin0761/python-engineer-notebooks/blob/master/modules%20and%20file%20handling.ipynb\" target=\"_parent\"><img src=\"https://colab.research.google.com/assets/colab-badge.svg\" alt=\"Open In Colab\"/></a>"
      ]
    },
    {
      "cell_type": "markdown",
      "source": [
        "## modules and import statements"
      ],
      "metadata": {
        "id": "8HersQkStvRU"
      }
    },
    {
      "cell_type": "code",
      "source": [
        "# setting to import all paths and files within the root directory\n",
        "\n",
        "import os, sys\n",
        "from os.path import dirname, join, abspath\n",
        "\n",
        "sys.path.insert(0, abspath(join(dirname(__file__),'..')))\n"
      ],
      "metadata": {
        "id": "-YrBXmg9tw26"
      },
      "execution_count": null,
      "outputs": []
    }
  ]
}