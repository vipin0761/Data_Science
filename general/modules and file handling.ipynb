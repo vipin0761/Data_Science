{
  "nbformat": 4,
  "nbformat_minor": 0,
  "metadata": {
    "colab": {
      "provenance": [],
      "authorship_tag": "ABX9TyMtNN3C6rpBo2SgK6jm0QwD",
      "include_colab_link": true
    },
    "kernelspec": {
      "name": "python3",
      "display_name": "Python 3"
    },
    "language_info": {
      "name": "python"
    }
  },
  "cells": [
    {
      "cell_type": "markdown",
      "metadata": {
        "id": "view-in-github",
        "colab_type": "text"
      },
      "source": [
        "<a href=\"https://colab.research.google.com/github/vipin0761/Data_Science/blob/main/general/modules%20and%20file%20handling.ipynb\" target=\"_parent\"><img src=\"https://colab.research.google.com/assets/colab-badge.svg\" alt=\"Open In Colab\"/></a>"
      ]
    },
    {
      "cell_type": "markdown",
      "source": [
        "## modules and import statements"
      ],
      "metadata": {
        "id": "8HersQkStvRU"
      }
    },
    {
      "cell_type": "code",
      "source": [
        "# setting to import all paths and files within the root directory\n",
        "\n",
        "import os, sys\n",
        "from os.path import dirname, join, abspath\n",
        "\n",
        "sys.path.insert(0, abspath(join(dirname(__file__),'..')))\n"
      ],
      "metadata": {
        "id": "-YrBXmg9tw26"
      },
      "execution_count": null,
      "outputs": []
    },
    {
      "cell_type": "code",
      "source": [
        "# READING A FILE\n",
        "\n",
        "f = open('myfile.txt', 'r')\n",
        "# print(f)\n",
        "text = f.read()\n",
        "print(text)\n",
        "f.close()\n",
        "\n",
        "# WRITING A FILE\n",
        "\n",
        "f = open('myfile.txt', 'a')\n",
        "f.write('Hello, world!')\n",
        "f.close()\n",
        "\n",
        "with open('myfile.txt', 'a') as f:\n",
        "  f.write(\"Hey I am inside with\")"
      ],
      "metadata": {
        "id": "g1HN0WmibzGN"
      },
      "execution_count": null,
      "outputs": []
    },
    {
      "cell_type": "code",
      "source": [
        "# reading a file line by line\n",
        "f = open('myfile.txt', 'r')\n",
        "i = 0\n",
        "while True:\n",
        "  i = i + 1\n",
        "  line = f.readline()\n",
        "  if not line:\n",
        "    break\n",
        "  m1 = int(line.split(\",\")[0])\n",
        "  m2 = int(line.split(\",\")[1])\n",
        "  m3 = int(line.split(\",\")[2])\n",
        "  print(f\"Marks of student {i} in Maths is: {m1*2}\")\n",
        "  print(f\"Marks of student {i} in English is: {m2*2}\")\n",
        "  print(f\"Marks of student {i} in SST is: {m3*2}\")\n",
        "\n",
        "  print(line)\n",
        "\n",
        "# writing a list to a file\n",
        "f = open('myfile2.txt', 'w')\n",
        "lines = ['line 1\\n', 'line 2\\n', 'line 3\\n']\n",
        "f.writelines(lines)\n",
        "f.close()"
      ],
      "metadata": {
        "id": "wv8mUsygcCP3"
      },
      "execution_count": null,
      "outputs": []
    }
  ]
}