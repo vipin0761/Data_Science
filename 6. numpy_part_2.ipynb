{
  "cells": [
    {
      "cell_type": "markdown",
      "metadata": {
        "id": "view-in-github",
        "colab_type": "text"
      },
      "source": [
        "<a href=\"https://colab.research.google.com/github/vipin0761/Data_Science/blob/main/numpy_part_2.ipynb\" target=\"_parent\"><img src=\"https://colab.research.google.com/assets/colab-badge.svg\" alt=\"Open In Colab\"/></a>"
      ]
    },
    {
      "cell_type": "markdown",
      "source": [
        "###Numpy - Array Manipulation."
      ],
      "metadata": {
        "id": "vMKMX4ae6_zL"
      },
      "id": "vMKMX4ae6_zL"
    },
    {
      "cell_type": "code",
      "execution_count": 1,
      "id": "dba4df9f-2c20-4ce4-a433-ef64cad090d0",
      "metadata": {
        "id": "dba4df9f-2c20-4ce4-a433-ef64cad090d0"
      },
      "outputs": [],
      "source": [
        "import numpy as np"
      ]
    },
    {
      "cell_type": "code",
      "execution_count": null,
      "id": "5632259c-dc2a-4f2a-9b61-7f383ea33a1b",
      "metadata": {
        "id": "5632259c-dc2a-4f2a-9b61-7f383ea33a1b"
      },
      "outputs": [],
      "source": [
        "arr = np.random.randint(1,10 , (3,4))\n",
        "arr.T # transpose an array\n",
        "arr.reshape(2,6) # reshape an array\n",
        "arr.flatten() # convert the data into 1 dimension"
      ]
    },
    {
      "cell_type": "code",
      "execution_count": 2,
      "id": "15357b1f-eff7-4453-89e8-3948f925c481",
      "metadata": {
        "id": "15357b1f-eff7-4453-89e8-3948f925c481"
      },
      "outputs": [],
      "source": [
        "arr1 = np.array([1,2,3,4,5])"
      ]
    },
    {
      "cell_type": "code",
      "execution_count": 3,
      "id": "828fbacd-05dd-4ec7-9a9f-be474c13eff5",
      "metadata": {
        "colab": {
          "base_uri": "https://localhost:8080/"
        },
        "id": "828fbacd-05dd-4ec7-9a9f-be474c13eff5",
        "outputId": "b72ce0fd-02bf-480e-d0fb-7ed18bb7461f"
      },
      "outputs": [
        {
          "output_type": "execute_result",
          "data": {
            "text/plain": [
              "array([[1],\n",
              "       [2],\n",
              "       [3],\n",
              "       [4],\n",
              "       [5]])"
            ]
          },
          "metadata": {},
          "execution_count": 3
        }
      ],
      "source": [
        "np.expand_dims(arr1 ,axis=1)  # expand the array to 2-d  axis = 1 expand across column || axis = 0 expand across row"
      ]
    },
    {
      "cell_type": "code",
      "execution_count": 4,
      "id": "482a100e-261c-4a52-b7af-fc34c9dc8487",
      "metadata": {
        "colab": {
          "base_uri": "https://localhost:8080/"
        },
        "id": "482a100e-261c-4a52-b7af-fc34c9dc8487",
        "outputId": "f17d54ea-1e87-42f4-a332-25abfe246075"
      },
      "outputs": [
        {
          "output_type": "execute_result",
          "data": {
            "text/plain": [
              "array([1, 2, 3])"
            ]
          },
          "metadata": {},
          "execution_count": 4
        }
      ],
      "source": [
        "data = np.array([[1] , [2] , [3]]) # squeeze and combine data to single row\n",
        "np.squeeze(data)"
      ]
    },
    {
      "cell_type": "code",
      "execution_count": 5,
      "id": "791c67b7-bafc-489f-8ff9-b27ace034515",
      "metadata": {
        "colab": {
          "base_uri": "https://localhost:8080/"
        },
        "id": "791c67b7-bafc-489f-8ff9-b27ace034515",
        "outputId": "26d05fbb-6de4-49e5-edd8-89b8ff6b47fa"
      },
      "outputs": [
        {
          "output_type": "execute_result",
          "data": {
            "text/plain": [
              "array([1, 1, 1, 2, 2, 2, 3, 3, 3, 4, 4, 4, 5, 5, 5])"
            ]
          },
          "metadata": {},
          "execution_count": 5
        }
      ],
      "source": [
        "np.repeat(arr1, 3) # repeat array n times"
      ]
    },
    {
      "cell_type": "code",
      "execution_count": null,
      "id": "4ed5803c-fcb2-4112-83dc-e4a7cf80051f",
      "metadata": {
        "id": "4ed5803c-fcb2-4112-83dc-e4a7cf80051f",
        "outputId": "b352ceb8-7a56-4fa4-ac5e-ce0a8dad4e6c"
      },
      "outputs": [
        {
          "data": {
            "text/plain": [
              "array([3, 3, 4, 1, 2])"
            ]
          },
          "execution_count": 29,
          "metadata": {},
          "output_type": "execute_result"
        }
      ],
      "source": [
        "np.roll(arr1 , 3) # rotate array by n places"
      ]
    },
    {
      "cell_type": "code",
      "execution_count": null,
      "id": "9da0c1eb-9542-4359-8c82-1ae43e0d8d70",
      "metadata": {
        "id": "9da0c1eb-9542-4359-8c82-1ae43e0d8d70",
        "outputId": "4d802120-532f-49c4-c7eb-38848a5e3a64"
      },
      "outputs": [
        {
          "data": {
            "text/plain": [
              "array([[1, 0, 0, 0, 0],\n",
              "       [0, 2, 0, 0, 0],\n",
              "       [0, 0, 3, 0, 0],\n",
              "       [0, 0, 0, 3, 0],\n",
              "       [0, 0, 0, 0, 4]])"
            ]
          },
          "execution_count": 30,
          "metadata": {},
          "output_type": "execute_result"
        }
      ],
      "source": [
        "np.diag(arr1) # create a diagonal array of a row"
      ]
    },
    {
      "cell_type": "markdown",
      "source": [
        "###Numpy - Binary Operators."
      ],
      "metadata": {
        "id": "R8LkED-w82BQ"
      },
      "id": "R8LkED-w82BQ"
    },
    {
      "cell_type": "code",
      "execution_count": 6,
      "id": "4743e781-a032-4b5c-97f9-6790a1475387",
      "metadata": {
        "id": "4743e781-a032-4b5c-97f9-6790a1475387"
      },
      "outputs": [],
      "source": [
        "arr1 = np.random.randint(1,10 , (3,4))\n",
        "arr2 = np.random.randint(1,10 , (3,4))"
      ]
    },
    {
      "cell_type": "code",
      "source": [
        "arr1 & arr2\n",
        "~arr1\n",
        "arr1|arr2"
      ],
      "metadata": {
        "id": "wBEvQSan9L8i"
      },
      "id": "wBEvQSan9L8i",
      "execution_count": null,
      "outputs": []
    },
    {
      "cell_type": "markdown",
      "source": [
        "###Numpy - String Functions."
      ],
      "metadata": {
        "id": "zs8m3ISH_4Ba"
      },
      "id": "zs8m3ISH_4Ba"
    },
    {
      "cell_type": "code",
      "execution_count": null,
      "id": "311e0074-51cc-4ce0-935e-995426b974da",
      "metadata": {
        "id": "311e0074-51cc-4ce0-935e-995426b974da"
      },
      "outputs": [],
      "source": [
        "arr = np.array(['sudh' , \"Kumar\"])"
      ]
    },
    {
      "cell_type": "code",
      "source": [
        "np.char.upper(arr)\n",
        "np.char.title(arr)\n",
        "np.char.capitalize(arr)"
      ],
      "metadata": {
        "id": "wHnGTYQ0AE5d"
      },
      "id": "wHnGTYQ0AE5d",
      "execution_count": null,
      "outputs": []
    },
    {
      "cell_type": "markdown",
      "source": [
        "###Numpy - Mathematical Functions."
      ],
      "metadata": {
        "id": "hIr97i4oALT6"
      },
      "id": "hIr97i4oALT6"
    },
    {
      "cell_type": "code",
      "execution_count": null,
      "id": "4be60b9e-a4ac-43a7-bd7a-c5cf4c3f1f29",
      "metadata": {
        "id": "4be60b9e-a4ac-43a7-bd7a-c5cf4c3f1f29"
      },
      "outputs": [],
      "source": [
        "np.sin(arr1)\n",
        "np.cos(arr1)\n",
        "np.tan(arr1)\n",
        "np.tanh(arr1)\n",
        "np.log10(arr1)\n",
        "np.exp(arr1)\n",
        "np.sqrt(arr1)\n",
        "np.power(arr1,2)\n",
        "np.mean(arr1)\n",
        "np.median(arr1)\n",
        "np.std(arr1)\n",
        "np.var(arr1)\n",
        "np.min(arr1)\n",
        "np.max(arr1)"
      ]
    }
  ],
  "metadata": {
    "kernelspec": {
      "display_name": "Python 3 (ipykernel)",
      "language": "python",
      "name": "python3"
    },
    "language_info": {
      "codemirror_mode": {
        "name": "ipython",
        "version": 3
      },
      "file_extension": ".py",
      "mimetype": "text/x-python",
      "name": "python",
      "nbconvert_exporter": "python",
      "pygments_lexer": "ipython3",
      "version": "3.10.8"
    },
    "colab": {
      "provenance": [],
      "include_colab_link": true
    }
  },
  "nbformat": 4,
  "nbformat_minor": 5
}
