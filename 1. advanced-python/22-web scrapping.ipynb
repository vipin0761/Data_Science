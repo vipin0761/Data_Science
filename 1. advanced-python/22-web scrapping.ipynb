{
 "cells": [
  {
   "cell_type": "code",
   "execution_count": 1,
   "id": "e3584872",
   "metadata": {},
   "outputs": [],
   "source": [
    "import requests\n",
    "from bs4 import BeautifulSoup as bs\n",
    "from urllib.request import urlopen as uReq\n",
    "import logging"
   ]
  },
  {
   "cell_type": "code",
   "execution_count": 2,
   "id": "4f51def4",
   "metadata": {},
   "outputs": [],
   "source": [
    "flipkart_url = 'https://www.flipkart.com/search?q=' + 'iphone12pro'\n",
    "urlclient = uReq(flipkart_url) # create HTTP object for the URL\n",
    "flipkart_page = urlclient.read() # get the page of results  from the URL (in  bytecode)\n",
    "flipkart_html = bs(flipkart_page, 'html.parser') # parse the HTML code to a Beautiful Soup Object (BSO)"
   ]
  },
  {
   "cell_type": "code",
   "execution_count": null,
   "id": "3f4f4d67",
   "metadata": {},
   "outputs": [
    {
     "data": {
      "text/plain": [
       "27"
      ]
     },
     "execution_count": 30,
     "metadata": {},
     "output_type": "execute_result"
    }
   ],
   "source": [
    "bigbox = flipkart_html.findAll('div', {'class': 'cPHDOP col-12-12'})\n",
    "del bigbox[0:2]\n",
    "len(bigbox)\n"
   ]
  },
  {
   "cell_type": "code",
   "execution_count": 41,
   "id": "5c784ec8",
   "metadata": {},
   "outputs": [
    {
     "ename": "AttributeError",
     "evalue": "'NoneType' object has no attribute 'a'",
     "output_type": "error",
     "traceback": [
      "\u001b[1;31m---------------------------------------------------------------------------\u001b[0m",
      "\u001b[1;31mAttributeError\u001b[0m                            Traceback (most recent call last)",
      "Cell \u001b[1;32mIn[41], line 4\u001b[0m\n\u001b[0;32m      2\u001b[0m \u001b[38;5;28;01mfor\u001b[39;00m item \u001b[38;5;129;01min\u001b[39;00m bigbox:\n\u001b[0;32m      3\u001b[0m     \u001b[38;5;28;01mif\u001b[39;00m item \u001b[38;5;129;01mis\u001b[39;00m \u001b[38;5;129;01mnot\u001b[39;00m \u001b[38;5;28;01mNone\u001b[39;00m:\n\u001b[1;32m----> 4\u001b[0m         urls\u001b[38;5;241m.\u001b[39mappend(\u001b[38;5;124m'\u001b[39m\u001b[38;5;124mhttps://www.flipkart.com\u001b[39m\u001b[38;5;124m'\u001b[39m \u001b[38;5;241m+\u001b[39m item\u001b[38;5;241m.\u001b[39mdiv\u001b[38;5;241m.\u001b[39mdiv\u001b[38;5;241m.\u001b[39mdiv\u001b[38;5;241m.\u001b[39ma[\u001b[38;5;124m'\u001b[39m\u001b[38;5;124mhref\u001b[39m\u001b[38;5;124m'\u001b[39m])\n",
      "\u001b[1;31mAttributeError\u001b[0m: 'NoneType' object has no attribute 'a'"
     ]
    }
   ],
   "source": [
    "urls = []\n",
    "for item in bigbox:\n",
    "    if item is not None:\n",
    "        urls.append('https://www.flipkart.com' + item.div.div.div.a['href'])"
   ]
  },
  {
   "cell_type": "code",
   "execution_count": 61,
   "id": "1a224bff",
   "metadata": {},
   "outputs": [
    {
     "data": {
      "text/plain": [
       "<div class=\"RcXBOT\"><div class=\"col\"><div class=\"col EPCmJX\"><div class=\"row\"><div class=\"XQDdHH Ga3i8K\">5<img class=\"Rza2QY\" src=\"data:image/svg+xml;base64,PHN2ZyB4bWxucz0iaHR0cDovL3d3dy53My5vcmcvMjAwMC9zdmciIHdpZHRoPSIxMyIgaGVpZ2h0PSIxMiI+PHBhdGggZmlsbD0iI0ZGRiIgZD0iTTYuNSA5LjQzOWwtMy42NzQgMi4yMy45NC00LjI2LTMuMjEtMi44ODMgNC4yNTQtLjQwNEw2LjUuMTEybDEuNjkgNC4wMSA0LjI1NC40MDQtMy4yMSAyLjg4Mi45NCA0LjI2eiIvPjwvc3ZnPg==\"/></div><p class=\"z9E0IG\">Simply awesome</p></div><div class=\"row\"><div class=\"ZmyHeo\"><div><div class=\"\">indeed a great phone feels premium in hand but battery life is low</div><span class=\"wTYmpv\"><span>READ MORE</span></span></div></div></div><div class=\"xmAgz5 pVVA7t\"><div class=\"Be4x5X d517go\" style=\"background-image:url(https://rukminim1.flixcart.com/blobio/124/124/imr-202105/blobio-imr-202105_218937a29a45459c9c6f56e264d7c733.jpg?q=90), url(data:image/svg+xml;base64,PHN2ZyB3aWR0aD0iMjIiIGhlaWdodD0iMTgiIHhtbG5zPSJodHRwOi8vd3d3LnczLm9yZy8yMDAwL3N2ZyI+PGcgZmlsbD0iIzlEOUQ5RCIgZmlsbC1ydWxlPSJub256ZXJvIj48cGF0aCBkPSJNMjAgMEgyQzEgMCAwIDEgMCAydjE0YzAgMS4xLjkgMiAyIDJoMThjMSAwIDItMSAyLTJWMmMwLTEtMS0yLTItMnptMCAxNS45MmMtLjAyLjAzLS4wNi4wNi0uMDguMDhIMlYyLjA4TDIuMDggMmgxNy44M2MuMDMuMDIuMDYuMDYuMDguMDh2MTMuODRIMjB6Ii8+PHBhdGggZD0iTTEwIDEyLjUxTDcuNSA5LjUgNCAxNGgxNGwtNC41LTZ6Ii8+PC9nPjwvc3ZnPg==);width:62px;height:62px\"></div></div><div class=\"row gHqwa8\"><div class=\"row\"><p class=\"_2NsDsF AwS1CA\">Rajkumar tiwari</p><svg class=\"VjlQyz\" height=\"14\" viewbox=\"0 0 12 12\" width=\"14\" xmlns=\"http://www.w3.org/2000/svg\"><g><circle cx=\"6\" cy=\"6\" fill=\"#878787\" r=\"6\"></circle><path d=\"M3 6l2 2 4-4\" fill=\"#878787\" stroke=\"#FFF\" stroke-width=\"1.5\"></path></g></svg><p class=\"MztJPv\" id=\"review-ff2300b9-2965-4513-ac9c-0d8312e08943\"><span>Certified Buyer</span><span>, Kanpur</span></p><div></div><p class=\"_2NsDsF\">May, 2021</p></div><div class=\"vMTK1V\"><div class=\"row\"><div class=\"qhmk-f\"><div class=\"_6kK6mk\"><svg class=\"U6FW-N\" height=\"15\" width=\"20\" xmlns=\"http://www.w3.org/2000/svg\"><path class=\"kX6HBt\" d=\"M9.58.006c-.41.043-.794.32-1.01.728-.277.557-2.334 4.693-2.74 5.1-.41.407-.944.6-1.544.6v8.572h7.5c.45 0 .835-.28 1.007-.665 0 0 2.207-6.234 2.207-6.834 0-.6-.47-1.072-1.07-1.072h-3.216c-.6 0-1.07-.535-1.07-1.07 0-.537.835-3.387 1.006-3.944.17-.557-.107-1.157-.664-1.35-.15-.043-.257-.086-.407-.064zM0 6.434v8.572h2.143V6.434H0z\" fill=\"#fff\" fill-rule=\"evenodd\"></path></svg><span class=\"tl9VpF\">2826</span></div><div class=\"_6kK6mk aQymJL\"><svg class=\"U6FW-N aQymJL\" height=\"15\" width=\"20\" xmlns=\"http://www.w3.org/2000/svg\"><path class=\"kX6HBt\" d=\"M9.58.006c-.41.043-.794.32-1.01.728-.277.557-2.334 4.693-2.74 5.1-.41.407-.944.6-1.544.6v8.572h7.5c.45 0 .835-.28 1.007-.665 0 0 2.207-6.234 2.207-6.834 0-.6-.47-1.072-1.07-1.072h-3.216c-.6 0-1.07-.535-1.07-1.07 0-.537.835-3.387 1.006-3.944.17-.557-.107-1.157-.664-1.35-.15-.043-.257-.086-.407-.064zM0 6.434v8.572h2.143V6.434H0z\" fill=\"#fff\" fill-rule=\"evenodd\"></path></svg><span class=\"tl9VpF\">301</span></div></div><div class=\"_23BI2I\"><svg class=\"qouvgH\" height=\"11\" viewbox=\"0 0 16 27\" width=\"6\" xmlns=\"http://www.w3.org/2000/svg\"><path class=\"wRjFe4\" d=\"M16 23.207L6.11 13.161 16 3.093 12.955 0 0 13.161l12.955 13.161z\" fill=\"#fff\"></path></svg><div class=\"Pg+ADy _0sje3Z\"><div class=\"NsXBt8\"><a href=\"/reviews/MOBFWBYZXYSCEEEH:41?reviewId=ff2300b9-2965-4513-ac9c-0d8312e08943\"><span>Permalink</span></a></div><div class=\"NsXBt8 _1F9SL9\"><span>Report Abuse</span></div></div></div></div></div></div></div></div></div>"
      ]
     },
     "execution_count": 61,
     "metadata": {},
     "output_type": "execute_result"
    }
   ],
   "source": [
    "url = urls[0]\n",
    "product_req = requests.get(url)\n",
    "product_html = bs(product_req.text, 'html.parser')\n",
    "comment_box = product_html.findAll('div', {'class': 'RcXBOT'})\n",
    "comment_box[0]\n"
   ]
  },
  {
   "cell_type": "code",
   "execution_count": null,
   "id": "120b058c",
   "metadata": {},
   "outputs": [
    {
     "data": {
      "text/plain": [
       "('5',\n",
       " 'Rajkumar tiwari',\n",
       " 'Simply awesome',\n",
       " 'indeed a great phone feels premium in hand but battery life is low')"
      ]
     },
     "execution_count": 76,
     "metadata": {},
     "output_type": "execute_result"
    }
   ],
   "source": [
    "rating = comment_box[0].div.div.div.div.text\n",
    "author = comment_box[0].div.div.findAll('p',{'class':'_2NsDsF AwS1CA'})[0].text\n",
    "title = comment_box[0].div.div.div.p.text\n",
    "review = comment_box[0].div.div.findAll('div',{'class':''})[0].div.text\n",
    "rating, author, title, review"
   ]
  },
  {
   "cell_type": "code",
   "execution_count": null,
   "id": "bb9afb60",
   "metadata": {},
   "outputs": [
    {
     "data": {
      "text/plain": [
       "[]"
      ]
     },
     "execution_count": 53,
     "metadata": {},
     "output_type": "execute_result"
    }
   ],
   "source": []
  },
  {
   "cell_type": "code",
   "execution_count": null,
   "id": "f10440a6",
   "metadata": {},
   "outputs": [],
   "source": []
  }
 ],
 "metadata": {
  "kernelspec": {
   "display_name": "base",
   "language": "python",
   "name": "python3"
  },
  "language_info": {
   "codemirror_mode": {
    "name": "ipython",
    "version": 3
   },
   "file_extension": ".py",
   "mimetype": "text/x-python",
   "name": "python",
   "nbconvert_exporter": "python",
   "pygments_lexer": "ipython3",
   "version": "3.12.7"
  }
 },
 "nbformat": 4,
 "nbformat_minor": 5
}
