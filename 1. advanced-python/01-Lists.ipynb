{
  "cells": [
    {
      "cell_type": "markdown",
      "metadata": {
        "id": "view-in-github",
        "colab_type": "text"
      },
      "source": [
        "<a href=\"https://colab.research.google.com/github/vipin0761/python-engineer-notebooks/blob/master/advanced-python/01-Lists.ipynb\" target=\"_parent\"><img src=\"https://colab.research.google.com/assets/colab-badge.svg\" alt=\"Open In Colab\"/></a>"
      ]
    },
    {
      "cell_type": "markdown",
      "metadata": {
        "id": "YYjtDG_yGbLR"
      },
      "source": [
        "# Lists\n",
        "\n",
        "List is a collection data type which is ordered and mutable. Unlike Sets, Lists allow duplicate elements.\n",
        "They are useful for preserving a sequence of data and further iterating over it. Lists are created with square brackets.\n",
        "\n",
        "`my_list = [\"banana\", \"cherry\", \"apple\"]`\n",
        "\n",
        "#### Comparison of basic built-in collection data types in Python:\n",
        "\n",
        "- List is a collection which is ordered and mutable. Allows duplicate members.\n",
        "- Tuple is a collection which is ordered and immutable. Allows duplicate members.\n",
        "- Set is a collection which is unordered and unindexed. No duplicate members.\n",
        "- Dictionary is a collection which is unordered, mutable and indexed. No duplicate members.\n",
        "- Strings are immutable sequences of Unicode code points."
      ]
    },
    {
      "cell_type": "markdown",
      "metadata": {
        "id": "FujEs0q1GbLX"
      },
      "source": [
        "#### Useful methods\n",
        "Have a look at the Python Documentation to see all list methods:\n",
        "https://docs.python.org/3/tutorial/datastructures.html"
      ]
    },
    {
      "cell_type": "code",
      "execution_count": null,
      "metadata": {
        "id": "G2Pzy9xlGbLX",
        "outputId": "12bbec34-4cb6-4e22-9a58-2468cf7290ea"
      },
      "outputs": [
        {
          "name": "stdout",
          "output_type": "stream",
          "text": [
            "Length: 3\n",
            "['banana', 'blueberry', 'cherry', 'apple', 'orange']\n",
            "Popped item:  orange\n",
            "['banana', 'blueberry', 'apple']\n",
            "[]\n",
            "Reversed:  ['apple', 'cherry', 'banana']\n",
            "Sorted:  ['apple', 'banana', 'cherry']\n",
            "[0, 0, 0, 0, 0]\n",
            "[0, 0, 0, 0, 0, 'banana', 'cherry', 'apple']\n",
            "['H', 'e', 'l', 'l', 'o']\n"
          ]
        }
      ],
      "source": [
        "my_list = [\"banana\", \"cherry\", \"apple\"]\n",
        "\n",
        "# len() : get the number of elements in a list\n",
        "print(\"Length:\", len(my_list))\n",
        "\n",
        "# append() : adds an element to the end of the list\n",
        "my_list.append(\"orange\")\n",
        "\n",
        "# insert() : adds an element at the specified position\n",
        "my_list.insert(1, \"blueberry\")\n",
        "print(my_list)\n",
        "\n",
        "# pop() : removes and returns the item at the given position, default is the last item\n",
        "item = my_list.pop()\n",
        "print(\"Popped item: \", item)\n",
        "\n",
        "# remove() : removes an item from the list\n",
        "my_list.remove(\"cherry\") # Value error if not in the list\n",
        "print(my_list)\n",
        "\n",
        "# clear() : removes all items from the list\n",
        "my_list.clear()\n",
        "print(my_list)\n",
        "\n",
        "# reverse() : reverse the items\n",
        "my_list = [\"banana\", \"cherry\", \"apple\"]\n",
        "my_list.reverse()\n",
        "print('Reversed: ', my_list)\n",
        "\n",
        "# sort() : sort items in ascending order\n",
        "my_list.sort()\n",
        "print('Sorted: ', my_list)\n",
        "\n",
        "# use sorted() to get a new list, and leave the original unaffected.\n",
        "# sorted() works on any iterable type, not just lists\n",
        "my_list = [\"banana\", \"cherry\", \"apple\"]\n",
        "new_list = sorted(my_list)\n",
        "\n",
        "# create list with repeated elements\n",
        "list_with_zeros = [0] * 5\n",
        "print(list_with_zeros)\n",
        "\n",
        "# concatenation\n",
        "list_concat = list_with_zeros + my_list\n",
        "print(list_concat)\n",
        "\n",
        "# convert string to list\n",
        "string_to_list = list('Hello')blank\n",
        "print(string_to_list)"
      ]
    },
    {
      "cell_type": "markdown",
      "metadata": {
        "id": "8Cgj2tdWGbLX"
      },
      "source": [
        "#### Copy a list\n",
        "Be careful when copying references."
      ]
    },
    {
      "cell_type": "code",
      "execution_count": null,
      "metadata": {
        "id": "Mw46Jn0HGbLY",
        "outputId": "a43a6185-9590-4548-b73f-f3a2c7c0a7a7"
      },
      "outputs": [
        {
          "name": "stdout",
          "output_type": "stream",
          "text": [
            "['banana', 'cherry', 'apple', True]\n",
            "['banana', 'cherry', 'apple', True]\n",
            "['banana', 'cherry', 'apple', True]\n",
            "['banana', 'cherry', 'apple']\n"
          ]
        }
      ],
      "source": [
        "list_org = [\"banana\", \"cherry\", \"apple\"]\n",
        "\n",
        "# this just copies the reference to the list, so be careful\n",
        "list_copy = list_org\n",
        "\n",
        "# now modifying the copy also affects the original\n",
        "list_copy.append(True)\n",
        "print(list_copy)\n",
        "print(list_org)\n",
        "\n",
        "# use copy(), or list(x) to actually copy the list\n",
        "# slicing also works: list_copy = list_org[:]\n",
        "list_org = [\"banana\", \"cherry\", \"apple\"]\n",
        "\n",
        "list_copy = list_org.copy()\n",
        "# list_copy = list(list_org)\n",
        "# list_copy = list_org[:]\n",
        "\n",
        "# now modifying the copy does not affect the original\n",
        "list_copy.append(True)\n",
        "print(list_copy)\n",
        "print(list_org)"
      ]
    },
    {
      "cell_type": "markdown",
      "metadata": {
        "id": "sYIDYo6OGbLZ"
      },
      "source": [
        "#### List comprehension\n",
        "A elegant and fast way to create a new list from an existing list.\n",
        "\n",
        "List comprehension consists of an expression followed by a for statement inside square brackets."
      ]
    },
    {
      "cell_type": "code",
      "execution_count": null,
      "metadata": {
        "id": "u91q_DALGbLZ",
        "outputId": "dd7ad43a-671c-47d4-dcf2-84baaeee9abc"
      },
      "outputs": [
        {
          "name": "stdout",
          "output_type": "stream",
          "text": [
            "[1, 4, 9, 16, 25, 36, 49, 64]\n"
          ]
        }
      ],
      "source": [
        "a = [1, 2, 3, 4, 5, 6, 7, 8]\n",
        "b = [i * i for i in a] # squares each element\n",
        "print(b)"
      ]
    }
  ],
  "metadata": {
    "kernelspec": {
      "display_name": "Python [conda env:pythonengineer_env]",
      "language": "python",
      "name": "conda-env-pythonengineer_env-py"
    },
    "language_info": {
      "codemirror_mode": {
        "name": "ipython",
        "version": 3
      },
      "file_extension": ".py",
      "mimetype": "text/x-python",
      "name": "python",
      "nbconvert_exporter": "python",
      "pygments_lexer": "ipython3",
      "version": "3.7.3"
    },
    "colab": {
      "provenance": [],
      "include_colab_link": true
    }
  },
  "nbformat": 4,
  "nbformat_minor": 0
}