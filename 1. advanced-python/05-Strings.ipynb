{
  "cells": [
    {
      "cell_type": "markdown",
      "metadata": {
        "id": "view-in-github",
        "colab_type": "text"
      },
      "source": [
        "<a href=\"https://colab.research.google.com/github/vipin0761/python-engineer-notebooks/blob/master/advanced-python/05-Strings.ipynb\" target=\"_parent\"><img src=\"https://colab.research.google.com/assets/colab-badge.svg\" alt=\"Open In Colab\"/></a>"
      ]
    },
    {
      "cell_type": "markdown",
      "metadata": {
        "id": "PcY31IRo7_lc"
      },
      "source": [
        "# Strings\n",
        "A string is a sequence of characters. String literals in Python are enclosed by either double or single quotes.\n",
        "\n",
        "`my_string = 'Hello'`\n",
        "\n",
        "Python strings are immutable which means they cannot be changed after they are created."
      ]
    },
    {
      "cell_type": "markdown",
      "metadata": {
        "id": "b4UbWVRS7_mC"
      },
      "source": [
        "#### Useful methods"
      ]
    },
    {
      "cell_type": "code",
      "execution_count": null,
      "metadata": {
        "id": "yLt3azNt7_mD",
        "outputId": "e56cc7bb-992c-4c4b-a1c3-cccc410786fd"
      },
      "outputs": [
        {
          "name": "stdout",
          "output_type": "stream",
          "text": [
            "Hello World\n",
            "11\n",
            "HELLO WORLD\n",
            "hello world\n",
            "['how', 'are', 'you', 'doing']\n",
            "['one', 'two', 'three']\n",
            "True\n",
            "True\n",
            "4\n",
            "1\n",
            "Hello Universe\n",
            "How are you doing\n"
          ]
        }
      ],
      "source": [
        "my_string = \"     Hello World \"\n",
        "\n",
        "# remove white space\n",
        "my_string = my_string.strip()\n",
        "print(my_string)\n",
        "\n",
        "# number of characters\n",
        "print(len(my_string))\n",
        "\n",
        "# Upper and lower cases\n",
        "print(my_string.upper())\n",
        "print(my_string.lower())\n",
        "\n",
        "# startswith and endswith\n",
        "print(\"hello\".startswith(\"he\"))\n",
        "print(\"hello\".endswith(\"llo\"))\n",
        "\n",
        "# find first index of a given substring, -1 otherwise\n",
        "print(\"Hello\".find(\"o\"))\n",
        "\n",
        "# count number of characters/substrings\n",
        "print(\"Hello\".count(\"e\"))\n",
        "\n",
        "# replace a substring with another string (only if the substring is found)\n",
        "# Note: The original string stays the same\n",
        "message = \"Hello World\"\n",
        "new_message = message.replace(\"World\", \"Universe\")\n",
        "print(new_message)\n",
        "\n",
        "# split the string into a list\n",
        "my_string = \"how are you doing\"\n",
        "a = my_string.split() # default argument is \" \"\n",
        "print(a)\n",
        "my_string = \"one,two,three\"\n",
        "a = my_string.split(\",\")\n",
        "print(a)\n",
        "\n",
        "# join elements of a list into a string\n",
        "my_list = ['How', 'are', 'you', 'doing']\n",
        "a = ' '.join(my_list) # the given string is the separator, e.g. ' ' between each argument\n",
        "print(a)"
      ]
    },
    {
      "cell_type": "markdown",
      "metadata": {
        "id": "7O7Q7_FJ7_mD"
      },
      "source": [
        "#### Format\n",
        "New style is with .format() and old style is with % operator."
      ]
    },
    {
      "cell_type": "code",
      "execution_count": null,
      "metadata": {
        "id": "1h-oB4ji7_mD",
        "outputId": "b1df6074-f079-4808-f9e9-39d1131bed55"
      },
      "outputs": [
        {
          "name": "stdout",
          "output_type": "stream",
          "text": [
            "Hello Bob and Tom\n",
            "Hello Bob and Tom\n",
            "The integer value is 2\n",
            "The float value is 2.123\n",
            "The float value is 2.123400e+00\n",
            "The binary value is 10\n",
            "Hello Bob and Tom\n",
            "The decimal value is 10\n",
            "The float value is 10.123450\n",
            "The float value is 10.12\n"
          ]
        }
      ],
      "source": [
        "# use braces as placeholders\n",
        "a = \"Hello {0} and {1}\".format(\"Bob\", \"Tom\")\n",
        "print(a)\n",
        "\n",
        "# the positions are optional for the default order\n",
        "a = \"Hello {} and {}\".format(\"Bob\", \"Tom\")\n",
        "print(a)\n",
        "\n",
        "a = \"The integer value is {}\".format(2)\n",
        "print(a)\n",
        "\n",
        "# some special format rules for numbers\n",
        "a = \"The float value is {0:.3f}\".format(2.1234)\n",
        "print(a)\n",
        "a = \"The float value is {0:e}\".format(2.1234)\n",
        "print(a)\n",
        "a = \"The binary value is {0:b}\".format(2)\n",
        "print(a)\n",
        "\n",
        "# old style formatting by using % operator\n",
        "print(\"Hello %s and %s\" % (\"Bob\", \"Tom\")) # must be a tuple for multiple arguments\n",
        "val =  3.14159265359\n",
        "print(\"The decimal value is %d\" % val)\n",
        "print(\"The float value is %f\" % val)\n",
        "print(\"The float value is %.2f\" % val)"
      ]
    },
    {
      "cell_type": "markdown",
      "metadata": {
        "id": "vX6HQi6o7_mE"
      },
      "source": [
        "#### f-Strings\n",
        "New since Python 3.6. Use the variables directly inside the braces."
      ]
    },
    {
      "cell_type": "code",
      "execution_count": null,
      "metadata": {
        "id": "8Q151MXZ7_mE",
        "outputId": "2f39e42c-2302-42a8-fae0-35e1979c9343"
      },
      "outputs": [
        {
          "name": "stdout",
          "output_type": "stream",
          "text": [
            "Hello, Eric. You are 25.\n",
            "Pi is 3.142\n",
            "The value is 120\n"
          ]
        }
      ],
      "source": [
        "name = \"Eric\"\n",
        "age = 25\n",
        "a = f\"Hello, {name}. You are {age}.\"\n",
        "print(a)\n",
        "pi = 3.14159\n",
        "a = f\"Pi is {pi:.3f}\"\n",
        "print(a)\n",
        "# f-Strings are evaluated at runtime, which allows expressions\n",
        "a = f\"The value is {2*60}\"\n",
        "print(a)"
      ]
    },
    {
      "cell_type": "markdown",
      "metadata": {
        "id": "rd7m0T0C7_mE"
      },
      "source": [
        "#### More on immutability and concatenation"
      ]
    },
    {
      "cell_type": "code",
      "execution_count": null,
      "metadata": {
        "id": "mqWWoCgw7_mF",
        "outputId": "1bac1c92-50ad-44ae-bcc3-565e2870d772"
      },
      "outputs": [
        {
          "name": "stdout",
          "output_type": "stream",
          "text": [
            "concat string with + : 0.34527\n",
            "concat string with join(): 0.01191\n"
          ]
        }
      ],
      "source": [
        "# since a string is immutable, adding strings with +,  or += always\n",
        "# creates a new string, and therefore is expensive for multiple operations\n",
        "# --> join method is much faster\n",
        "from timeit import default_timer as timer\n",
        "my_list = [\"a\"] * 1000000\n",
        "\n",
        "# bad\n",
        "start = timer()\n",
        "a = \"\"\n",
        "for i in my_list:\n",
        "    a += i\n",
        "end = timer()\n",
        "print(\"concatenate string with + : %.5f\" % (end - start))\n",
        "\n",
        "# good\n",
        "start = timer()\n",
        "a = \"\".join(my_list)\n",
        "end = timer()\n",
        "print(\"concatenate string with join(): %.5f\" % (end - start))"
      ]
    }
  ],
  "metadata": {
    "kernelspec": {
      "display_name": "Python [conda env:pythonengineer_env]",
      "language": "python",
      "name": "conda-env-pythonengineer_env-py"
    },
    "language_info": {
      "codemirror_mode": {
        "name": "ipython",
        "version": 3
      },
      "file_extension": ".py",
      "mimetype": "text/x-python",
      "name": "python",
      "nbconvert_exporter": "python",
      "pygments_lexer": "ipython3",
      "version": "3.7.3"
    },
    "colab": {
      "provenance": [],
      "include_colab_link": true
    }
  },
  "nbformat": 4,
  "nbformat_minor": 0
}