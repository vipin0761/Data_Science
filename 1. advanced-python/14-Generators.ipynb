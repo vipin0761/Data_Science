{
  "cells": [
    {
      "cell_type": "markdown",
      "metadata": {
        "id": "view-in-github",
        "colab_type": "text"
      },
      "source": [
        "<a href=\"https://colab.research.google.com/github/vipin0761/python-engineer-notebooks/blob/master/advanced-python/14-Generators.ipynb\" target=\"_parent\"><img src=\"https://colab.research.google.com/assets/colab-badge.svg\" alt=\"Open In Colab\"/></a>"
      ]
    },
    {
      "cell_type": "markdown",
      "metadata": {
        "id": "Me7Ug_12FWVY"
      },
      "source": [
        "# Generators\n",
        "Generators are functions that can be paused and resumed on the fly, returning an object that can be iterated over. Unlike lists, they are lazy and thus produce items one at a time and only when asked. So they are much more memory efficient when dealing with large datasets.  \n",
        "A generator is defined like a normal function but with the `yield` statement instead of `return`.\n",
        "```python\n",
        "def my_generator():\n",
        "    yield 1\n",
        "    yield 2\n",
        "    yield 3\n",
        "```"
      ]
    },
    {
      "cell_type": "markdown",
      "metadata": {
        "id": "BEVjQ-D8FWVd"
      },
      "source": [
        "## Execution of a generator function\n",
        "Calling the function does not execute it. Instead, the function returns a generator object which is used to control execution. Generator objects execute when `next()` is called. When calling `next()` the first time, execution begins at the start of the function and continues until the first `yield` statement where the value to the right of the statement is returned. Subsequent calls to `next()` continue from the `yield` statement (and loop around) until another `yield` is reached. If `yield` is not called because of a condition or the end is reached, a `StopIteration exception` is raised:"
      ]
    },
    {
      "cell_type": "code",
      "execution_count": 2,
      "metadata": {
        "id": "4u7MwhrNFWVe",
        "outputId": "7fc4d58e-ad8c-44e3-c76e-5d83c9e7d402",
        "colab": {
          "base_uri": "https://localhost:8080/",
          "height": 269
        }
      },
      "outputs": [
        {
          "output_type": "stream",
          "name": "stdout",
          "text": [
            "Starting\n",
            "3\n",
            "2\n",
            "1\n"
          ]
        },
        {
          "output_type": "error",
          "ename": "StopIteration",
          "evalue": "ignored",
          "traceback": [
            "\u001b[0;31m---------------------------------------------------------------------------\u001b[0m",
            "\u001b[0;31mStopIteration\u001b[0m                             Traceback (most recent call last)",
            "\u001b[0;32m<ipython-input-2-3941498e0bf0>\u001b[0m in \u001b[0;36m<cell line: 18>\u001b[0;34m()\u001b[0m\n\u001b[1;32m     16\u001b[0m \u001b[0;34m\u001b[0m\u001b[0m\n\u001b[1;32m     17\u001b[0m \u001b[0;31m# this will raise a StopIteration\u001b[0m\u001b[0;34m\u001b[0m\u001b[0;34m\u001b[0m\u001b[0m\n\u001b[0;32m---> 18\u001b[0;31m \u001b[0mprint\u001b[0m\u001b[0;34m(\u001b[0m\u001b[0mnext\u001b[0m\u001b[0;34m(\u001b[0m\u001b[0mcd\u001b[0m\u001b[0;34m)\u001b[0m\u001b[0;34m)\u001b[0m\u001b[0;34m\u001b[0m\u001b[0;34m\u001b[0m\u001b[0m\n\u001b[0m",
            "\u001b[0;31mStopIteration\u001b[0m: "
          ]
        }
      ],
      "source": [
        "def countdown(num):\n",
        "    print('Starting')\n",
        "    while num > 0:\n",
        "        yield num\n",
        "        num -= 1\n",
        "\n",
        "# this will not print 'Starting'\n",
        "cd = countdown(3)\n",
        "\n",
        "# this will print 'Starting' and the first value\n",
        "print(next(cd))\n",
        "\n",
        "# will print the next values\n",
        "print(next(cd))\n",
        "print(next(cd))\n",
        "\n",
        "# this will raise a StopIteration\n",
        "print(next(cd))"
      ]
    },
    {
      "cell_type": "code",
      "execution_count": 3,
      "metadata": {
        "id": "LIivh3DDFWVh",
        "outputId": "ceaab0c7-9920-4a39-d598-101d49bdf08e",
        "colab": {
          "base_uri": "https://localhost:8080/"
        }
      },
      "outputs": [
        {
          "output_type": "stream",
          "name": "stdout",
          "text": [
            "Starting\n",
            "3\n",
            "2\n",
            "1\n"
          ]
        }
      ],
      "source": [
        "# you can iterate over a generator object with a for in loop\n",
        "cd = countdown(3)\n",
        "for x in cd:\n",
        "    print(x)"
      ]
    },
    {
      "cell_type": "code",
      "execution_count": 4,
      "metadata": {
        "id": "edBZYy8xFWVi",
        "outputId": "7acf06c6-f90b-4f67-8708-f97620c56220",
        "colab": {
          "base_uri": "https://localhost:8080/"
        }
      },
      "outputs": [
        {
          "output_type": "stream",
          "name": "stdout",
          "text": [
            "Starting\n",
            "6\n",
            "Starting\n",
            "[1, 2, 3]\n"
          ]
        }
      ],
      "source": [
        "# you can use it for functions that take iterables as input\n",
        "cd = countdown(3)\n",
        "sum_cd = sum(cd)\n",
        "print(sum_cd)\n",
        "\n",
        "cd = countdown(3)\n",
        "sorted_cd = sorted(cd)\n",
        "print(sorted_cd)"
      ]
    },
    {
      "cell_type": "markdown",
      "metadata": {
        "id": "nauG0JM9FWVj"
      },
      "source": [
        "## Big advantage: Generators save memory!\n",
        "Since the values are generated lazily, i.e. only when needed, it saves a lot of memory, especially when working with large data. Furthermore, we do not need to wait until all the elements have been generated before we start to use them."
      ]
    },
    {
      "cell_type": "code",
      "execution_count": 5,
      "metadata": {
        "id": "H5QsCgNlFWVk",
        "outputId": "3db9c916-d18a-4a71-a264-1ff5b14c4680",
        "colab": {
          "base_uri": "https://localhost:8080/"
        }
      },
      "outputs": [
        {
          "output_type": "stream",
          "name": "stdout",
          "text": [
            "499999500000\n",
            "8448728 bytes\n"
          ]
        }
      ],
      "source": [
        "# without a generator, the complete sequence has to be stored here in a list\n",
        "def firstn(n):\n",
        "    num, nums = 0, []\n",
        "    while num < n:\n",
        "        nums.append(num)\n",
        "        num += 1\n",
        "    return nums\n",
        "\n",
        "sum_of_first_n = sum(firstn(1000000))\n",
        "print(sum_of_first_n)\n",
        "import sys\n",
        "print(sys.getsizeof(firstn(1000000)), \"bytes\")"
      ]
    },
    {
      "cell_type": "code",
      "execution_count": null,
      "metadata": {
        "id": "QgIKa0reFWVm",
        "outputId": "45d388c0-342e-461b-c949-b63647ea2d8a"
      },
      "outputs": [
        {
          "name": "stdout",
          "output_type": "stream",
          "text": [
            "499999500000\n",
            "120 bytes\n"
          ]
        }
      ],
      "source": [
        "# with a generator, no additional sequence is needed to store the numbers\n",
        "def firstn(n):\n",
        "    num = 0\n",
        "    while num < n:\n",
        "        yield num\n",
        "        num += 1\n",
        "\n",
        "sum_of_first_n = sum(firstn(1000000))\n",
        "print(sum_of_first_n)\n",
        "import sys\n",
        "print(sys.getsizeof(firstn(1000000)), \"bytes\")"
      ]
    },
    {
      "cell_type": "markdown",
      "metadata": {
        "id": "haw57uaFFWVm"
      },
      "source": [
        "## Another example: Fibonacci numbers"
      ]
    },
    {
      "cell_type": "code",
      "execution_count": null,
      "metadata": {
        "id": "q2X0jpR8FWVn",
        "outputId": "4c1fc6ed-a7fa-4c50-8127-b3f76bf27ab5"
      },
      "outputs": [
        {
          "name": "stdout",
          "output_type": "stream",
          "text": [
            "[0, 1, 1, 2, 3, 5, 8, 13, 21]\n"
          ]
        }
      ],
      "source": [
        "def fibonacci(limit):\n",
        "    a, b = 0, 1 # first two fibonacci numbers\n",
        "    while a < limit:\n",
        "        yield a\n",
        "        a, b = b, a + b\n",
        "\n",
        "fib = fibonacci(30)\n",
        "# generator objects can be converted to a list (only used for printing here)\n",
        "print(list(fib))"
      ]
    },
    {
      "cell_type": "markdown",
      "metadata": {
        "id": "qkKUSs5KFWVn"
      },
      "source": [
        "## Generator expressions\n",
        "Just like list comprehensions, generators can be written in the same syntax except with parenthesis instead of square brackets. Be careful not to mix them up, since generator expressions are often slower than list comprehensions because of the overhead of function calls (https://stackoverflow.com/questions/11964130/list-comprehension-vs-generator-expressions-weird-timeit-results/11964478#11964478)"
      ]
    },
    {
      "cell_type": "code",
      "execution_count": null,
      "metadata": {
        "id": "458bNYInFWVn",
        "outputId": "b36c0af6-5e73-4d4b-9a0c-4cce39b34668"
      },
      "outputs": [
        {
          "name": "stdout",
          "output_type": "stream",
          "text": [
            "120\n",
            "4272\n"
          ]
        }
      ],
      "source": [
        "# generator expression\n",
        "mygenerator = (i for i in range(1000) if i % 2 == 0)\n",
        "print(sys.getsizeof(mygenerator))\n",
        "\n",
        "# list comprehension\n",
        "mylist = [i for i in range(1000) if i % 2 == 0]\n",
        "print(sys.getsizeof(mylist))"
      ]
    },
    {
      "cell_type": "markdown",
      "metadata": {
        "id": "5cEm4OI4FWVo"
      },
      "source": [
        "## Concept behind a generator\n",
        "This class implements our generator as an iterable object. It has to implement `__iter__` and `__next__` to make it iterable, keep track of the current state (the current number in this case), and take care of a `StopIteration`. It can be used to understand the concept behind generators. However, there is a lot of boilerplate code, and the logic is not as clear as with a simple function using the `yield` keyword."
      ]
    },
    {
      "cell_type": "code",
      "execution_count": null,
      "metadata": {
        "id": "ojntIA3xFWVo",
        "outputId": "beca861b-1a51-42ce-9787-954825747b0e"
      },
      "outputs": [
        {
          "name": "stdout",
          "output_type": "stream",
          "text": [
            "499999500000\n"
          ]
        }
      ],
      "source": [
        "class firstn:\n",
        "    def __init__(self, n):\n",
        "        self.n = n\n",
        "        self.num = 0\n",
        "\n",
        "    def __iter__(self):\n",
        "        return self\n",
        "\n",
        "    def __next__(self):\n",
        "        if self.num < self.n:\n",
        "            cur = self.num\n",
        "            self.num += 1\n",
        "            return cur\n",
        "        else:\n",
        "            raise StopIteration()\n",
        "\n",
        "firstn_object = firstn(1000000)\n",
        "print(sum(firstn_object))"
      ]
    }
  ],
  "metadata": {
    "kernelspec": {
      "display_name": "Python [conda env:pythonengineer_env]",
      "language": "python",
      "name": "conda-env-pythonengineer_env-py"
    },
    "colab": {
      "provenance": [],
      "include_colab_link": true
    }
  },
  "nbformat": 4,
  "nbformat_minor": 0
}