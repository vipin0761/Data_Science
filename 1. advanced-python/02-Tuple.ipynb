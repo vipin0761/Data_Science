{
  "cells": [
    {
      "cell_type": "markdown",
      "metadata": {
        "id": "view-in-github",
        "colab_type": "text"
      },
      "source": [
        "<a href=\"https://colab.research.google.com/github/vipin0761/python-engineer-notebooks/blob/master/advanced-python/02-Tuple.ipynb\" target=\"_parent\"><img src=\"https://colab.research.google.com/assets/colab-badge.svg\" alt=\"Open In Colab\"/></a>"
      ]
    },
    {
      "cell_type": "markdown",
      "metadata": {
        "id": "bILH5qekswGI"
      },
      "source": [
        "# Tuple\n",
        "\n",
        "A tuple is a collection of objects which is ordered and immutable. Tuples are similar to lists, the main difference ist the immutability. In Python tuples are written with round brackets and comma separated values.\n",
        "\n",
        "`my_tuple = (\"Max\", 28, \"New York\")`\n",
        "\n",
        "#### Reasons to use a tuple over a list\n",
        "\n",
        "- Generally used for objects that belong together.\n",
        "- Use tuple for heterogeneous (different) datatypes and list for homogeneous (similar) datatypes.\n",
        "- Since tuple are immutable, iterating through tuple is slightly faster than with list.\n",
        "- Tuples with their immutable elements can be used as key for a dictionary. This is not possible with lists.\n",
        "- If you have data that doesn't change, implementing it as tuple will guarantee that it remains write-protected."
      ]
    },
    {
      "cell_type": "markdown",
      "metadata": {
        "id": "AUjffYv6swGL"
      },
      "source": [
        "#### Create a tuple\n",
        "\n",
        "Tuples are created with round brackets and comma separated values. Or use the built-in tuple function."
      ]
    },
    {
      "cell_type": "code",
      "execution_count": null,
      "metadata": {
        "id": "WDNgb4NQswGM",
        "outputId": "5293280b-d2f2-4a24-b55a-ba4fce32c471"
      },
      "outputs": [
        {
          "name": "stdout",
          "output_type": "stream",
          "text": [
            "('Max', 28, 'New York')\n",
            "('Linda', 25, 'Miami')\n",
            "(25,)\n",
            "(1, 2, 3)\n"
          ]
        }
      ],
      "source": [
        "tuple_1 = (\"Max\", 28, \"New York\")\n",
        "tuple_2 = \"Linda\", 25, \"Miami\" # Parentheses are optional\n",
        "\n",
        "# Special case: a tuple with only one element needs to have a comma at the end,\n",
        "# otherwise it is not recognized as tuple\n",
        "tuple_3 = (25,)\n",
        "print(tuple_1)\n",
        "print(tuple_2)\n",
        "print(tuple_3)\n",
        "\n",
        "# Or convert an iterable (list, dict, string) with the built-in tuple function\n",
        "tuple_4 = tuple([1,2,3])\n",
        "print(tuple_4)"
      ]
    },
    {
      "cell_type": "markdown",
      "metadata": {
        "id": "7SS8hKW3swGQ"
      },
      "source": [
        "#### Delete a tuple"
      ]
    },
    {
      "cell_type": "code",
      "execution_count": null,
      "metadata": {
        "collapsed": true,
        "id": "gmRuqFAaswGQ"
      },
      "outputs": [],
      "source": [
        "del tuple_2"
      ]
    },
    {
      "cell_type": "markdown",
      "metadata": {
        "id": "BTE1YFOYswGS"
      },
      "source": [
        "#### Usefule methods"
      ]
    },
    {
      "cell_type": "code",
      "execution_count": null,
      "metadata": {
        "id": "4hCx5FIdswGS",
        "outputId": "68daddc3-b013-4e30-dc16-c495939b6250"
      },
      "outputs": [
        {
          "name": "stdout",
          "output_type": "stream",
          "text": [
            "5\n",
            "2\n",
            "3\n",
            "('a', 'b', 'a', 'b', 'a', 'b', 'a', 'b', 'a', 'b')\n",
            "(1, 2, 3, 4, 5, 6)\n",
            "('a', 'b', 'c', 'd')\n",
            "['a', 'b', 'c', 'd']\n",
            "('H', 'e', 'l', 'l', 'o')\n"
          ]
        }
      ],
      "source": [
        "my_tuple = ('a','p','p','l','e',)\n",
        "\n",
        "# len() : get the number of elements in a tuple\n",
        "print(len(my_tuple))\n",
        "\n",
        "# count(x) : Return the number of items that is equal to x\n",
        "print(my_tuple.count('p'))\n",
        "\n",
        "# index(x) : Return index of first item that is equal to x\n",
        "print(my_tuple.index('l'))\n",
        "\n",
        "# repetition\n",
        "my_tuple = ('a', 'b') * 5\n",
        "print(my_tuple)\n",
        "\n",
        "# concatenation\n",
        "my_tuple = (1,2,3) + (4,5,6)\n",
        "print(my_tuple)\n",
        "\n",
        "# convert list to a tuple and vice versa\n",
        "my_list = ['a', 'b', 'c', 'd']\n",
        "list_to_tuple = tuple(my_list)\n",
        "print(list_to_tuple)\n",
        "\n",
        "tuple_to_list = list(list_to_tuple)\n",
        "print(tuple_to_list)\n",
        "\n",
        "# convert string to tuple\n",
        "string_to_tuple = tuple('Hello')\n",
        "print(string_to_tuple)"
      ]
    },
    {
      "cell_type": "markdown",
      "metadata": {
        "id": "yIuWbbkdswGT"
      },
      "source": [
        "#### Unpack tuple"
      ]
    },
    {
      "cell_type": "code",
      "execution_count": null,
      "metadata": {
        "id": "xNOmA15GswGT",
        "outputId": "26aa5d41-4d57-4f01-f989-8cacf299f37e"
      },
      "outputs": [
        {
          "name": "stdout",
          "output_type": "stream",
          "text": [
            "Max\n",
            "28\n",
            "New York\n",
            "0\n",
            "[1, 2, 3, 4]\n",
            "5\n"
          ]
        }
      ],
      "source": [
        "# number of variables have to match number of tuple elements\n",
        "tuple_1 = (\"Max\", 28, \"New York\")\n",
        "name, age, city = tuple_1\n",
        "print(name)\n",
        "print(age)\n",
        "print(city)\n",
        "\n",
        "# tip: unpack multiple elements to a list with *\n",
        "my_tuple = (0, 1, 2, 3, 4, 5)\n",
        "item_first, *items_between, item_last = my_tuple\n",
        "print(item_first)\n",
        "print(items_between)\n",
        "print(item_last)"
      ]
    },
    {
      "cell_type": "markdown",
      "metadata": {
        "id": "SLK8pcyYswGU"
      },
      "source": [
        "#### Compare tuple and list\n",
        "The immutability of tuples enables Python to make internal optimizations. Thus, tuples can be more efficient when working with large data."
      ]
    },
    {
      "cell_type": "code",
      "execution_count": null,
      "metadata": {
        "id": "ZUsF0elGswGU",
        "outputId": "d9c7200e-763a-40fa-a8a3-c4260fedfe79"
      },
      "outputs": [
        {
          "name": "stdout",
          "output_type": "stream",
          "text": [
            "104 bytes\n",
            "88 bytes\n",
            "0.12474981700000853\n",
            "0.014836141000017733\n"
          ]
        }
      ],
      "source": [
        "# compare the size\n",
        "import sys\n",
        "my_list = [0, 1, 2, \"hello\", True]\n",
        "my_tuple = (0, 1, 2, \"hello\", True)\n",
        "print(sys.getsizeof(my_list), \"bytes\")\n",
        "print(sys.getsizeof(my_tuple), \"bytes\")\n",
        "\n",
        "# compare the execution time of a list vs. tuple creation statement\n",
        "import timeit\n",
        "print(timeit.timeit(stmt=\"[0, 1, 2, 3, 4, 5]\", number=1000000))\n",
        "print(timeit.timeit(stmt=\"(0, 1, 2, 3, 4, 5)\", number=1000000))"
      ]
    }
  ],
  "metadata": {
    "kernelspec": {
      "display_name": "Python [conda env:pythonengineer_env]",
      "language": "python",
      "name": "conda-env-pythonengineer_env-py"
    },
    "language_info": {
      "codemirror_mode": {
        "name": "ipython",
        "version": 3
      },
      "file_extension": ".py",
      "mimetype": "text/x-python",
      "name": "python",
      "nbconvert_exporter": "python",
      "pygments_lexer": "ipython3",
      "version": "3.7.3"
    },
    "colab": {
      "provenance": [],
      "include_colab_link": true
    }
  },
  "nbformat": 4,
  "nbformat_minor": 0
}