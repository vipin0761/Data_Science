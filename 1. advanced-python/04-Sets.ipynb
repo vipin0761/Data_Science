{
  "cells": [
    {
      "cell_type": "markdown",
      "metadata": {
        "id": "view-in-github",
        "colab_type": "text"
      },
      "source": [
        "<a href=\"https://colab.research.google.com/github/vipin0761/python-engineer-notebooks/blob/master/advanced-python/04-Sets.ipynb\" target=\"_parent\"><img src=\"https://colab.research.google.com/assets/colab-badge.svg\" alt=\"Open In Colab\"/></a>"
      ]
    },
    {
      "cell_type": "markdown",
      "metadata": {
        "id": "iV43QGHwtMvV"
      },
      "source": [
        "# Sets\n",
        "A Set is an unordered collection data type that is unindexed, mutable, and has no duplicate elements. Sets are created with braces.\n",
        "\n",
        "`my_set = {\"apple\", \"banana\", \"cherry\"}`"
      ]
    },
    {
      "cell_type": "markdown",
      "metadata": {
        "id": "DzoIzrxgtMvY"
      },
      "source": [
        "#### Create a set\n",
        "Use curly braces or the built-in set function."
      ]
    },
    {
      "cell_type": "code",
      "execution_count": null,
      "metadata": {
        "id": "qprBR7_otMvZ",
        "outputId": "eda447e5-13eb-4ea2-bf12-e7cdf603ae07"
      },
      "outputs": [
        {
          "name": "stdout",
          "output_type": "stream",
          "text": [
            "{'banana', 'apple', 'cherry'}\n",
            "{'three', 'one', 'two'}\n",
            "{'b', 'c', 'd', 'e', 'f', 'a'}\n",
            "<class 'dict'>\n",
            "<class 'set'>\n"
          ]
        }
      ],
      "source": [
        "my_set = {\"apple\", \"banana\", \"cherry\"}\n",
        "print(my_set)\n",
        "\n",
        "# or use the set function and create from an iterable, e.g. list, tuple, string\n",
        "my_set_2 = set([\"one\", \"two\", \"three\"])\n",
        "my_set_2 = set((\"one\", \"two\", \"three\"))\n",
        "print(my_set_2)\n",
        "\n",
        "my_set_3 = set(\"aaabbbcccdddeeeeeffff\")\n",
        "print(my_set_3)\n",
        "\n",
        "# careful: an empty set cannot be created with {}, as this is interpreted as dict\n",
        "# use set() instead\n",
        "a = {}\n",
        "print(type(a))\n",
        "a = set()\n",
        "print(type(a))"
      ]
    },
    {
      "cell_type": "markdown",
      "metadata": {
        "id": "A6jRn7RZtMvb"
      },
      "source": [
        "#### Add elements"
      ]
    },
    {
      "cell_type": "code",
      "execution_count": null,
      "metadata": {
        "id": "s385NAJMtMvb",
        "outputId": "5ff77137-6e3f-47d2-f568-e42a272574d5"
      },
      "outputs": [
        {
          "name": "stdout",
          "output_type": "stream",
          "text": [
            "{True, 42, 'Hello'}\n",
            "{True, 42, 'Hello'}\n"
          ]
        }
      ],
      "source": [
        "my_set = set()\n",
        "\n",
        "# use the add() method to add elements\n",
        "my_set.add(42)\n",
        "my_set.add(True)\n",
        "my_set.add(\"Hello\")\n",
        "\n",
        "# note: the order does not matter, and might differ when printed\n",
        "print(my_set)\n",
        "\n",
        "# nothing happens when the element is already present:\n",
        "my_set.add(42)\n",
        "print(my_set)"
      ]
    },
    {
      "cell_type": "markdown",
      "metadata": {
        "id": "qxNuIpGZtMvc"
      },
      "source": [
        "#### Remove elements"
      ]
    },
    {
      "cell_type": "code",
      "execution_count": null,
      "metadata": {
        "id": "gv3hGKBqtMvc",
        "outputId": "de6465fa-9dda-492b-c668-ed80ba0a53cb"
      },
      "outputs": [
        {
          "name": "stdout",
          "output_type": "stream",
          "text": [
            "{'banana', 'cherry'}\n",
            "{'banana'}\n",
            "set()\n",
            "False\n",
            "{True, 2, 'hi', 'hello'}\n"
          ]
        }
      ],
      "source": [
        "# remove(x): removes x, raises a KeyError if element is not present\n",
        "my_set = {\"apple\", \"banana\", \"cherry\"}\n",
        "my_set.remove(\"apple\")\n",
        "print(my_set)\n",
        "\n",
        "# KeyError:\n",
        "# my_set.remove(\"orange\")\n",
        "\n",
        "# discard(x): removes x, does nothing if element is not present\n",
        "my_set.discard(\"cherry\")\n",
        "my_set.discard(\"blueberry\")\n",
        "print(my_set)\n",
        "\n",
        "# clear() : remove all elements\n",
        "my_set.clear()\n",
        "print(my_set)\n",
        "\n",
        "# pop() : return and remove a random element\n",
        "a = {True, 2, False, \"hi\", \"hello\"}\n",
        "print(a.pop())\n",
        "print(a)"
      ]
    },
    {
      "cell_type": "markdown",
      "metadata": {
        "id": "7TShMu-dtMve"
      },
      "source": [
        "#### Union and Intersection"
      ]
    },
    {
      "cell_type": "code",
      "execution_count": 1,
      "metadata": {
        "id": "kIZEPCX_tMve",
        "outputId": "6455bf58-4ed9-4614-da01-afc706025bfb",
        "colab": {
          "base_uri": "https://localhost:8080/"
        }
      },
      "outputs": [
        {
          "output_type": "stream",
          "name": "stdout",
          "text": [
            "{0, 1, 2, 3, 4, 5, 6, 7, 8, 9}\n",
            "set()\n",
            "{3, 5, 7}\n",
            "{2}\n"
          ]
        }
      ],
      "source": [
        "odds = {1, 3, 5, 7, 9}\n",
        "evens = {0, 2, 4, 6, 8}\n",
        "primes = {2, 3, 5, 7}\n",
        "\n",
        "# union() : combine elements from both sets, no duplication\n",
        "# note that this does not change the two sets\n",
        "u = odds.union(evens)\n",
        "print(u)\n",
        "\n",
        "# intersection(): take elements that are in both sets\n",
        "i = odds.intersection(evens)\n",
        "print(i)\n",
        "\n",
        "i = odds.intersection(primes)\n",
        "print(i)\n",
        "\n",
        "i = evens.intersection(primes)\n",
        "print(i)"
      ]
    },
    {
      "cell_type": "markdown",
      "metadata": {
        "id": "fNj8I_IjtMve"
      },
      "source": [
        "#### Difference of sets"
      ]
    },
    {
      "cell_type": "code",
      "execution_count": null,
      "metadata": {
        "id": "jBsWLFDQtMve",
        "outputId": "a1f60c91-49d9-4017-bc94-b139bee65455"
      },
      "outputs": [
        {
          "name": "stdout",
          "output_type": "stream",
          "text": [
            "{4, 5, 6, 7, 8, 9}\n",
            "{10, 11, 12}\n",
            "{4, 5, 6, 7, 8, 9, 10, 11, 12}\n",
            "{4, 5, 6, 7, 8, 9, 10, 11, 12}\n"
          ]
        }
      ],
      "source": [
        "setA = {1, 2, 3, 4, 5, 6, 7, 8, 9}\n",
        "setB = {1, 2, 3, 10, 11, 12}\n",
        "\n",
        "# difference() : returns a set with all the elements from the setA that are not in setB.\n",
        "diff_set = setA.difference(setB)\n",
        "print(diff_set)\n",
        "\n",
        "# A.difference(B) is not the same as B.difference(A)\n",
        "diff_set = setB.difference(setA)\n",
        "print(diff_set)\n",
        "\n",
        "# symmetric_difference() : returns a set with all the elements that are in setA and setB but not in both\n",
        "diff_set = setA.symmetric_difference(setB)\n",
        "print(diff_set)\n",
        "\n",
        "# A.symmetric_difference(B) = B.symmetric_difference(A)\n",
        "diff_set = setB.symmetric_difference(setA)\n",
        "print(diff_set)"
      ]
    },
    {
      "cell_type": "markdown",
      "metadata": {
        "id": "jWf4dePBtMve"
      },
      "source": [
        "#### Updating sets"
      ]
    },
    {
      "cell_type": "code",
      "execution_count": null,
      "metadata": {
        "id": "k0mHJzABtMve",
        "outputId": "8b56c45e-fb3c-4136-a7aa-f95aa055c360"
      },
      "outputs": [
        {
          "name": "stdout",
          "output_type": "stream",
          "text": [
            "{1, 2, 3, 4, 5, 6, 7, 8, 9, 10, 11, 12}\n",
            "{1, 2, 3}\n",
            "{4, 5, 6, 7, 8, 9}\n",
            "{4, 5, 6, 7, 8, 9, 10, 11, 12}\n"
          ]
        }
      ],
      "source": [
        "setA = {1, 2, 3, 4, 5, 6, 7, 8, 9}\n",
        "setB = {1, 2, 3, 10, 11, 12}\n",
        "\n",
        "# update() : Update the set by adding elements from another set.\n",
        "setA.update(setB)\n",
        "print(setA)\n",
        "\n",
        "# intersection_update() : Update the set by keeping only the elements found in both\n",
        "setA = {1, 2, 3, 4, 5, 6, 7, 8, 9}\n",
        "setA.intersection_update(setB)\n",
        "print(setA)\n",
        "\n",
        "# difference_update() : Update the set by removing elements found in another set.\n",
        "setA = {1, 2, 3, 4, 5, 6, 7, 8, 9}\n",
        "setA.difference_update(setB)\n",
        "print(setA)\n",
        "\n",
        "# symmetric_difference_update() : Update the set by only keeping the elements found in either set, but not in both\n",
        "setA = {1, 2, 3, 4, 5, 6, 7, 8, 9}\n",
        "setA.symmetric_difference_update(setB)\n",
        "print(setA)\n",
        "\n",
        "# Note: all update methods also work with other iterables as argument, e.g lists, tuples\n",
        "# setA.update([1, 2, 3, 4, 5, 6])"
      ]
    },
    {
      "cell_type": "markdown",
      "metadata": {
        "id": "1KNuu0aytMvf"
      },
      "source": [
        "#### Copying"
      ]
    },
    {
      "cell_type": "code",
      "execution_count": null,
      "metadata": {
        "id": "XEaQCBtFtMvf",
        "outputId": "f0be8ae5-47bf-4dcb-c884-4e0e0f3c0190"
      },
      "outputs": [
        {
          "name": "stdout",
          "output_type": "stream",
          "text": [
            "{1, 2, 3, 4, 5, 6, 7}\n",
            "{1, 2, 3, 4, 5, 6, 7}\n",
            "{1, 2, 3, 4, 5, 6, 7}\n",
            "{1, 2, 3, 4, 5}\n"
          ]
        }
      ],
      "source": [
        "set_org = {1, 2, 3, 4, 5}\n",
        "\n",
        "# this just copies the reference to the set, so be careful\n",
        "set_copy = set_org\n",
        "\n",
        "# now modifying the copy also affects the original\n",
        "set_copy.update([3, 4, 5, 6, 7])\n",
        "print(set_copy)\n",
        "print(set_org)\n",
        "\n",
        "# use copy() to actually copy the set\n",
        "set_org = {1, 2, 3, 4, 5}\n",
        "set_copy = set_org.copy()\n",
        "\n",
        "# now modifying the copy does not affect the original\n",
        "set_copy.update([3, 4, 5, 6, 7])\n",
        "print(set_copy)\n",
        "print(set_org)"
      ]
    },
    {
      "cell_type": "markdown",
      "metadata": {
        "id": "_cgb2-I2tMvf"
      },
      "source": [
        "#### Subset, Superset, and Disjoint"
      ]
    },
    {
      "cell_type": "code",
      "execution_count": null,
      "metadata": {
        "id": "9UqKWsBmtMvf",
        "outputId": "71bf5738-cc14-464e-f622-90314b828857"
      },
      "outputs": [
        {
          "name": "stdout",
          "output_type": "stream",
          "text": [
            "False\n",
            "True\n",
            "True\n",
            "False\n",
            "False\n",
            "True\n"
          ]
        }
      ],
      "source": [
        "setA = {1, 2, 3, 4, 5, 6}\n",
        "setB = {1, 2, 3}\n",
        "# issubset(setX): Returns True if setX contains the set\n",
        "print(setA.issubset(setB))\n",
        "print(setB.issubset(setA)) # True\n",
        "\n",
        "# issuperset(setX): Returns True if the set contains setX\n",
        "print(setA.issuperset(setB)) # True\n",
        "print(setB.issuperset(setA))\n",
        "\n",
        "# isdisjoint(setX) : Return True if both sets have a null intersection, i.e. no same elements\n",
        "setC = {7, 8, 9}\n",
        "print(setA.isdisjoint(setB))\n",
        "print(setA.isdisjoint(setC))"
      ]
    },
    {
      "cell_type": "markdown",
      "metadata": {
        "id": "YIZSs2SFtMvf"
      },
      "source": [
        "#### Frozenset\n",
        "Frozen set is just an immutable version of normal set. While elements of a set can be modified at any time, elements of frozen set remains the same after creation.\n",
        "Creation with: `my_frozenset = frozenset(iterable)`"
      ]
    },
    {
      "cell_type": "code",
      "execution_count": null,
      "metadata": {
        "id": "pAvXAAK_tMvf",
        "outputId": "1ed5e288-66dd-447f-d3c0-447d7d17243d"
      },
      "outputs": [
        {
          "name": "stdout",
          "output_type": "stream",
          "text": [
            "frozenset({0, 1, 2, 3, 4, 5, 6, 7, 8, 9})\n",
            "frozenset()\n",
            "frozenset({1, 3, 5, 7, 9})\n"
          ]
        }
      ],
      "source": [
        "a = frozenset([0, 1, 2, 3, 4])\n",
        "\n",
        "# The following is not allowed:\n",
        "# a.add(5)\n",
        "# a.remove(1)\n",
        "# a.discard(1)\n",
        "# a.clear()\n",
        "\n",
        "# Also no update methods are allowed:\n",
        "# a.update([1,2,3])\n",
        "\n",
        "# Other set operations work\n",
        "odds = frozenset({1, 3, 5, 7, 9})\n",
        "evens = frozenset({0, 2, 4, 6, 8})\n",
        "print(odds.union(evens))\n",
        "print(odds.intersection(evens))\n",
        "print(odds.difference(evens))"
      ]
    }
  ],
  "metadata": {
    "kernelspec": {
      "display_name": "Python [conda env:pythonengineer_env]",
      "language": "python",
      "name": "conda-env-pythonengineer_env-py"
    },
    "language_info": {
      "codemirror_mode": {
        "name": "ipython",
        "version": 3
      },
      "file_extension": ".py",
      "mimetype": "text/x-python",
      "name": "python",
      "nbconvert_exporter": "python",
      "pygments_lexer": "ipython3",
      "version": "3.7.3"
    },
    "colab": {
      "provenance": [],
      "include_colab_link": true
    }
  },
  "nbformat": 4,
  "nbformat_minor": 0
}