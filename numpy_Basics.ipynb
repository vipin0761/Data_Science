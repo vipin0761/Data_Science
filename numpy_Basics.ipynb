{
  "cells": [
    {
      "cell_type": "markdown",
      "metadata": {
        "id": "view-in-github",
        "colab_type": "text"
      },
      "source": [
        "<a href=\"https://colab.research.google.com/github/vipin0761/Data_Science/blob/main/numpy_Basics.ipynb\" target=\"_parent\"><img src=\"https://colab.research.google.com/assets/colab-badge.svg\" alt=\"Open In Colab\"/></a>"
      ]
    },
    {
      "cell_type": "markdown",
      "id": "c072d960",
      "metadata": {
        "id": "c072d960"
      },
      "source": [
        "\t• numpy is a numerical computing library for python\n",
        "\t• numpy support multi domensional arrays and matrices\n",
        "\t• it has a lot of in-built mathematical functions\n",
        "    \n",
        "    why Numpy\n",
        "\t• perform fast operations ( because of vectorization )\n",
        "\t• numpy arrays can be treated as vectors and matrices from linear algebra"
      ]
    },
    {
      "cell_type": "code",
      "execution_count": null,
      "id": "8ae8f6e2",
      "metadata": {
        "id": "8ae8f6e2"
      },
      "outputs": [],
      "source": [
        "import numpy as np\n"
      ]
    },
    {
      "cell_type": "code",
      "execution_count": null,
      "id": "75eae503",
      "metadata": {
        "id": "75eae503"
      },
      "outputs": [],
      "source": [
        "arr = np.array([1,2,3,4,5,6,7,8,9,10])"
      ]
    },
    {
      "cell_type": "code",
      "execution_count": null,
      "id": "ba2e0038",
      "metadata": {
        "id": "ba2e0038",
        "outputId": "cce9f9c6-b6dc-421f-9db4-f71caa4e9954"
      },
      "outputs": [
        {
          "name": "stdout",
          "output_type": "stream",
          "text": [
            "470 ns ± 3.19 ns per loop (mean ± std. dev. of 7 runs, 1,000,000 loops each)\n"
          ]
        }
      ],
      "source": [
        "%timeit arr**2"
      ]
    },
    {
      "cell_type": "markdown",
      "id": "2f144e3e",
      "metadata": {
        "id": "2f144e3e"
      },
      "source": [
        "array: Fundamental element in numpy is homogenous array. Numpy arrays can be 1D, 2D, 3D ..... nD\n",
        "\n",
        "different ways to create np arrays\n",
        "    1. np.array()\n",
        "    2. np.arange()\n",
        "\n",
        "Special arrays in Numpy\n",
        "\n",
        "    Zeros()\n",
        "    ones()\n",
        "    diag()\n",
        "    identity()\n"
      ]
    },
    {
      "cell_type": "markdown",
      "id": "06c29013",
      "metadata": {
        "id": "06c29013"
      },
      "source": [
        "###### declaring numpy array"
      ]
    },
    {
      "cell_type": "code",
      "execution_count": null,
      "id": "504e7ce5",
      "metadata": {
        "id": "504e7ce5",
        "outputId": "d680f9f2-7f2d-4300-f0de-4eb068f731bd"
      },
      "outputs": [
        {
          "data": {
            "text/plain": [
              "array([1, 2, 3, 4, 5])"
            ]
          },
          "execution_count": 20,
          "metadata": {},
          "output_type": "execute_result"
        }
      ],
      "source": [
        "np_arr = np.array([1,2,3,4,5])\n",
        "np_arr"
      ]
    },
    {
      "cell_type": "code",
      "execution_count": null,
      "id": "0ae2120a",
      "metadata": {
        "id": "0ae2120a",
        "outputId": "0931158f-5dc1-4e0e-c2ab-158aef7e33e2"
      },
      "outputs": [
        {
          "data": {
            "text/plain": [
              "array([ 1,  3,  5,  7,  9, 11])"
            ]
          },
          "execution_count": 21,
          "metadata": {},
          "output_type": "execute_result"
        }
      ],
      "source": [
        "new_arr = np.arange(1,13,2)\n",
        "new_arr"
      ]
    },
    {
      "cell_type": "code",
      "execution_count": null,
      "id": "1f335cce",
      "metadata": {
        "id": "1f335cce",
        "outputId": "edec8d22-3b4d-42ba-a99f-0846b19c29f7"
      },
      "outputs": [
        {
          "data": {
            "text/plain": [
              "array([[0., 0., 0.],\n",
              "       [0., 0., 0.],\n",
              "       [0., 0., 0.]])"
            ]
          },
          "execution_count": 22,
          "metadata": {},
          "output_type": "execute_result"
        }
      ],
      "source": [
        "np_zeros = np.zeros((3,3,))\n",
        "np_zeros"
      ]
    },
    {
      "cell_type": "code",
      "execution_count": null,
      "id": "8f33ba42",
      "metadata": {
        "id": "8f33ba42",
        "outputId": "058b28ac-7848-4b81-c0e7-a016c892919d"
      },
      "outputs": [
        {
          "data": {
            "text/plain": [
              "array([[1., 1., 1.],\n",
              "       [1., 1., 1.],\n",
              "       [1., 1., 1.]])"
            ]
          },
          "execution_count": 25,
          "metadata": {},
          "output_type": "execute_result"
        }
      ],
      "source": [
        "np_ones = np.ones((3,3))\n",
        "np_ones"
      ]
    },
    {
      "cell_type": "code",
      "execution_count": null,
      "id": "65f4829f",
      "metadata": {
        "id": "65f4829f",
        "outputId": "c991095d-ae22-423a-e40a-f6aeefd8c5d4"
      },
      "outputs": [
        {
          "data": {
            "text/plain": [
              "array([[1, 0, 0],\n",
              "       [0, 2, 0],\n",
              "       [0, 0, 3]])"
            ]
          },
          "execution_count": 23,
          "metadata": {},
          "output_type": "execute_result"
        }
      ],
      "source": [
        "np_diag = np.diag([1,2,3])\n",
        "np_diag"
      ]
    },
    {
      "cell_type": "code",
      "execution_count": null,
      "id": "ddcf34fc",
      "metadata": {
        "id": "ddcf34fc",
        "outputId": "16a029c4-5734-4480-f3a0-159670bf0ed0"
      },
      "outputs": [
        {
          "data": {
            "text/plain": [
              "array([[1., 0., 0.],\n",
              "       [0., 1., 0.],\n",
              "       [0., 0., 1.]])"
            ]
          },
          "execution_count": 24,
          "metadata": {},
          "output_type": "execute_result"
        }
      ],
      "source": [
        "np_identity = np.identity(3)\n",
        "np_identity"
      ]
    },
    {
      "cell_type": "code",
      "execution_count": null,
      "id": "f662e9e3",
      "metadata": {
        "id": "f662e9e3",
        "outputId": "91c5c267-27d1-4bcd-d89b-8148f9de1d6b"
      },
      "outputs": [
        {
          "data": {
            "text/plain": [
              "numpy.ndarray"
            ]
          },
          "execution_count": 14,
          "metadata": {},
          "output_type": "execute_result"
        }
      ],
      "source": [
        "type(np_arr)"
      ]
    },
    {
      "cell_type": "code",
      "execution_count": null,
      "id": "90d770ca",
      "metadata": {
        "id": "90d770ca",
        "outputId": "d3d2075e-1b30-4f81-a6cb-77c6aabc7e31"
      },
      "outputs": [
        {
          "data": {
            "text/plain": [
              "1"
            ]
          },
          "execution_count": 15,
          "metadata": {},
          "output_type": "execute_result"
        }
      ],
      "source": [
        "np_arr.ndim # no. of dimensions of the array"
      ]
    },
    {
      "cell_type": "code",
      "execution_count": null,
      "id": "141d0529",
      "metadata": {
        "id": "141d0529",
        "outputId": "f67b745f-3f05-45b8-c4e7-dcea30a23966"
      },
      "outputs": [
        {
          "data": {
            "text/plain": [
              "(5,)"
            ]
          },
          "execution_count": 16,
          "metadata": {},
          "output_type": "execute_result"
        }
      ],
      "source": [
        "np_arr.shape # (no. of rows, no. of columns)"
      ]
    },
    {
      "cell_type": "markdown",
      "id": "192e33af",
      "metadata": {
        "id": "192e33af"
      },
      "source": [
        "###### Indexing in Array"
      ]
    },
    {
      "cell_type": "code",
      "execution_count": null,
      "id": "fd7053d4",
      "metadata": {
        "id": "fd7053d4",
        "outputId": "1d5b3e78-37eb-4f86-e3a4-6cbf1b99c3ea"
      },
      "outputs": [
        {
          "data": {
            "text/plain": [
              "array([[21, 21, 54, 88],\n",
              "       [21, 43, 98, 37],\n",
              "       [10, 15, 36, 64],\n",
              "       [76, 75, 53, 29],\n",
              "       [12, 29, 78, 15]])"
            ]
          },
          "execution_count": 26,
          "metadata": {},
          "output_type": "execute_result"
        }
      ],
      "source": [
        "new_arr = np.random.randint(10, 100, (5,4))\n",
        "new_arr"
      ]
    },
    {
      "cell_type": "code",
      "execution_count": null,
      "id": "00ec8971",
      "metadata": {
        "id": "00ec8971",
        "outputId": "fcd58004-7f46-445d-d713-b010b9a97538"
      },
      "outputs": [
        {
          "data": {
            "text/plain": [
              "(5, 4)"
            ]
          },
          "execution_count": 27,
          "metadata": {},
          "output_type": "execute_result"
        }
      ],
      "source": [
        "new_arr.shape"
      ]
    },
    {
      "cell_type": "code",
      "execution_count": null,
      "id": "e0745a89",
      "metadata": {
        "id": "e0745a89",
        "outputId": "d4559145-20ed-40cb-b829-0d998a7e66d5"
      },
      "outputs": [
        {
          "data": {
            "text/plain": [
              "array([12, 29, 78, 15])"
            ]
          },
          "execution_count": 28,
          "metadata": {},
          "output_type": "execute_result"
        }
      ],
      "source": [
        "new_arr[1]\n",
        "new_arr[-1] # access row"
      ]
    },
    {
      "cell_type": "code",
      "execution_count": null,
      "id": "a623f32a",
      "metadata": {
        "id": "a623f32a",
        "outputId": "0e09bd30-578e-4980-f418-ff6a2d7dd372"
      },
      "outputs": [
        {
          "data": {
            "text/plain": [
              "43"
            ]
          },
          "execution_count": 29,
          "metadata": {},
          "output_type": "execute_result"
        }
      ],
      "source": [
        "new_arr[1,1] # access element"
      ]
    },
    {
      "cell_type": "markdown",
      "id": "595acac7",
      "metadata": {
        "id": "595acac7"
      },
      "source": [
        "###### Array Slicing"
      ]
    },
    {
      "cell_type": "code",
      "execution_count": null,
      "id": "53ee6053",
      "metadata": {
        "id": "53ee6053"
      },
      "outputs": [],
      "source": [
        "# arr [ start row index: end row index + 1, start column index : end column index + 1 ]"
      ]
    },
    {
      "cell_type": "code",
      "execution_count": null,
      "id": "5d90732a",
      "metadata": {
        "id": "5d90732a",
        "outputId": "4739f287-bcbe-43f9-ab5e-163dbf83dfd7"
      },
      "outputs": [
        {
          "data": {
            "text/plain": [
              "array([[21],\n",
              "       [43],\n",
              "       [15],\n",
              "       [75],\n",
              "       [29]])"
            ]
          },
          "execution_count": 31,
          "metadata": {},
          "output_type": "execute_result"
        }
      ],
      "source": [
        "new_arr [0:,1:2]"
      ]
    },
    {
      "cell_type": "markdown",
      "id": "5ff4af72",
      "metadata": {
        "id": "5ff4af72"
      },
      "source": [
        "###### masking"
      ]
    },
    {
      "cell_type": "code",
      "execution_count": null,
      "id": "e00df662",
      "metadata": {
        "id": "e00df662",
        "outputId": "101f20bf-f719-4d96-d9ff-cc6b277013b0"
      },
      "outputs": [
        {
          "data": {
            "text/plain": [
              "array([[False, False,  True,  True],\n",
              "       [False,  True,  True,  True],\n",
              "       [False, False,  True,  True],\n",
              "       [ True,  True,  True,  True],\n",
              "       [False,  True,  True, False]])"
            ]
          },
          "execution_count": 36,
          "metadata": {},
          "output_type": "execute_result"
        }
      ],
      "source": [
        "mask = new_arr > 25\n",
        "mask"
      ]
    },
    {
      "cell_type": "code",
      "execution_count": null,
      "id": "8deab280",
      "metadata": {
        "id": "8deab280",
        "outputId": "6e9b28c0-e611-43a0-c964-7b4152547ea6"
      },
      "outputs": [
        {
          "data": {
            "text/plain": [
              "array([54, 88, 43, 98, 37, 36, 64, 76, 75, 53, 29, 29, 78])"
            ]
          },
          "execution_count": 33,
          "metadata": {},
          "output_type": "execute_result"
        }
      ],
      "source": [
        "new_arr[mask] # get all emenets greater than 25"
      ]
    },
    {
      "cell_type": "code",
      "execution_count": null,
      "id": "fc94158c",
      "metadata": {
        "id": "fc94158c",
        "outputId": "1b5b92d7-6fd8-4228-9ecc-8af65aa884e4"
      },
      "outputs": [
        {
          "ename": "SyntaxError",
          "evalue": "cannot assign to function call (1781982963.py, line 1)",
          "output_type": "error",
          "traceback": [
            "\u001b[1;36m  Input \u001b[1;32mIn [35]\u001b[1;36m\u001b[0m\n\u001b[1;33m    np.sum(mask) = no of elements greater than 25\u001b[0m\n\u001b[1;37m    ^\u001b[0m\n\u001b[1;31mSyntaxError\u001b[0m\u001b[1;31m:\u001b[0m cannot assign to function call\n"
          ]
        }
      ],
      "source": [
        "np.sum(mask) = no of elements greater than 25"
      ]
    },
    {
      "cell_type": "markdown",
      "id": "159af575",
      "metadata": {
        "id": "159af575"
      },
      "source": [
        "Basic operations on arrays\n",
        "+,-,*,/,%,** are elementary operators and can be performed on any 2 matrix of same shape"
      ]
    },
    {
      "cell_type": "code",
      "execution_count": null,
      "id": "da4adbe8",
      "metadata": {
        "id": "da4adbe8"
      },
      "outputs": [],
      "source": [
        "a = np.array([10,20,30,40])\n",
        "b = np.arange(1,5)\n",
        "print(a,b)\n",
        "print(a+b)\n",
        "print(a-b)\n",
        "print(np.log(a))\n",
        "print(np.sin(a))\n",
        "print(np.sqrt(a))\n",
        "print(np.sum(a))\n",
        "print(np.max(a))\n",
        "print(np.min(a))\n",
        "print(np.mean(a))\n",
        "print(np.std(a))"
      ]
    },
    {
      "cell_type": "code",
      "execution_count": null,
      "id": "58a3f047",
      "metadata": {
        "id": "58a3f047"
      },
      "outputs": [],
      "source": [
        "# matrix product\n",
        "A = np.random.randint(0,5,(3,4))\n",
        "B = np.random.randint(0,5,(4,2))\n",
        "print(np.dot(A,B))"
      ]
    },
    {
      "cell_type": "code",
      "execution_count": null,
      "id": "560d0f0f",
      "metadata": {
        "id": "560d0f0f"
      },
      "outputs": [],
      "source": [
        "# reshape array\n",
        "n = np.arange(0,24)\n",
        "b = n.reshape(6,4)\n",
        "print(b)\n",
        "print(np.sum(b, axis=0)) # sum column wise\n",
        "print(np.sum(b, axis=1)) # sum row wise"
      ]
    },
    {
      "cell_type": "code",
      "execution_count": null,
      "id": "1b30728b",
      "metadata": {
        "id": "1b30728b"
      },
      "outputs": [],
      "source": [
        "# Shape manipulation\n",
        "print(b.flatten()) # convert the array to 1D\n",
        "print(b.reshape(8,3)) # reshape the array (new size should have same no of elements)\n",
        "print(b.T) # transpose the array\n",
        "print(np.transpose(b)) # transpose the array"
      ]
    },
    {
      "cell_type": "code",
      "execution_count": null,
      "id": "2dad3434",
      "metadata": {
        "id": "2dad3434"
      },
      "outputs": [],
      "source": [
        "# stacking of arrays\n",
        "a = np.random.randint(0,5,(2,2))\n",
        "b = np.random.randint(0,5,(2,2))\n",
        "\n",
        "print(np.hstack((a,b))) # horizontal stacking\n",
        "print(np.vstack((a,b))) # vertical stacking"
      ]
    },
    {
      "cell_type": "markdown",
      "id": "d6f06401",
      "metadata": {
        "id": "d6f06401"
      },
      "source": [
        "###### Broadcasting\n",
        "    2 arrays can perform operations in numpy only when they have the same shapes\n",
        "    broadcasting let two arrays of different shapes to do some operations\n",
        "        a small array will repeat itself, and convert to the same shape as of another array\n"
      ]
    },
    {
      "cell_type": "code",
      "execution_count": null,
      "id": "be756d30",
      "metadata": {
        "id": "be756d30"
      },
      "outputs": [],
      "source": [
        "A = np.random.randint(0,5,(3,3))\n",
        "a = np.array([1,2,3])\n",
        "print(A+a)\n",
        "print(A+a.T)"
      ]
    },
    {
      "cell_type": "markdown",
      "id": "6910ca9b",
      "metadata": {
        "id": "6910ca9b"
      },
      "source": [
        "###### vectorization -- refers to performing operations directly on arrays"
      ]
    }
  ],
  "metadata": {
    "celltoolbar": "Raw Cell Format",
    "kernelspec": {
      "display_name": "Python 3 (ipykernel)",
      "language": "python",
      "name": "python3"
    },
    "language_info": {
      "codemirror_mode": {
        "name": "ipython",
        "version": 3
      },
      "file_extension": ".py",
      "mimetype": "text/x-python",
      "name": "python",
      "nbconvert_exporter": "python",
      "pygments_lexer": "ipython3",
      "version": "3.9.12"
    },
    "colab": {
      "provenance": [],
      "include_colab_link": true
    }
  },
  "nbformat": 4,
  "nbformat_minor": 5
}